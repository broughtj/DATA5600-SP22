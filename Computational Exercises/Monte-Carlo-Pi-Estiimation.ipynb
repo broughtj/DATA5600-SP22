{
 "cells": [
  {
   "cell_type": "code",
   "execution_count": 5,
   "id": "c9692adb-aeb5-466c-88f8-1c5184fc8742",
   "metadata": {},
   "outputs": [],
   "source": [
    "import numpy as np\n",
    "import matplotlib.pyplot as plt"
   ]
  },
  {
   "cell_type": "code",
   "execution_count": 41,
   "id": "09529fe3-f3ff-49e8-97e3-5675c68a9ff6",
   "metadata": {},
   "outputs": [],
   "source": [
    "N = 10_000_000\n",
    "y = np.random.uniform(size=N)\n",
    "x = np.random.uniform(size=N)"
   ]
  },
  {
   "cell_type": "code",
   "execution_count": 42,
   "id": "0f886ed0-b71f-4f78-a7a8-d0d157a373a8",
   "metadata": {},
   "outputs": [],
   "source": [
    "#plt.plot(x, y, '*'); plt.show()"
   ]
  },
  {
   "cell_type": "code",
   "execution_count": 43,
   "id": "362fe4f8-72ea-4881-9b87-99fa677317ee",
   "metadata": {},
   "outputs": [],
   "source": [
    "in_circle = (x**2 + y**2 <= 1).astype(int)"
   ]
  },
  {
   "cell_type": "code",
   "execution_count": 44,
   "id": "0fb00289-0831-41ef-8dd3-a496eeee6ade",
   "metadata": {},
   "outputs": [
    {
     "data": {
      "text/plain": [
       "array([1, 0, 1, ..., 1, 1, 1])"
      ]
     },
     "execution_count": 44,
     "metadata": {},
     "output_type": "execute_result"
    }
   ],
   "source": [
    "in_circle"
   ]
  },
  {
   "cell_type": "code",
   "execution_count": 45,
   "id": "13336db0-40de-42cb-bfbc-bc56474d13d5",
   "metadata": {},
   "outputs": [],
   "source": [
    "pi_est = 4. * (in_circle.sum() / N)"
   ]
  },
  {
   "cell_type": "code",
   "execution_count": 46,
   "id": "5ca52506-6efb-4151-bbe7-b0ae19259ffa",
   "metadata": {},
   "outputs": [
    {
     "name": "stdout",
     "output_type": "stream",
     "text": [
      "The Monte Carlo Estimate of Pi is:  3.1416\n"
     ]
    }
   ],
   "source": [
    "print(f\"The Monte Carlo Estimate of Pi is: {pi_est : 0.4f}\")"
   ]
  },
  {
   "cell_type": "code",
   "execution_count": null,
   "id": "94e7e466-afc1-41c0-a503-61d50d2db914",
   "metadata": {},
   "outputs": [],
   "source": []
  },
  {
   "cell_type": "code",
   "execution_count": null,
   "id": "a27ef508-4012-4689-b737-2922e1854853",
   "metadata": {},
   "outputs": [],
   "source": []
  },
  {
   "cell_type": "code",
   "execution_count": null,
   "id": "5b254a02-1139-492d-afd5-08bb1f9091f9",
   "metadata": {},
   "outputs": [],
   "source": []
  }
 ],
 "metadata": {
  "kernelspec": {
   "display_name": "Python 3",
   "language": "python",
   "name": "python3"
  },
  "language_info": {
   "codemirror_mode": {
    "name": "ipython",
    "version": 3
   },
   "file_extension": ".py",
   "mimetype": "text/x-python",
   "name": "python",
   "nbconvert_exporter": "python",
   "pygments_lexer": "ipython3",
   "version": "3.8.5"
  }
 },
 "nbformat": 4,
 "nbformat_minor": 5
}
