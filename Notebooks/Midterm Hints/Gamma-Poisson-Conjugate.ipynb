{
 "cells": [
  {
   "cell_type": "markdown",
   "id": "f6d6dfdc-62a0-4d9e-b021-aafc6bed8f20",
   "metadata": {},
   "source": [
    "# DATA 5600: Introduction to Regression and Machine Learning for Analytics\n",
    "\n",
    "## __The Gamma-Poisson Bayesian Conjugate Model__ <br>\n",
    "\n",
    "Author:  Tyler J. Brough <br>\n",
    "Updated: April 11, 2022 <br>\n",
    "\n",
    "---\n",
    "\n",
    "<br>\n",
    "<br>\n",
    "\n",
    "These notes are based on the following: https://statswithr.github.io/book/bayesian-inference.html#the-gamma-poisson-conjugate-families\n",
    "\n",
    "\n",
    "---\n",
    "\n",
    "<br>"
   ]
  },
  {
   "cell_type": "code",
   "execution_count": 1,
   "id": "c8f2c583-c4eb-422c-a914-01941d4c2180",
   "metadata": {},
   "outputs": [],
   "source": [
    "import numpy as np\n",
    "from scipy import stats\n",
    "import matplotlib.pyplot as plt\n",
    "\n",
    "plt.rcParams['figure.figsize'] = [10, 8]"
   ]
  },
  {
   "cell_type": "code",
   "execution_count": 2,
   "id": "c8489304-cdaf-4e68-a9e4-4c152f1ecdd4",
   "metadata": {},
   "outputs": [],
   "source": [
    "## set the prng seed value\n",
    "np.random.seed(123456789)"
   ]
  },
  {
   "cell_type": "markdown",
   "id": "5335cac0-db47-4035-9dbb-ea5e94c7d13a",
   "metadata": {},
   "source": [
    "## __Introduction__\n",
    "\n",
    "<br>\n",
    "\n",
    "In this note we will take a look at how to implement the Gamma-Poisson conjugate Bayesian model.\n",
    "\n",
    "<br>\n",
    "\n",
    "In this model the likelihood function takes the form of the Poisson distribution: \n",
    "\n",
    "<br>\n",
    "\n",
    "$$\n",
    "{\\Large f(x; \\lambda)=\\frac{\\lambda^x e^{-\\lambda}}{x!}}\n",
    "$$\n",
    "\n",
    "<br>"
   ]
  },
  {
   "cell_type": "markdown",
   "id": "418fed0a-1da4-4c97-8e72-d7a744695077",
   "metadata": {},
   "source": [
    "<br>\n",
    "\n",
    "And the prior takes the form of the Gamma distribution:\n",
    "\n",
    "<br>\n",
    "\n",
    "$$\n",
    "{\\Large p(\\lambda) = \\lambda^{k-1}\\frac{e^{-\\lambda/\\theta}}{\\theta^k\\Gamma(k)}}\n",
    "$$\n",
    "\n",
    "<br>"
   ]
  },
  {
   "cell_type": "markdown",
   "id": "12420842-ddcc-4560-8fce-2c60f92fbf65",
   "metadata": {},
   "source": [
    "<br>\n",
    "\n",
    "* Because we know this is a conjugate model a priori we know that the posterior will take the same form as the prior. \n",
    "\n",
    "* The prior is $\\lambda \\sim Gamma(k, \\theta)$ with prior hyperparameters $k$ and $\\theta$\n",
    "\n",
    "* The posterior will then be $\\lambda | x \\sim Gamma(k^{\\ast}, \\theta^{\\ast})$ with posterior hyperparameters $k^{\\ast} = k + \\sum x_{i}$ and $\\theta^{\\ast} = \\frac{\\theta}{n\\theta + 1}$\n",
    "\n",
    "* The updating part of Bayes' Rule is embedded in these calculations, so there is nothing more we need to do. We just calculate these posterior hyperparameters directly and we're done. \n",
    "\n",
    "<br>\n",
    "\n",
    "Let's see an example below: \n",
    "\n",
    "<br>"
   ]
  },
  {
   "cell_type": "code",
   "execution_count": 3,
   "id": "83caea68-0e08-4e02-a377-8035ddc3c9a4",
   "metadata": {},
   "outputs": [],
   "source": [
    "## We will start by simulating the \"historical data\" (in a real project this would be your sample data)\n",
    "\n",
    "## Number of observations\n",
    "n = 100\n",
    "\n",
    "## Set the \"true\" lambda value\n",
    "λ = 5.0 \n",
    "\n",
    "## Draw n values from the Poisson distribution\n",
    "x = np.random.poisson(lam=λ, size=n)"
   ]
  },
  {
   "cell_type": "code",
   "execution_count": 4,
   "id": "a33a78ae-8506-449c-9b91-1550dfa15685",
   "metadata": {},
   "outputs": [
    {
     "data": {
      "text/plain": [
       "array([7, 6, 1, 6, 5, 8, 6, 6, 6, 5])"
      ]
     },
     "execution_count": 4,
     "metadata": {},
     "output_type": "execute_result"
    }
   ],
   "source": [
    "## Let's peak at the first 10 values\n",
    "x[:10]"
   ]
  },
  {
   "cell_type": "code",
   "execution_count": 5,
   "id": "8a878563-deaf-41b2-8e25-7e5ec79e2092",
   "metadata": {},
   "outputs": [],
   "source": [
    "## Set the prior hyperparameters (diffuse/uniformative prior)\n",
    "k = 1.0\n",
    "θ = 2.0"
   ]
  },
  {
   "cell_type": "code",
   "execution_count": 6,
   "id": "1fc9b137-4391-4ea7-9e93-9d1a93ed4967",
   "metadata": {},
   "outputs": [],
   "source": [
    "## Plot the prior distribution\n",
    "\n",
    "def plot_gamma(k, θ, upper = 40):\n",
    "    #define x-axis values\n",
    "    x = np.linspace (0, upper, 100) \n",
    "\n",
    "    #calculate pdf of Gamma distribution for each x-value\n",
    "    y = stats.gamma.pdf(x, a=k, scale=θ)\n",
    "\n",
    "    #create plot of Gamma distribution\n",
    "    plt.plot(x, y, lw=2.0, color=\"purple\")"
   ]
  },
  {
   "cell_type": "code",
   "execution_count": 7,
   "id": "82c8a0f5-357b-49bf-92d4-e6c6926fbf4c",
   "metadata": {},
   "outputs": [
    {
     "data": {
      "image/png": "[encoded data removed]",
      "text/plain": [
       "<Figure size 720x576 with 1 Axes>"
      ]
     },
     "metadata": {
      "needs_background": "light"
     },
     "output_type": "display_data"
    }
   ],
   "source": [
    "plot_gamma(k,θ, upper = 20)"
   ]
  },
  {
   "cell_type": "code",
   "execution_count": 8,
   "id": "ec220531-e863-4343-9849-8057fc88f53f",
   "metadata": {},
   "outputs": [
    {
     "data": {
      "text/plain": [
       "(501.0, 0.009950248756218905)"
      ]
     },
     "execution_count": 8,
     "metadata": {},
     "output_type": "execute_result"
    }
   ],
   "source": [
    "## Now we can form the posterior \n",
    "k_star = k + np.sum(x)\n",
    "θ_star = θ / (n * θ + 1)\n",
    "\n",
    "k_star, θ_star"
   ]
  },
  {
   "cell_type": "code",
   "execution_count": 9,
   "id": "739c1b7b-1af9-43d0-aceb-aa744f3c574a",
   "metadata": {},
   "outputs": [
    {
     "data": {
      "image/png": "[encoded data removed]",
      "text/plain": [
       "<Figure size 720x576 with 1 Axes>"
      ]
     },
     "metadata": {
      "needs_background": "light"
     },
     "output_type": "display_data"
    }
   ],
   "source": [
    "## Plot the updated Gamma posterior\n",
    "plot_gamma(k_star, θ_star, upper=20)"
   ]
  },
  {
   "cell_type": "code",
   "execution_count": 10,
   "id": "e650a3e3-d12e-43bf-85e4-2eabbec66e0d",
   "metadata": {},
   "outputs": [
    {
     "data": {
      "text/plain": [
       "4.975124378109452"
      ]
     },
     "execution_count": 10,
     "metadata": {},
     "output_type": "execute_result"
    }
   ],
   "source": [
    "## Let's take the mode (the mode gives us a convenient point estimate to compare to the MLE)\n",
    "(k_star - 1.0) * θ_star"
   ]
  },
  {
   "cell_type": "code",
   "execution_count": 11,
   "id": "55379af9-b1a6-42d1-9851-c9504585d8c7",
   "metadata": {},
   "outputs": [
    {
     "data": {
      "text/plain": [
       "4.985074626865671"
      ]
     },
     "execution_count": 11,
     "metadata": {},
     "output_type": "execute_result"
    }
   ],
   "source": [
    "## We can also look at the posterior mean\n",
    "k_star * θ_star"
   ]
  },
  {
   "cell_type": "code",
   "execution_count": 12,
   "id": "d009768f-c2e9-4c73-a120-1593baa322f2",
   "metadata": {},
   "outputs": [
    {
     "data": {
      "text/plain": [
       "5.0"
      ]
     },
     "execution_count": 12,
     "metadata": {},
     "output_type": "execute_result"
    }
   ],
   "source": [
    "## Let's compare with the MLE\n",
    "np.mean(x)"
   ]
  },
  {
   "cell_type": "markdown",
   "id": "0a7e4582-63c9-41bc-ae91-1f4da3cdca61",
   "metadata": {},
   "source": [
    "<br>\n",
    "\n",
    "__We see that they are very similar!__\n",
    "\n",
    "<br>\n",
    "\n",
    "__NB:__ Try it again, but with a more informative prior, say $k = 5.0$ and $\\theta = 1.0$"
   ]
  },
  {
   "cell_type": "code",
   "execution_count": null,
   "id": "07eb083a-edc3-47cb-8b46-6a77a8ca731c",
   "metadata": {},
   "outputs": [],
   "source": []
  }
 ],
 "metadata": {
  "kernelspec": {
   "display_name": "Python 3 (ipykernel)",
   "language": "python",
   "name": "python3"
  },
  "language_info": {
   "codemirror_mode": {
    "name": "ipython",
    "version": 3
   },
   "file_extension": ".py",
   "mimetype": "text/x-python",
   "name": "python",
   "nbconvert_exporter": "python",
   "pygments_lexer": "ipython3",
   "version": "3.8.5"
  }
 },
 "nbformat": 4,
 "nbformat_minor": 5
}
