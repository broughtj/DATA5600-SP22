{
 "cells": [
  {
   "cell_type": "markdown",
   "id": "b51b8a90-61f3-48fa-8b4d-7c7678223fff",
   "metadata": {},
   "source": [
    "# DATA 5600: Introduction to Regression and Machine Learning for Analytics\n",
    "\n",
    "## __Some Brief Notes on Bayesian Credibility Intervals__ <br>\n",
    "\n",
    "Author:  Tyler J. Brough <br>\n",
    "Updated: April 13, 2022 <br>\n",
    "\n",
    "---\n",
    "\n",
    "<br>"
   ]
  },
  {
   "cell_type": "code",
   "execution_count": 1,
   "id": "6fb7b041-510d-4ddb-b64e-05039fc7d49e",
   "metadata": {},
   "outputs": [],
   "source": [
    "import numpy as np\n",
    "import pandas as pd\n",
    "from scipy import stats\n",
    "import matplotlib.pyplot as plt\n",
    "\n",
    "plt.rcParams['figure.figsize'] = [10, 8]"
   ]
  },
  {
   "cell_type": "code",
   "execution_count": 2,
   "id": "5c0363e0-f19f-4c0f-8f99-eaeaf9b66207",
   "metadata": {},
   "outputs": [],
   "source": [
    "## set the prng seed value\n",
    "np.random.seed(123456)"
   ]
  },
  {
   "cell_type": "markdown",
   "id": "b246c0e5-c98b-4031-bfc1-05808e3f9aa3",
   "metadata": {},
   "source": [
    "<br>\n",
    "<br>\n",
    "\n",
    "## __Credibility Intervals__\n",
    "\n",
    "<br>\n",
    "\n",
    "* In this notebook we take a look at so-called Bayesian Credibility Intervals or Highest Density Intervals\n",
    "\n",
    "* For the Bayesian a credibility interval is an alternative to the Frequentist Confidence Interval\n",
    "\n",
    "* Recall that a confidence interval is of the following form\n",
    "\n",
    "<br>\n",
    "<br>\n",
    "\n",
    "$$\n",
    "{\\Large L,U = pe \\pm cv \\times se}\n",
    "$$\n",
    "\n",
    "<br>\n",
    "<br>\n",
    "\n",
    "Where:\n",
    "\n",
    "* $pe$ is a point estimate\n",
    "\n",
    "* $cv$ is the critical value\n",
    "\n",
    "* $se$ is the standard error of the point estimate\n",
    "\n",
    "<br>\n",
    "\n",
    "The interpretation of the Frequentist confidence interval was important: \n",
    "\n",
    "* \"$95\\%$ of similarly constructed intervals will contain the true mean\"\n",
    "\n",
    "* __NOT:__ \"the probability that the true mean lies between $L$ and $U$ is $0.95$\"\n",
    "\n",
    "<br>\n",
    "\n",
    "The Bayesian case is different. Because we obtain a posterior distribution through updating the prior via Bayes' Rule, we can make a probability statement. \n",
    "\n",
    "<br>\n",
    "\n",
    "* Use the CDF of the posterior to find $L$ and $U$ such that\n",
    "\n",
    "<br>\n",
    "<br>\n",
    "\n",
    "$$\n",
    "{\\Large F(U) - F(L) = 0.95}\n",
    "$$\n",
    "\n",
    "<br>\n",
    "<br>\n",
    "\n",
    "* A Bayesian credibility interval is any such interval\n",
    "\n",
    "* Some textbooks reserve the phrase _\"Highest Density Interval\"_ (HDI) for the shortest such interval (which is obivously optimal)\n",
    "\n",
    "* Also, note that it need not be the case that the HDI will have equal weight in the left and right tails of the distribution.\n",
    "\n",
    "* A procedure that selects $L$ and $U$ such that there is equal weight in the two tails would be called an _\"equal tail interval\"_ (ETI)\n",
    "\n",
    "* An ETI is a credible interval, but not necessarily (and probably not) an HDI\n",
    "\n",
    "* Nevertheless, for simplicity sake, we will define the credibility interval as the ETI for comparison with the frequentist confidence interval\n",
    "\n",
    "<br>"
   ]
  },
  {
   "cell_type": "markdown",
   "id": "e2a79557-9e52-4f65-ae54-6239373c1ee8",
   "metadata": {},
   "source": [
    "### __The Beta-Binomial Conjugate Model__\n",
    "\n",
    "<br>\n",
    "\n",
    "Let's return to the Beta-Binomial conjugate model to have a specific model to work with.\n",
    "\n",
    "<br>\n",
    "\n",
    "Recal that:\n",
    "\n",
    "* The prior was: $\\theta \\sim Beta(a, b)$ \n",
    "\n",
    "* Where $a$ and $b$ are the prior hyperparameters\n",
    "\n",
    "* The posterior was: $\\theta | x \\sim Beta(a^{\\ast}, b^{\\ast})$\n",
    "\n",
    "* Where $a^{\\ast}$ and $b^{\\ast}$ are the posterior hyperparameters\n",
    "\n",
    "* __NB:__ these hyperparameters implicitly representing the updating process via Bayes's Rule (by definition of a conjugate model)\n",
    "\n",
    "* The likelihood function was $x \\sim Binom(n, \\theta)$\n",
    "\n",
    "<br>"
   ]
  },
  {
   "cell_type": "code",
   "execution_count": 3,
   "id": "0844b53f-bfc5-4a27-9dc8-18f4d761e683",
   "metadata": {},
   "outputs": [],
   "source": [
    "## Let's simulate some data from this model\n",
    "\n",
    "\n",
    "## Define \"true\" theta\n",
    "θ = 0.8\n",
    "\n",
    "## Define the sample size\n",
    "n = 10\n",
    "\n",
    "## Generate the data according to the likelihood\n",
    "x = np.random.binomial(n=1, p=θ, size=n)"
   ]
  },
  {
   "cell_type": "code",
   "execution_count": 4,
   "id": "a08f5a3b-e2bf-4c88-9ee5-42940212e95e",
   "metadata": {},
   "outputs": [
    {
     "data": {
      "text/plain": [
       "array([1, 0, 1, 0, 1, 1, 1, 0, 1, 1])"
      ]
     },
     "execution_count": 4,
     "metadata": {},
     "output_type": "execute_result"
    }
   ],
   "source": [
    "x"
   ]
  },
  {
   "cell_type": "code",
   "execution_count": 5,
   "id": "c281804c-aa05-4bb0-9090-60e9e3f2d57d",
   "metadata": {},
   "outputs": [],
   "source": [
    "## Helper function to plot Beta priors\n",
    "def plot_beta(a=1, b=1):\n",
    "    x = np.linspace(0, 1, 1000)\n",
    "    y = stats.beta.pdf(x, a, b)\n",
    "    plt.plot(x, y, lw = 2.0, color='darkblue', alpha=0.8)\n",
    "    plt.fill_between(x, y, facecolor='orange', alpha=0.5)\n",
    "    plt.title(f\"Beta({a},{b}) Prior Distribution\")\n",
    "    plt.show()"
   ]
  },
  {
   "cell_type": "code",
   "execution_count": 6,
   "id": "a25e03b7-2b49-4650-ba32-2583489cddaf",
   "metadata": {},
   "outputs": [],
   "source": [
    "## Define the prior (flat or uniformative prior)\n",
    "a = 1.0\n",
    "b = 1.0"
   ]
  },
  {
   "cell_type": "code",
   "execution_count": 7,
   "id": "1a5c9b1a-c3a3-4cae-8867-0d34073ad907",
   "metadata": {},
   "outputs": [
    {
     "data": {
      "image/png": "[encoded data removed]",
      "text/plain": [
       "<Figure size 720x576 with 1 Axes>"
      ]
     },
     "metadata": {
      "needs_background": "light"
     },
     "output_type": "display_data"
    }
   ],
   "source": [
    "## Plot the prior\n",
    "plot_beta(a, b)"
   ]
  },
  {
   "cell_type": "code",
   "execution_count": 8,
   "id": "f911cdeb-64bf-4444-bf07-093f97efb637",
   "metadata": {},
   "outputs": [],
   "source": [
    "## Update via Bayes's Rule to get the posterior\n",
    "N1 = np.sum(x)\n",
    "N0 = n - np.sum(x)\n",
    "a_star = a + N1\n",
    "b_star = b + N0"
   ]
  },
  {
   "cell_type": "code",
   "execution_count": 9,
   "id": "8a53c7e7-4f17-416b-aa4c-865d00cd55e2",
   "metadata": {},
   "outputs": [
    {
     "data": {
      "image/png": "[encoded data removed]",
      "text/plain": [
       "<Figure size 720x576 with 1 Axes>"
      ]
     },
     "metadata": {
      "needs_background": "light"
     },
     "output_type": "display_data"
    }
   ],
   "source": [
    "## Plot the posterior\n",
    "plot_beta(a_star, b_star)"
   ]
  },
  {
   "cell_type": "code",
   "execution_count": 10,
   "id": "bbbe9a54-6ba7-4bb9-89ae-ed85b8a8571b",
   "metadata": {},
   "outputs": [
    {
     "data": {
      "text/plain": [
       "(0.39025744042757876, 0.8907365561809019)"
      ]
     },
     "execution_count": 10,
     "metadata": {},
     "output_type": "execute_result"
    }
   ],
   "source": [
    "## A 95% Bayesian Credible Interval (ETI)\n",
    "U = stats.beta(a_star, b_star).ppf(0.975)\n",
    "L = stats.beta(a_star, b_star).ppf(0.025)\n",
    "(L, U)"
   ]
  },
  {
   "cell_type": "markdown",
   "id": "bd8a94dd-d7f1-4b59-bd1e-e69917006a1f",
   "metadata": {},
   "source": [
    "### __Compare to a Frequentist CI__"
   ]
  },
  {
   "cell_type": "code",
   "execution_count": 11,
   "id": "238cc622-b52a-404d-a57f-2de21ffc0a0d",
   "metadata": {},
   "outputs": [
    {
     "data": {
      "text/plain": [
       "0.7"
      ]
     },
     "execution_count": 11,
     "metadata": {},
     "output_type": "execute_result"
    }
   ],
   "source": [
    "## Calculate the mean (point estimate)\n",
    "x̄ = np.mean(x)\n",
    "x̄"
   ]
  },
  {
   "cell_type": "code",
   "execution_count": 12,
   "id": "98ebf570-bafe-4d5a-a621-e0ba881c7561",
   "metadata": {},
   "outputs": [],
   "source": [
    "## Get the critical value from a Student T distribution\n",
    "tc = stats.t(n-1).ppf(0.975)\n",
    "\n",
    "## Get the standard error of the mean\n",
    "se = np.std(x, ddof=1) / np.sqrt(n)"
   ]
  },
  {
   "cell_type": "code",
   "execution_count": 13,
   "id": "79b41da4-9974-45bd-9a80-dc9f313be39d",
   "metadata": {},
   "outputs": [
    {
     "data": {
      "text/plain": [
       "(0.35444978559509566, 1.0455502144049043)"
      ]
     },
     "execution_count": 13,
     "metadata": {},
     "output_type": "execute_result"
    }
   ],
   "source": [
    "## Form the CI\n",
    "ci = (x̄ - tc * se, x̄ + tc * se)\n",
    "ci"
   ]
  },
  {
   "cell_type": "markdown",
   "id": "3d10f893-a1e5-4b07-aec9-7e6907d305e2",
   "metadata": {},
   "source": [
    "<br>\n",
    "\n",
    "### __Comparison__\n",
    "\n",
    "<br>\n",
    "\n",
    "Some questions:\n",
    "\n",
    "1. How does the Bayesian 95% credibility interval compare with the Frequentist 95% confidence interval?\n",
    "\n",
    "2. What happens if we work with an informative Bayesian prior rather than an uniformative prior? \n",
    "    - How would you test this? \n",
    "    - I leave this to you as an exercise\n",
    "\n",
    "<br>"
   ]
  },
  {
   "cell_type": "code",
   "execution_count": null,
   "id": "77c8b497-3d27-4ce3-8ab1-8e9475241568",
   "metadata": {},
   "outputs": [],
   "source": []
  }
 ],
 "metadata": {
  "kernelspec": {
   "display_name": "Python 3 (ipykernel)",
   "language": "python",
   "name": "python3"
  },
  "language_info": {
   "codemirror_mode": {
    "name": "ipython",
    "version": 3
   },
   "file_extension": ".py",
   "mimetype": "text/x-python",
   "name": "python",
   "nbconvert_exporter": "python",
   "pygments_lexer": "ipython3",
   "version": "3.8.5"
  }
 },
 "nbformat": 4,
 "nbformat_minor": 5
}
