{
 "cells": [
  {
   "cell_type": "markdown",
   "id": "f4de7983-47c1-44d9-8f2c-ffb152b45227",
   "metadata": {},
   "source": [
    "# DATA 5600: Introduction to Regression and Machine Learning for Analytics\n",
    "\n",
    "## __Some Brief Notes on the Bootstrap__ <br>\n",
    "\n",
    "Author:  Tyler J. Brough <br>\n",
    "Updated: April 11, 2022 <br>\n",
    "\n",
    "---\n",
    "\n",
    "<br>"
   ]
  },
  {
   "cell_type": "code",
   "execution_count": 1,
   "id": "d752ba0f-8815-4241-8620-393468749e77",
   "metadata": {},
   "outputs": [],
   "source": [
    "import numpy as np\n",
    "import pandas as pd\n",
    "from scipy import stats\n",
    "import matplotlib.pyplot as plt\n",
    "\n",
    "plt.rcParams['figure.figsize'] = [10, 8]"
   ]
  },
  {
   "cell_type": "code",
   "execution_count": 2,
   "id": "17340208-ae6d-4f95-9e3a-247493084a0c",
   "metadata": {},
   "outputs": [],
   "source": [
    "## set the prng seed value\n",
    "np.random.seed(3456789)"
   ]
  },
  {
   "cell_type": "markdown",
   "id": "51fc50dd-7d59-49ba-977e-2bd3edb6cbc2",
   "metadata": {},
   "source": [
    "## __Simulate the Population Model__"
   ]
  },
  {
   "cell_type": "code",
   "execution_count": 3,
   "id": "ddf6632b-7982-4694-a786-2cf8d93bad5f",
   "metadata": {},
   "outputs": [],
   "source": [
    "## Let's assume our population is Poisson with \\lambda = 5.0\n",
    "λ = 5.0\n",
    "\n",
    "\n",
    "## Set the number of observations\n",
    "N = 100\n",
    "\n",
    "## Generate the \"sample\"\n",
    "x = np.random.poisson(lam=λ, size=N)"
   ]
  },
  {
   "cell_type": "code",
   "execution_count": 4,
   "id": "2fc006af-3e82-4b8e-a006-e0edad8373c5",
   "metadata": {},
   "outputs": [
    {
     "data": {
      "text/plain": [
       "<AxesSubplot:ylabel='Density'>"
      ]
     },
     "execution_count": 4,
     "metadata": {},
     "output_type": "execute_result"
    },
    {
     "data": {
      "image/png": "[encoded data removed]",
      "text/plain": [
       "<Figure size 720x576 with 1 Axes>"
      ]
     },
     "metadata": {
      "needs_background": "light"
     },
     "output_type": "display_data"
    }
   ],
   "source": [
    "xs = pd.Series(x)\n",
    "xs.plot.kde()"
   ]
  },
  {
   "cell_type": "markdown",
   "id": "10910ca1-a3d1-4ce2-96f2-db84de2f51ca",
   "metadata": {},
   "source": [
    "<br>\n",
    "<br>\n",
    "\n",
    "<div class=\"alert alert-warning\">\n",
    "    <font size=\"+2\">\n",
    "    <b>NB:</b> Don't get confused by this first simulation step. Normally you will use your sample data here. I just simulated data for convenience. So think of this data as having come from the real-world representing some interesting problem.\n",
    "    </font>\n",
    "</div>\n",
    "\n",
    "<br>\n",
    "<br>"
   ]
  },
  {
   "cell_type": "markdown",
   "id": "535add36-4482-49db-bece-d7573b5ce139",
   "metadata": {},
   "source": [
    "### __Confidence Interval via CLT__"
   ]
  },
  {
   "cell_type": "code",
   "execution_count": 5,
   "id": "18a29093-9f15-42db-98d8-7f9b0487590c",
   "metadata": {},
   "outputs": [
    {
     "data": {
      "text/plain": [
       "4.86"
      ]
     },
     "execution_count": 5,
     "metadata": {},
     "output_type": "execute_result"
    }
   ],
   "source": [
    "## Get the point estimate (MLE)\n",
    "x̄ = np.mean(x)\n",
    "x̄ "
   ]
  },
  {
   "cell_type": "code",
   "execution_count": 6,
   "id": "21102d1b-6c20-44e1-9734-1acdc688b34b",
   "metadata": {},
   "outputs": [],
   "source": [
    "## Set the confidence level\n",
    "α = 0.05 \n",
    "\n",
    "t_crit = stats.t(N-1).ppf(1.0 - (α / 2.0))"
   ]
  },
  {
   "cell_type": "code",
   "execution_count": 7,
   "id": "03e6d0ee-668f-4f7b-b71a-626477ae487f",
   "metadata": {},
   "outputs": [
    {
     "data": {
      "text/plain": [
       "1.9842169515086827"
      ]
     },
     "execution_count": 7,
     "metadata": {},
     "output_type": "execute_result"
    }
   ],
   "source": [
    "t_crit"
   ]
  },
  {
   "cell_type": "code",
   "execution_count": 8,
   "id": "cabf0bc1-c99c-432a-9c14-515ee21838d4",
   "metadata": {},
   "outputs": [
    {
     "data": {
      "text/plain": [
       "2.326917586539208"
      ]
     },
     "execution_count": 8,
     "metadata": {},
     "output_type": "execute_result"
    }
   ],
   "source": [
    "s = np.std(x, ddof=1)\n",
    "s"
   ]
  },
  {
   "cell_type": "code",
   "execution_count": 9,
   "id": "5c9e4771-c086-4460-a5c4-8d651ac55e84",
   "metadata": {},
   "outputs": [],
   "source": [
    "## Calculate the standard error\n",
    "se = s / np.sqrt(N)"
   ]
  },
  {
   "cell_type": "code",
   "execution_count": 10,
   "id": "b960bf63-f52d-4df8-8734-1f90ca477814",
   "metadata": {},
   "outputs": [],
   "source": [
    "## Calculate a 95% CI based on the CLT\n",
    "ci = (x̄ - t_crit * se, x̄ + t_crit * se)"
   ]
  },
  {
   "cell_type": "code",
   "execution_count": 11,
   "id": "c1bf8ffd-80b3-4394-bcfb-dbcc0092115b",
   "metadata": {},
   "outputs": [
    {
     "data": {
      "text/plain": [
       "(4.398289068002524, 5.321710931997477)"
      ]
     },
     "execution_count": 11,
     "metadata": {},
     "output_type": "execute_result"
    }
   ],
   "source": [
    "ci"
   ]
  },
  {
   "cell_type": "code",
   "execution_count": null,
   "id": "4db1d852-13c3-4192-b08d-a26fc415089f",
   "metadata": {},
   "outputs": [],
   "source": []
  },
  {
   "cell_type": "markdown",
   "id": "b6f90297-d073-41c6-95b9-6e79341da424",
   "metadata": {},
   "source": [
    "### __Bootstrap Confidence Interval (w/o the CLT)__"
   ]
  },
  {
   "cell_type": "markdown",
   "id": "2d9a952c-512d-4831-9a0a-7021a8c41f29",
   "metadata": {},
   "source": [
    "<br>\n",
    "<br>\n",
    "\n",
    "#### __An Aside: The Empirical CDF__\n",
    "\n",
    "---\n",
    "\n",
    "Let $X_{1}, X_{2}, \\ldots, X_{n}$ be independent, identically distributed real random variables witih the common CDF $F(t)$. Then the __empirical cumulative distribution function (eCDF)__ is defined as\n",
    "\n",
    "<br>\n",
    "\n",
    "$$\n",
    "\\hat{F_{n}}(t) = \\frac{1}{n} \\sum\\limits_{i=1}^{n} \\mathbf{{I}}\\{x_{i} \\le t\\}\n",
    "$$\n",
    "\n",
    "<br>\n",
    "\n",
    "where $\\mathbf{{I}}\\{x_{i} \\le t\\}$ is an indicator function. \n",
    "\n",
    "---\n",
    "\n",
    "<br>\n",
    "<br>"
   ]
  },
  {
   "cell_type": "code",
   "execution_count": 12,
   "id": "5a820758-511a-404c-84ee-65ca14577e64",
   "metadata": {},
   "outputs": [],
   "source": [
    "## Let's compare the ECDF to the CDF for draws from a normal distribution\n",
    "\n",
    "## Draw M = 100_000 values from a std normal\n",
    "M = 100_000\n",
    "z = np.random.normal(size=M)"
   ]
  },
  {
   "cell_type": "code",
   "execution_count": 13,
   "id": "6b64c255-30dd-4a13-b469-6021d035d4d6",
   "metadata": {},
   "outputs": [],
   "source": [
    "## Sort the draws (inplace)\n",
    "z.sort()"
   ]
  },
  {
   "cell_type": "code",
   "execution_count": 14,
   "id": "e513b2cc-59a9-435a-b705-927dc1097902",
   "metadata": {},
   "outputs": [
    {
     "data": {
      "text/plain": [
       "0.9750021048517795"
      ]
     },
     "execution_count": 14,
     "metadata": {},
     "output_type": "execute_result"
    }
   ],
   "source": [
    "## Now let's get the CDF of 1.96\n",
    "stats.norm.cdf(1.96)"
   ]
  },
  {
   "cell_type": "code",
   "execution_count": 15,
   "id": "0bc8b9f1-120a-4450-8b52-3a211fa5320a",
   "metadata": {},
   "outputs": [
    {
     "data": {
      "text/plain": [
       "0.97566"
      ]
     },
     "execution_count": 15,
     "metadata": {},
     "output_type": "execute_result"
    }
   ],
   "source": [
    "## Let' compare the ECDF of 1.96\n",
    "ii = z >= 1.96\n",
    "1.0 - np.sum(ii) / M"
   ]
  },
  {
   "cell_type": "markdown",
   "id": "bcf9dc44-6a8e-48f7-a4e9-abfd27fbe235",
   "metadata": {},
   "source": [
    "<br>\n",
    "\n",
    "__NB:__ These results are practically the same. The ECDF does not know these data are normal. For additional accuracy we can increase M\n",
    "\n",
    "<br>"
   ]
  },
  {
   "cell_type": "code",
   "execution_count": 16,
   "id": "39f8cce9-fb14-4020-8eba-d8dce6e0b4a4",
   "metadata": {},
   "outputs": [
    {
     "data": {
      "text/plain": [
       "1.959963984540054"
      ]
     },
     "execution_count": 16,
     "metadata": {},
     "output_type": "execute_result"
    }
   ],
   "source": [
    "## We can also compare the Inverse CDF and the Inverse ECDF\n",
    "\n",
    "## Get the 97.5th quantile of the std normal\n",
    "stats.norm.ppf(0.975)"
   ]
  },
  {
   "cell_type": "code",
   "execution_count": 17,
   "id": "e56e40be-7b78-4a3d-a9ce-b52ae58b60c4",
   "metadata": {},
   "outputs": [
    {
     "data": {
      "text/plain": [
       "1.9480446453512055"
      ]
     },
     "execution_count": 17,
     "metadata": {},
     "output_type": "execute_result"
    }
   ],
   "source": [
    "## Get the 97.5th quantile of the empirical data\n",
    "jj = int(0.975 * M)\n",
    "z[jj]"
   ]
  },
  {
   "cell_type": "markdown",
   "id": "92d6f0e3-7ef4-471f-a424-f12cf0601c7e",
   "metadata": {},
   "source": [
    "<br>\n",
    "\n",
    "__NB:__ Again these are practically the same. And for additional accuracy you can increase M.\n",
    "\n",
    "<br>"
   ]
  },
  {
   "cell_type": "markdown",
   "id": "7232be50-7208-46a9-add4-9f078cad1484",
   "metadata": {},
   "source": [
    "##### __Back to the Bootstrap__\n",
    "\n",
    "<br>"
   ]
  },
  {
   "cell_type": "code",
   "execution_count": 18,
   "id": "1a730bb6-0a5c-4bbd-94c9-ce2e7c52f96c",
   "metadata": {},
   "outputs": [
    {
     "data": {
      "text/plain": [
       "array([6, 3, 7, 9, 7, 7, 7, 7, 6, 3, 3, 6, 5, 7, 6, 4, 7, 3, 8, 5, 3, 3,\n",
       "       5, 3, 3, 8, 5, 8, 5, 1, 1, 3, 2, 6, 7, 6, 8, 4, 6, 1, 7, 4, 5, 3,\n",
       "       1, 0, 5, 1, 2, 5, 3, 6, 6, 3, 5, 7, 5, 3, 7, 4, 7, 9, 7, 4, 3, 7,\n",
       "       1, 4, 6, 3, 7, 7, 1, 9, 9, 4, 6, 5, 4, 0, 2, 8, 4, 2, 1, 3, 7, 7,\n",
       "       1, 9, 6, 7, 7, 6, 1, 3, 8, 6, 3, 8])"
      ]
     },
     "execution_count": 18,
     "metadata": {},
     "output_type": "execute_result"
    }
   ],
   "source": [
    "np.random.choice(x, replace=True, size=N)"
   ]
  },
  {
   "cell_type": "code",
   "execution_count": 19,
   "id": "02d445d4-fa96-4942-827b-ee96f60843ab",
   "metadata": {},
   "outputs": [],
   "source": [
    "## Decide how many bootstrap repititions\n",
    "B = 10_000\n",
    "\n",
    "## Store the bootstrapped mean\n",
    "x̄_b = np.zeros(B)\n",
    "\n",
    "## Run the bootstrap loop\n",
    "for b in range(B):\n",
    "    xb = np.random.choice(x, replace=True, size=N)\n",
    "    x̄_b[b] = np.mean(xb)"
   ]
  },
  {
   "cell_type": "code",
   "execution_count": 20,
   "id": "b4a93e2e-60f3-4f74-85eb-2d2e8e4046ef",
   "metadata": {},
   "outputs": [],
   "source": [
    "## Standardize the bootstrapped data\n",
    "y = (x̄_b - x̄) / np.std(x̄_b, ddof=1)"
   ]
  },
  {
   "cell_type": "code",
   "execution_count": 21,
   "id": "e294986a-f526-4c8e-9f8e-7d51337b2626",
   "metadata": {},
   "outputs": [
    {
     "data": {
      "text/plain": [
       "(-0.0011785253206828387, 1.0)"
      ]
     },
     "execution_count": 21,
     "metadata": {},
     "output_type": "execute_result"
    }
   ],
   "source": [
    "## Do a spot check\n",
    "\n",
    "## Mean should be approximately zero and variance should be approximately 1\n",
    "y.mean(), y.std(ddof=1)"
   ]
  },
  {
   "cell_type": "code",
   "execution_count": 22,
   "id": "4c85fa63-22e2-4e13-9c1d-7529a16ba402",
   "metadata": {},
   "outputs": [],
   "source": [
    "## Sort y just for good measure\n",
    "y.sort()"
   ]
  },
  {
   "cell_type": "code",
   "execution_count": 23,
   "id": "9d9a9bb1-ed7f-4450-9af7-09ee5b332c2a",
   "metadata": {},
   "outputs": [
    {
     "data": {
      "text/plain": [
       "1.9930942923289239"
      ]
     },
     "execution_count": 23,
     "metadata": {},
     "output_type": "execute_result"
    }
   ],
   "source": [
    "## Get the bootstrap critical value using the Inverse ECDF\n",
    "q = 1.0 - α / 2.0\n",
    "jj = int(q * B)\n",
    "b_crit = y[jj]\n",
    "b_crit"
   ]
  },
  {
   "cell_type": "code",
   "execution_count": 24,
   "id": "6d207715-c402-4a3b-ba83-1e145aa477ed",
   "metadata": {},
   "outputs": [],
   "source": [
    "se_b = x̄_b.std(ddof=1)"
   ]
  },
  {
   "cell_type": "code",
   "execution_count": 25,
   "id": "a14ea255-1a59-4307-83fd-d3a3c254c095",
   "metadata": {},
   "outputs": [
    {
     "data": {
      "text/plain": [
       "(4.4, 5.32)"
      ]
     },
     "execution_count": 25,
     "metadata": {},
     "output_type": "execute_result"
    }
   ],
   "source": [
    "## Calculate the bootstrapped Confidence Interval\n",
    "ci_b = (x̄ - b_crit * se_b, x̄ + b_crit * se_b)\n",
    "ci_b"
   ]
  },
  {
   "cell_type": "markdown",
   "id": "9a161d52-5992-42e5-acdb-57255dd5c3f1",
   "metadata": {},
   "source": [
    "<br>\n",
    "\n",
    "<div class=\"alert alert-success\">\n",
    "    <b>NB:</b> We get the same approximate result without having assumed anything about the sampling distribution (i.e. by applying a CLT assumption). Rather we bootstrapped the sampling distribution directly. \n",
    "</div>\n",
    "\n",
    "<br>"
   ]
  }
 ],
 "metadata": {
  "kernelspec": {
   "display_name": "Python 3 (ipykernel)",
   "language": "python",
   "name": "python3"
  },
  "language_info": {
   "codemirror_mode": {
    "name": "ipython",
    "version": 3
   },
   "file_extension": ".py",
   "mimetype": "text/x-python",
   "name": "python",
   "nbconvert_exporter": "python",
   "pygments_lexer": "ipython3",
   "version": "3.8.5"
  }
 },
 "nbformat": 4,
 "nbformat_minor": 5
}
