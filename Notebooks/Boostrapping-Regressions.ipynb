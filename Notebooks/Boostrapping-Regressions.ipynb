{
 "cells": [
  {
   "cell_type": "markdown",
   "id": "c375d6c9-ccc3-4bf7-94b5-d4a10de3b2a0",
   "metadata": {},
   "source": [
    "# __The Bootstrap for Regression__\n",
    "\n",
    "---\n",
    "\n",
    "<br>\n",
    "\n",
    "__DATA 5600__ <br>\n",
    "Author:      Tyler J. Brough <br>\n",
    "Last Update: April 25, 2022 <br>\n",
    "\n",
    "---"
   ]
  },
  {
   "cell_type": "code",
   "execution_count": 1,
   "id": "9ad44b9a-e855-49ad-a209-ccd22ef0fc42",
   "metadata": {},
   "outputs": [],
   "source": [
    "import numpy as np\n",
    "import pandas as pd\n",
    "import scipy.stats as stats\n",
    "import matplotlib.pyplot as plt\n",
    "import statsmodels.api as sm"
   ]
  },
  {
   "cell_type": "code",
   "execution_count": 2,
   "id": "33dabca6-12a7-4eeb-a9f8-960643d66354",
   "metadata": {},
   "outputs": [],
   "source": [
    "%matplotlib inline"
   ]
  },
  {
   "cell_type": "markdown",
   "id": "faaa952f-84db-436b-a5df-d723ba265385",
   "metadata": {},
   "source": [
    "<br>\n",
    "\n",
    "## __IID Parametric Bootstrap for Regression__\n",
    "\n",
    "### __Algorithm (IID Parametric Bootstrap)__\n",
    "\n",
    "---\n",
    "\n",
    "1. Fit the regression model via OLS, and obtain \n",
    "\n",
    "<br>\n",
    "\n",
    "$$\n",
    "{\\large \\hat{y} = \\hat{\\alpha} + \\hat{\\beta}_{1} x_{1} + \\hat{\\beta}_{2}}\n",
    "$$\n",
    "\n",
    "<br>\n",
    "\n",
    "\n",
    "2. Form the estimated residuals as \n",
    "\n",
    "<br>\n",
    "\n",
    "$$\n",
    "{\\large\n",
    "\\begin{aligned}\n",
    "\\hat{u}_{i} &= y_{i} - \\hat{y}_{i} \\\\\n",
    "            &= y_{i} - \\hat{\\alpha} - \\hat{\\beta}_{1} x_{1,i} - \\beta{\\beta}_{2} x_{2,i}\n",
    "\\end{aligned}}\n",
    "$$\n",
    "\n",
    "<br>\n",
    "\n",
    "\n",
    "3. Draw $\\quad u_{1}^{(1)}, u_{2}^{(1)}, \\ldots, u_{n}^{(1)} \\quad$ with replacement from $\\quad \\{\\hat{u}_{i}\\}_{i=1}^{n}$\n",
    "\n",
    "\n",
    "4. Generate $\\quad y_{1}^{(1)}, y_{2}^{(1)}, \\ldots, y_{n}^{(1)} \\quad$ as \n",
    "\n",
    "<br>\n",
    "\n",
    "$$\n",
    "{\\large y_{i}^{(1)} = \\hat{\\alpha} + \\hat{\\beta}_{1} x_{1,i} + \\hat{\\beta}_{2} x_{2,i} + u_{i}^{(1)}}\n",
    "$$\n",
    "\n",
    "<br>\n",
    "\n",
    "5. Re-estimate the regression model and save the following:\n",
    "\n",
    "<br>\n",
    "\n",
    "$$\n",
    "{\\large \\{\\hat{\\alpha}^{(1)}, \\hat{\\beta}_{1}^{(1)}, \\hat{\\beta}_{2}^{(1)} \\}}\n",
    "$$\n",
    "\n",
    "<br>\n",
    "\n",
    "6. Repeat steps 3-5 for $b = 2, \\ldots, B$\n",
    "\n",
    "7. Form histograms, hypothesis tests, confidence intervals, etc using these bootstrap replications (approximating the sampling distribution) from \n",
    "\n",
    "<br>\n",
    "\n",
    "$$\n",
    "{\\large \\{\\hat{\\alpha}^{(b)}, \\hat{\\beta}_{1}^{(b)}, \\hat{\\beta}_{2}^{(b)} \\} \\quad b = 1, \\ldots, B}\n",
    "$$\n",
    "\n",
    "<br>\n",
    "\n",
    "---\n",
    "\n",
    "<br>"
   ]
  },
  {
   "cell_type": "markdown",
   "id": "8c944bc6-6c08-43a2-b46d-0c03cba06fff",
   "metadata": {},
   "source": [
    "## Parametric Bootstrapping the House Price Data\n",
    "\n",
    "<br>"
   ]
  },
  {
   "cell_type": "code",
   "execution_count": 3,
   "id": "c4b231fe-461e-4939-b582-b65b70a4e002",
   "metadata": {},
   "outputs": [],
   "source": [
    "df = pd.read_excel(\"data/HPRICE.XLS\")"
   ]
  },
  {
   "cell_type": "code",
   "execution_count": 4,
   "id": "b5abbfa2-e4ad-4527-b938-8be8672dabde",
   "metadata": {},
   "outputs": [
    {
     "data": {
      "text/html": [
       "<div>\n",
       "<style scoped>\n",
       "    .dataframe tbody tr th:only-of-type {\n",
       "        vertical-align: middle;\n",
       "    }\n",
       "\n",
       "    .dataframe tbody tr th {\n",
       "        vertical-align: top;\n",
       "    }\n",
       "\n",
       "    .dataframe thead th {\n",
       "        text-align: right;\n",
       "    }\n",
       "</style>\n",
       "<table border=\"1\" class=\"dataframe\">\n",
       "  <thead>\n",
       "    <tr style=\"text-align: right;\">\n",
       "      <th></th>\n",
       "      <th>sale price</th>\n",
       "      <th>lot size</th>\n",
       "      <th>#bedroom</th>\n",
       "      <th>#bath</th>\n",
       "      <th>#stories</th>\n",
       "      <th>driveway</th>\n",
       "      <th>rec room</th>\n",
       "      <th>basement</th>\n",
       "      <th>gas</th>\n",
       "      <th>air cond</th>\n",
       "      <th>#garage</th>\n",
       "      <th>desire loc</th>\n",
       "    </tr>\n",
       "  </thead>\n",
       "  <tbody>\n",
       "    <tr>\n",
       "      <th>0</th>\n",
       "      <td>42000</td>\n",
       "      <td>5850</td>\n",
       "      <td>3</td>\n",
       "      <td>1</td>\n",
       "      <td>2</td>\n",
       "      <td>1</td>\n",
       "      <td>0</td>\n",
       "      <td>1</td>\n",
       "      <td>0</td>\n",
       "      <td>0</td>\n",
       "      <td>1</td>\n",
       "      <td>0</td>\n",
       "    </tr>\n",
       "    <tr>\n",
       "      <th>1</th>\n",
       "      <td>38500</td>\n",
       "      <td>4000</td>\n",
       "      <td>2</td>\n",
       "      <td>1</td>\n",
       "      <td>1</td>\n",
       "      <td>1</td>\n",
       "      <td>0</td>\n",
       "      <td>0</td>\n",
       "      <td>0</td>\n",
       "      <td>0</td>\n",
       "      <td>0</td>\n",
       "      <td>0</td>\n",
       "    </tr>\n",
       "    <tr>\n",
       "      <th>2</th>\n",
       "      <td>49500</td>\n",
       "      <td>3060</td>\n",
       "      <td>3</td>\n",
       "      <td>1</td>\n",
       "      <td>1</td>\n",
       "      <td>1</td>\n",
       "      <td>0</td>\n",
       "      <td>0</td>\n",
       "      <td>0</td>\n",
       "      <td>0</td>\n",
       "      <td>0</td>\n",
       "      <td>0</td>\n",
       "    </tr>\n",
       "    <tr>\n",
       "      <th>3</th>\n",
       "      <td>60500</td>\n",
       "      <td>6650</td>\n",
       "      <td>3</td>\n",
       "      <td>1</td>\n",
       "      <td>2</td>\n",
       "      <td>1</td>\n",
       "      <td>1</td>\n",
       "      <td>0</td>\n",
       "      <td>0</td>\n",
       "      <td>0</td>\n",
       "      <td>0</td>\n",
       "      <td>0</td>\n",
       "    </tr>\n",
       "    <tr>\n",
       "      <th>4</th>\n",
       "      <td>61000</td>\n",
       "      <td>6360</td>\n",
       "      <td>2</td>\n",
       "      <td>1</td>\n",
       "      <td>1</td>\n",
       "      <td>1</td>\n",
       "      <td>0</td>\n",
       "      <td>0</td>\n",
       "      <td>0</td>\n",
       "      <td>0</td>\n",
       "      <td>0</td>\n",
       "      <td>0</td>\n",
       "    </tr>\n",
       "  </tbody>\n",
       "</table>\n",
       "</div>"
      ],
      "text/plain": [
       "   sale price  lot size  #bedroom  #bath  #stories  driveway  rec room  \\\n",
       "0       42000      5850         3      1         2         1         0   \n",
       "1       38500      4000         2      1         1         1         0   \n",
       "2       49500      3060         3      1         1         1         0   \n",
       "3       60500      6650         3      1         2         1         1   \n",
       "4       61000      6360         2      1         1         1         0   \n",
       "\n",
       "   basement  gas  air cond  #garage  desire loc  \n",
       "0         1    0         0        1           0  \n",
       "1         0    0         0        0           0  \n",
       "2         0    0         0        0           0  \n",
       "3         0    0         0        0           0  \n",
       "4         0    0         0        0           0  "
      ]
     },
     "execution_count": 4,
     "metadata": {},
     "output_type": "execute_result"
    }
   ],
   "source": [
    "df.head()"
   ]
  },
  {
   "cell_type": "code",
   "execution_count": 5,
   "id": "e1f456f7-0cb6-4a96-af2d-7f95a493e2bc",
   "metadata": {},
   "outputs": [],
   "source": [
    "y = df['sale price']\n",
    "n = y.shape[0]\n",
    "x1 = df['lot size']\n",
    "x2 = df['#bedroom']\n",
    "X = np.ones((n,3))\n",
    "X[:,1] = x1\n",
    "X[:,2] = x2"
   ]
  },
  {
   "cell_type": "code",
   "execution_count": 7,
   "id": "43eb1e63-782b-4da6-aad1-f1efcaa0c17e",
   "metadata": {},
   "outputs": [
    {
     "name": "stdout",
     "output_type": "stream",
     "text": [
      "                            OLS Regression Results                            \n",
      "==============================================================================\n",
      "Dep. Variable:             sale price   R-squared:                       0.370\n",
      "Model:                            OLS   Adj. R-squared:                  0.368\n",
      "Method:                 Least Squares   F-statistic:                     159.6\n",
      "Date:                Mon, 25 Apr 2022   Prob (F-statistic):           2.95e-55\n",
      "Time:                        11:38:17   Log-Likelihood:                -6213.1\n",
      "No. Observations:                 546   AIC:                         1.243e+04\n",
      "Df Residuals:                     543   BIC:                         1.245e+04\n",
      "Df Model:                           2                                         \n",
      "Covariance Type:            nonrobust                                         \n",
      "==============================================================================\n",
      "                 coef    std err          t      P>|t|      [0.025      0.975]\n",
      "------------------------------------------------------------------------------\n",
      "const       5612.5997   4102.819      1.368      0.172   -2446.741    1.37e+04\n",
      "x1             6.0530      0.424     14.265      0.000       5.219       6.887\n",
      "x2          1.057e+04   1247.676      8.470      0.000    8116.488     1.3e+04\n",
      "==============================================================================\n",
      "Omnibus:                       77.789   Durbin-Watson:                   1.193\n",
      "Prob(Omnibus):                  0.000   Jarque-Bera (JB):              146.854\n",
      "Skew:                           0.833   Prob(JB):                     1.29e-32\n",
      "Kurtosis:                       4.919   Cond. No.                     2.60e+04\n",
      "==============================================================================\n",
      "\n",
      "Notes:\n",
      "[1] Standard Errors assume that the covariance matrix of the errors is correctly specified.\n",
      "[2] The condition number is large, 2.6e+04. This might indicate that there are\n",
      "strong multicollinearity or other numerical problems.\n"
     ]
    }
   ],
   "source": [
    "## Step 1: fit the regression via OLS\n",
    "reg = sm.OLS(y, X)\n",
    "results = reg.fit()\n",
    "print(results.summary())"
   ]
  },
  {
   "cell_type": "code",
   "execution_count": 11,
   "id": "5ef7b7e7-2a83-4763-a598-ea1d0fe0205f",
   "metadata": {},
   "outputs": [],
   "source": [
    "alpha_hat = results.params.const\n",
    "beta1_hat = results.params.x1\n",
    "beta2_hat = results.params.x2\n",
    "uhat = results.resid"
   ]
  },
  {
   "cell_type": "code",
   "execution_count": 19,
   "id": "2b9761e7-0595-46da-9d57-7e10d7d1b802",
   "metadata": {},
   "outputs": [],
   "source": [
    "## We will focus on beta1\n",
    "\n",
    "## Set the number of bootstrap repititions\n",
    "B = 10_000\n",
    "\n",
    "## Allocate array to store bootstrapped beta1's\n",
    "beta1_hat_b = np.empty(B)\n",
    "\n",
    "## Simulation loop (Step 6 implied in the loop)\n",
    "for b in range(B):\n",
    "    \n",
    "    ## Step 4\n",
    "    uhat_b = np.random.choice(uhat, size=n)\n",
    "    y_b = alpha_hat + beta1_hat * x1 + beta2_hat * x2 + uhat_b\n",
    "    \n",
    "    ## Step 5\n",
    "    reg_b = sm.OLS(y_b, X)\n",
    "    results = reg_b.fit()\n",
    "    beta1_hat_b[b] = results.params.x1"
   ]
  },
  {
   "cell_type": "code",
   "execution_count": 21,
   "id": "5d531cd7-1849-4266-8669-1db780435849",
   "metadata": {},
   "outputs": [
    {
     "data": {
      "image/png": "[encoded data removed]",
      "text/plain": [
       "<Figure size 432x288 with 1 Axes>"
      ]
     },
     "metadata": {
      "needs_background": "light"
     },
     "output_type": "display_data"
    }
   ],
   "source": [
    "## Step 7\n",
    "plt.hist(beta1_hat_b, bins=50);"
   ]
  },
  {
   "cell_type": "code",
   "execution_count": 22,
   "id": "190cd5c2-f644-4281-aab3-4c405e820c77",
   "metadata": {},
   "outputs": [
    {
     "data": {
      "text/plain": [
       "(6.057077620348657, 0.42568747423820064)"
      ]
     },
     "execution_count": 22,
     "metadata": {},
     "output_type": "execute_result"
    }
   ],
   "source": [
    "beta1_hat_b.mean(), beta1_hat_b.std(ddof=1)"
   ]
  },
  {
   "cell_type": "code",
   "execution_count": null,
   "id": "dc4df2bf-7464-43ef-9cbd-b28d0c0deb7f",
   "metadata": {},
   "outputs": [],
   "source": []
  },
  {
   "cell_type": "markdown",
   "id": "7f3a3a27-a7d4-47e4-bb40-cbdf1ed25303",
   "metadata": {},
   "source": [
    "<br>\n",
    "\n",
    "## __Nonparametric Bootstrap for Regression__\n",
    "\n",
    "### __Algorithm (Nonparametric Bootstrap)__\n",
    "\n",
    "---\n",
    "\n",
    "1. Draw $\\quad \\{(y_{i}^{(1)},x_{1,i}^{(1)}, x_{2,i}^{(1)}), i=1, \\ldots, n \\} \\quad$ from the original data (in row-wise pairs) with replacement.\n",
    "\n",
    "2. Estimate the regression and store $\\quad {\\large \\{\\hat{\\alpha}^{(1)}, \\hat{\\beta}_{1}^{(1)}, \\hat{\\beta}_{2}^{(1)} \\}}$\n",
    "\n",
    "<br>\n",
    "\n",
    "$$\n",
    "{\\large y^{(1)} = \\alpha + \\beta_{1} x_{1}^{(1)} + \\beta_{2} x_{2}^{(1)} + \\epsilon}\n",
    "$$\n",
    "\n",
    "<br>\n",
    "\n",
    "\n",
    "\n",
    "3. Repeat step 2 for $b = 2, \\ldots, B$ and save\n",
    "\n",
    "<br>\n",
    "\n",
    "$$\n",
    "{\\large \\{\\hat{\\alpha}^{(b)}, \\hat{\\beta}_{1}^{(b)}, \\hat{\\beta}_{2}^{(b)} \\}_{b=2}^{B}}\n",
    "$$\n",
    "\n",
    "<br>\n",
    "\n",
    "\n",
    "4. Form histograms, hypothesis tests, confidence intervals, etc from \n",
    "\n",
    "<br>\n",
    "\n",
    "$$\n",
    "{\\large \\{\\hat{\\alpha}^{(b)}, \\hat{\\beta}_{1}^{(b)}, \\hat{\\beta}_{2}^{(b)} \\}_{b=2}^{B}}\n",
    "$$\n",
    "\n",
    "<br>\n",
    "\n",
    "---\n",
    "\n",
    "<br>"
   ]
  },
  {
   "cell_type": "markdown",
   "id": "0bf9098e-b41f-4bb4-afc4-4a390417304d",
   "metadata": {},
   "source": [
    "## Nonparametric Bootstrapping the House Price Data\n",
    "\n",
    "<br>"
   ]
  },
  {
   "cell_type": "code",
   "execution_count": 26,
   "id": "5cfc8223-a0d9-46f2-9b10-0abee6d1d775",
   "metadata": {},
   "outputs": [],
   "source": [
    "## Set the number of bootstrap repititions \n",
    "B = 10_000\n",
    "\n",
    "## Allocate array to store beta1's (still focus on those - arbitrarily)\n",
    "beta1_hat_b = np.empty(B)\n",
    "\n",
    "## Set indices for convenience in bootstrapping to create masked arrays\n",
    "indices = np.arange(1,n)\n",
    "\n",
    "## Main simulation loop (Step 3 implied in the loop)\n",
    "for b in range(B):\n",
    "    \n",
    "    ## Step 1 - draw the data nonparametrically with replacement\n",
    "    ii = np.random.choice(indices, size=n)\n",
    "    y_b = y[ii]\n",
    "    x1_b = x1[ii]\n",
    "    x2_b = x2[ii] \n",
    "    X_b = np.ones((n,3))\n",
    "    X_b[:,1] = x1_b\n",
    "    X_b[:,2] = x2_b\n",
    "    \n",
    "    ## Step 2 - estimate the regression on the bootstrapped data\n",
    "    reg_b = sm.OLS(y_b, X_b)\n",
    "    res_b = reg_b.fit()\n",
    "    beta1_hat_b[b] = res_b.params.x1"
   ]
  },
  {
   "cell_type": "code",
   "execution_count": 27,
   "id": "56850234-f471-4ac6-b299-35796d19f92e",
   "metadata": {},
   "outputs": [
    {
     "data": {
      "image/png": "[encoded data removed]",
      "text/plain": [
       "<Figure size 432x288 with 1 Axes>"
      ]
     },
     "metadata": {
      "needs_background": "light"
     },
     "output_type": "display_data"
    }
   ],
   "source": [
    "## Step 4 - histograms, etc\n",
    "plt.hist(beta1_hat_b, bins=50);"
   ]
  },
  {
   "cell_type": "code",
   "execution_count": null,
   "id": "52da3500-544e-4b7a-a527-052875396eb1",
   "metadata": {},
   "outputs": [],
   "source": []
  }
 ],
 "metadata": {
  "kernelspec": {
   "display_name": "Python 3 (ipykernel)",
   "language": "python",
   "name": "python3"
  },
  "language_info": {
   "codemirror_mode": {
    "name": "ipython",
    "version": 3
   },
   "file_extension": ".py",
   "mimetype": "text/x-python",
   "name": "python",
   "nbconvert_exporter": "python",
   "pygments_lexer": "ipython3",
   "version": "3.8.5"
  }
 },
 "nbformat": 4,
 "nbformat_minor": 5
}
