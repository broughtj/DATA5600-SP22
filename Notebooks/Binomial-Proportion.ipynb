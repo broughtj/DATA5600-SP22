{
 "cells": [
  {
   "cell_type": "code",
   "execution_count": 1,
   "id": "18d3b5ac-c43a-4572-b6c4-125a420a4778",
   "metadata": {},
   "outputs": [],
   "source": [
    "import numpy as np\n",
    "import matplotlib.pyplot as plt"
   ]
  },
  {
   "cell_type": "markdown",
   "id": "2c8dbc61-c304-49c5-ba4d-30177e50f4cc",
   "metadata": {},
   "source": [
    "## __1.__ Set up the true population "
   ]
  },
  {
   "cell_type": "code",
   "execution_count": 2,
   "id": "42f1703a-d578-4529-8e56-88eacdd1ca63",
   "metadata": {},
   "outputs": [],
   "source": [
    "θ = 0.70"
   ]
  },
  {
   "cell_type": "code",
   "execution_count": 9,
   "id": "02217fbc-3ffe-454e-b3cd-06789e489995",
   "metadata": {},
   "outputs": [],
   "source": [
    "n = 500"
   ]
  },
  {
   "cell_type": "markdown",
   "id": "eee736ab-fe92-44f8-8b0d-8067ca02b236",
   "metadata": {},
   "source": [
    "## __2.__ The Statistician Gets Her Data"
   ]
  },
  {
   "cell_type": "code",
   "execution_count": 10,
   "id": "5e883f0c-1102-4eaa-8b13-e95011aea512",
   "metadata": {},
   "outputs": [],
   "source": [
    "x = np.random.binomial(n=1, p=θ, size=n)"
   ]
  },
  {
   "cell_type": "code",
   "execution_count": 11,
   "id": "e4411236-69cd-4113-bc6d-b730659d8483",
   "metadata": {},
   "outputs": [
    {
     "data": {
      "text/plain": [
       "array([0, 1, 0, 1, 1, 1, 1, 1, 1, 1, 0, 1, 1, 1, 1, 1, 1, 1, 0, 1, 1, 1,\n",
       "       1, 0, 1, 0, 1, 1, 0, 1, 1, 1, 0, 0, 0, 1, 1, 1, 1, 1, 0, 1, 1, 0,\n",
       "       1, 1, 1, 0, 1, 1, 1, 1, 1, 0, 0, 1, 1, 1, 0, 1, 0, 0, 1, 1, 1, 1,\n",
       "       0, 1, 0, 1, 1, 1, 0, 1, 1, 0, 1, 0, 1, 1, 1, 1, 1, 1, 0, 0, 1, 1,\n",
       "       1, 1, 1, 0, 0, 1, 1, 1, 1, 1, 0, 0, 1, 1, 0, 0, 1, 1, 0, 0, 1, 0,\n",
       "       1, 0, 0, 1, 1, 0, 1, 1, 0, 1, 1, 1, 1, 0, 0, 1, 0, 0, 0, 1, 0, 1,\n",
       "       0, 1, 1, 0, 1, 0, 1, 1, 0, 0, 0, 1, 0, 1, 0, 1, 1, 1, 0, 0, 0, 1,\n",
       "       1, 0, 1, 1, 1, 0, 0, 1, 1, 0, 1, 1, 0, 0, 0, 0, 1, 1, 0, 1, 1, 0,\n",
       "       0, 1, 0, 1, 1, 1, 1, 1, 1, 1, 0, 1, 0, 0, 1, 1, 1, 1, 0, 1, 0, 1,\n",
       "       0, 1, 1, 0, 1, 1, 1, 1, 0, 1, 1, 1, 0, 1, 1, 1, 0, 0, 1, 0, 1, 1,\n",
       "       1, 0, 1, 1, 0, 1, 1, 1, 1, 1, 1, 0, 0, 1, 1, 1, 1, 1, 1, 1, 1, 1,\n",
       "       0, 1, 1, 1, 0, 1, 0, 1, 1, 1, 1, 1, 1, 1, 1, 0, 1, 1, 0, 0, 0, 0,\n",
       "       1, 1, 1, 1, 1, 1, 1, 1, 1, 1, 0, 1, 0, 1, 1, 0, 0, 1, 1, 1, 0, 0,\n",
       "       1, 1, 1, 0, 1, 1, 1, 1, 1, 1, 1, 1, 1, 0, 0, 1, 1, 1, 0, 0, 1, 1,\n",
       "       0, 1, 1, 1, 1, 1, 1, 1, 1, 1, 1, 1, 1, 1, 1, 1, 1, 1, 1, 1, 1, 1,\n",
       "       0, 1, 1, 1, 1, 1, 1, 1, 1, 1, 0, 0, 0, 0, 1, 0, 1, 0, 0, 0, 1, 1,\n",
       "       1, 1, 1, 1, 1, 1, 1, 0, 1, 1, 1, 1, 1, 1, 0, 1, 1, 0, 1, 1, 1, 1,\n",
       "       1, 1, 1, 1, 1, 0, 1, 1, 0, 1, 1, 0, 0, 1, 0, 0, 1, 1, 1, 1, 1, 0,\n",
       "       1, 0, 1, 1, 1, 1, 1, 0, 1, 1, 1, 1, 1, 1, 1, 1, 1, 1, 1, 1, 1, 1,\n",
       "       1, 0, 1, 1, 1, 0, 0, 1, 1, 0, 1, 1, 0, 1, 1, 1, 0, 0, 0, 0, 1, 0,\n",
       "       1, 1, 1, 1, 0, 1, 1, 1, 1, 1, 1, 1, 1, 0, 1, 0, 1, 0, 1, 1, 0, 1,\n",
       "       0, 1, 1, 1, 0, 1, 1, 0, 0, 1, 1, 1, 0, 0, 1, 1, 1, 0, 0, 1, 1, 1,\n",
       "       1, 1, 1, 0, 0, 1, 1, 0, 0, 1, 1, 1, 1, 1, 1, 1])"
      ]
     },
     "execution_count": 11,
     "metadata": {},
     "output_type": "execute_result"
    }
   ],
   "source": [
    "x"
   ]
  },
  {
   "cell_type": "code",
   "execution_count": 12,
   "id": "5e1909d6-61ae-4761-9f66-8728072fa8af",
   "metadata": {},
   "outputs": [],
   "source": [
    "x̄ = np.mean(x)"
   ]
  },
  {
   "cell_type": "code",
   "execution_count": 13,
   "id": "02ed00ba-f14f-4bc7-a0a9-a31669cf38e5",
   "metadata": {},
   "outputs": [
    {
     "data": {
      "text/plain": [
       "0.698"
      ]
     },
     "execution_count": 13,
     "metadata": {},
     "output_type": "execute_result"
    }
   ],
   "source": [
    "x̄"
   ]
  },
  {
   "cell_type": "markdown",
   "id": "d226f317-68c8-43f2-809e-ef0e0773abdd",
   "metadata": {},
   "source": [
    "## __3.__ The Thought Experiment of Sampling "
   ]
  },
  {
   "cell_type": "code",
   "execution_count": 17,
   "id": "1f4693e2-ac95-47f9-8c18-dbf1b50d3b3e",
   "metadata": {},
   "outputs": [],
   "source": [
    "M = 10_000\n",
    "xbars = np.zeros(M)\n",
    "\n",
    "for i in range(M):\n",
    "    x = np.random.binomial(n=1, p=θ, size=n)\n",
    "    xbars[i] = np.mean(x)"
   ]
  },
  {
   "cell_type": "code",
   "execution_count": 18,
   "id": "fd6fce4c-925c-42e0-9908-0969edd978fa",
   "metadata": {},
   "outputs": [
    {
     "data": {
      "text/plain": [
       "array([0.71 , 0.682, 0.684, ..., 0.698, 0.68 , 0.7  ])"
      ]
     },
     "execution_count": 18,
     "metadata": {},
     "output_type": "execute_result"
    }
   ],
   "source": [
    "xbars"
   ]
  },
  {
   "cell_type": "code",
   "execution_count": 19,
   "id": "de64b166-84ce-4dc4-8fdd-3e893fa7c7bf",
   "metadata": {},
   "outputs": [
    {
     "data": {
      "text/plain": [
       "(0.7001612, 0.020238788882182182)"
      ]
     },
     "execution_count": 19,
     "metadata": {},
     "output_type": "execute_result"
    }
   ],
   "source": [
    "(xbars.mean(), xbars.std(ddof=1))"
   ]
  },
  {
   "cell_type": "code",
   "execution_count": 20,
   "id": "72379ea6-0b7f-4c55-93dc-92a9f0d1a820",
   "metadata": {},
   "outputs": [
    {
     "data": {
      "image/png": "[encoded data removed]",
      "text/plain": [
       "<Figure size 640x480 with 1 Axes>"
      ]
     },
     "metadata": {},
     "output_type": "display_data"
    }
   ],
   "source": [
    "plt.hist(xbars)\n",
    "plt.show()"
   ]
  },
  {
   "cell_type": "code",
   "execution_count": null,
   "id": "a7a97137-2d7c-48d9-bcff-b59769789979",
   "metadata": {},
   "outputs": [],
   "source": []
  }
 ],
 "metadata": {
  "kernelspec": {
   "display_name": "Python 3",
   "language": "python",
   "name": "python3"
  },
  "language_info": {
   "codemirror_mode": {
    "name": "ipython",
    "version": 3
   },
   "file_extension": ".py",
   "mimetype": "text/x-python",
   "name": "python",
   "nbconvert_exporter": "python",
   "pygments_lexer": "ipython3",
   "version": "3.8.5"
  }
 },
 "nbformat": 4,
 "nbformat_minor": 5
}
