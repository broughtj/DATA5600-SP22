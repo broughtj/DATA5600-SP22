{
 "cells": [
  {
   "cell_type": "code",
   "execution_count": 1,
   "id": "ffcd68f6-f01d-4721-a1ac-0a4445587c27",
   "metadata": {},
   "outputs": [],
   "source": [
    "import numpy as np"
   ]
  },
  {
   "cell_type": "code",
   "execution_count": 2,
   "id": "f38ecc98-a0f0-44d0-812a-dfba5c4330a9",
   "metadata": {},
   "outputs": [],
   "source": [
    "## True parameters of our population pdf N(\\mu, \\sigma)\n",
    "μ = 5.0\n",
    "σ = 2.5"
   ]
  },
  {
   "cell_type": "code",
   "execution_count": 4,
   "id": "01a68b2f-50a0-4bec-9827-fb5944ade2cc",
   "metadata": {},
   "outputs": [],
   "source": [
    "## Increasing sample sizes\n",
    "N = np.array([5*10**n for n in range(1,7)])"
   ]
  },
  {
   "cell_type": "code",
   "execution_count": 5,
   "id": "7feed3d8-a471-43f2-85e2-20188652f303",
   "metadata": {},
   "outputs": [
    {
     "data": {
      "text/plain": [
       "array([     50,     500,    5000,   50000,  500000, 5000000])"
      ]
     },
     "execution_count": 5,
     "metadata": {},
     "output_type": "execute_result"
    }
   ],
   "source": [
    "N"
   ]
  },
  {
   "cell_type": "code",
   "execution_count": 6,
   "id": "d995dda0-3a7c-467e-a191-32bb4d74a45d",
   "metadata": {},
   "outputs": [],
   "source": [
    "## Empty arrays ready for simulating values\n",
    "x̄ = np.zeros(6)\n",
    "b = np.zeros(6)"
   ]
  },
  {
   "cell_type": "code",
   "execution_count": 7,
   "id": "7f0145a6-66fc-4967-bf32-8825a78ba2d5",
   "metadata": {},
   "outputs": [],
   "source": [
    "## The main Monte Carlo simulation loop\n",
    "\n",
    "for i in range(6):\n",
    "    x = np.random.normal(μ, σ, size=N[i])\n",
    "    x̄[i] = np.mean(x)\n",
    "    b[i] = np.mean(x) - μ"
   ]
  },
  {
   "cell_type": "code",
   "execution_count": 8,
   "id": "62b70c39-1356-4f86-82ca-ee52d6937e8a",
   "metadata": {},
   "outputs": [
    {
     "data": {
      "text/plain": [
       "array([5.28527368, 4.79560183, 5.04002845, 5.00647619, 5.00005632,\n",
       "       5.00080676])"
      ]
     },
     "execution_count": 8,
     "metadata": {},
     "output_type": "execute_result"
    }
   ],
   "source": [
    "x̄"
   ]
  },
  {
   "cell_type": "code",
   "execution_count": 9,
   "id": "5e04f1a0-309f-41e0-a0b5-335fbf78fac2",
   "metadata": {},
   "outputs": [
    {
     "data": {
      "text/plain": [
       "array([2.85273682e-01, 2.04398165e-01, 4.00284541e-02, 6.47619040e-03,\n",
       "       5.63154130e-05, 8.06764392e-04])"
      ]
     },
     "execution_count": 9,
     "metadata": {},
     "output_type": "execute_result"
    }
   ],
   "source": [
    "np.abs(b)"
   ]
  },
  {
   "cell_type": "code",
   "execution_count": null,
   "id": "c40a640a-c669-4550-9077-8d769ea2f68d",
   "metadata": {},
   "outputs": [],
   "source": []
  }
 ],
 "metadata": {
  "kernelspec": {
   "display_name": "Python 3",
   "language": "python",
   "name": "python3"
  },
  "language_info": {
   "codemirror_mode": {
    "name": "ipython",
    "version": 3
   },
   "file_extension": ".py",
   "mimetype": "text/x-python",
   "name": "python",
   "nbconvert_exporter": "python",
   "pygments_lexer": "ipython3",
   "version": "3.8.5"
  }
 },
 "nbformat": 4,
 "nbformat_minor": 5
}
