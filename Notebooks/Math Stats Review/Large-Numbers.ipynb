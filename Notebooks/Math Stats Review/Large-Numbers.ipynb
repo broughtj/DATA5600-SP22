{
 "cells": [
  {
   "cell_type": "markdown",
   "id": "51b283b4-b98f-4759-80b9-dd5e3af8eb0a",
   "metadata": {},
   "source": [
    "## __Law of Large Numbers: Simulation__\n",
    "\n",
    "---\n",
    "\n",
    "<br>\n",
    "\n",
    "Author:      Tyler J. Brough <br>\n",
    "Last Update: March 21, 2022 <br>\n",
    "\n",
    "<br>\n",
    "\n",
    "This notebook is based on the following sources: \n",
    "\n",
    "* _Appendix C: Fundamentals of Mathematical Statistics_ in the book _Introductory Econometrics: A Modern Approach 5th Edition_ by Wooldridge \n",
    "\n",
    "\n",
    "---\n",
    "\n",
    "<br>"
   ]
  },
  {
   "cell_type": "code",
   "execution_count": 1,
   "id": "2b4b69bf-9c87-40d4-b4c9-163d84723686",
   "metadata": {},
   "outputs": [],
   "source": [
    "import numpy as np\n",
    "import pandas as pd\n",
    "import matplotlib.pyplot as plt\n",
    "\n",
    "plt.rcParams['figure.figsize'] = (20, 10)"
   ]
  },
  {
   "cell_type": "code",
   "execution_count": 2,
   "id": "4beaf03f-4ac7-477d-8499-99f30ceca36b",
   "metadata": {},
   "outputs": [],
   "source": [
    "%matplotlib inline"
   ]
  },
  {
   "cell_type": "code",
   "execution_count": 3,
   "id": "8774afb5-2480-48dc-8cbd-8d8046c55b7d",
   "metadata": {},
   "outputs": [],
   "source": [
    "np.random.seed(153)"
   ]
  },
  {
   "cell_type": "code",
   "execution_count": 4,
   "id": "b80bbc39-e411-42e4-85b4-dfffc566bac6",
   "metadata": {},
   "outputs": [],
   "source": [
    "M = 500\n",
    "N = [5*10**n for n in range(1, 5)]"
   ]
  },
  {
   "cell_type": "code",
   "execution_count": 5,
   "id": "64c35ba7-ef16-4a67-bd8e-93401c21ed9b",
   "metadata": {},
   "outputs": [],
   "source": [
    "μ = 4.0\n",
    "σ = 6.0\n",
    "\n",
    "x = np.zeros((M,4))\n",
    "\n",
    "for i in range(4):\n",
    "    for j in range(M):\n",
    "        dat = np.random.normal(loc=μ, scale=σ, size=N[i])\n",
    "        x[j, i] = np.mean(dat) "
   ]
  },
  {
   "cell_type": "code",
   "execution_count": 6,
   "id": "253ec761-3274-4144-a878-dd17658b1779",
   "metadata": {},
   "outputs": [
    {
     "data": {
      "text/plain": [
       "array([4.02552725, 3.99362916, 4.00206118, 3.99970387])"
      ]
     },
     "execution_count": 6,
     "metadata": {},
     "output_type": "execute_result"
    }
   ],
   "source": [
    "np.mean(x, axis=0)"
   ]
  },
  {
   "cell_type": "code",
   "execution_count": 7,
   "id": "70540a28-60b9-4f5a-9b73-c4609ed443b1",
   "metadata": {},
   "outputs": [
    {
     "data": {
      "text/plain": [
       "array([0.86354607, 0.24750465, 0.08429549, 0.02475776])"
      ]
     },
     "execution_count": 7,
     "metadata": {},
     "output_type": "execute_result"
    }
   ],
   "source": [
    "np.std(x, axis=0, ddof=1)"
   ]
  },
  {
   "cell_type": "code",
   "execution_count": 8,
   "id": "525de997-4fa3-47af-9f56-572c7b97487f",
   "metadata": {},
   "outputs": [],
   "source": [
    "df = pd.DataFrame(x)"
   ]
  },
  {
   "cell_type": "code",
   "execution_count": 9,
   "id": "fd61c447-6c37-48e6-8207-8d455de8191a",
   "metadata": {},
   "outputs": [
    {
     "data": {
      "text/html": [
       "<div>\n",
       "<style scoped>\n",
       "    .dataframe tbody tr th:only-of-type {\n",
       "        vertical-align: middle;\n",
       "    }\n",
       "\n",
       "    .dataframe tbody tr th {\n",
       "        vertical-align: top;\n",
       "    }\n",
       "\n",
       "    .dataframe thead th {\n",
       "        text-align: right;\n",
       "    }\n",
       "</style>\n",
       "<table border=\"1\" class=\"dataframe\">\n",
       "  <thead>\n",
       "    <tr style=\"text-align: right;\">\n",
       "      <th></th>\n",
       "      <th>0</th>\n",
       "      <th>1</th>\n",
       "      <th>2</th>\n",
       "      <th>3</th>\n",
       "    </tr>\n",
       "  </thead>\n",
       "  <tbody>\n",
       "    <tr>\n",
       "      <th>0</th>\n",
       "      <td>4.641105</td>\n",
       "      <td>4.128317</td>\n",
       "      <td>3.980341</td>\n",
       "      <td>3.974795</td>\n",
       "    </tr>\n",
       "    <tr>\n",
       "      <th>1</th>\n",
       "      <td>3.649658</td>\n",
       "      <td>4.162336</td>\n",
       "      <td>3.877818</td>\n",
       "      <td>4.032121</td>\n",
       "    </tr>\n",
       "    <tr>\n",
       "      <th>2</th>\n",
       "      <td>4.247970</td>\n",
       "      <td>4.006190</td>\n",
       "      <td>3.891662</td>\n",
       "      <td>3.988262</td>\n",
       "    </tr>\n",
       "    <tr>\n",
       "      <th>3</th>\n",
       "      <td>3.537809</td>\n",
       "      <td>4.008940</td>\n",
       "      <td>3.992148</td>\n",
       "      <td>4.023179</td>\n",
       "    </tr>\n",
       "    <tr>\n",
       "      <th>4</th>\n",
       "      <td>2.763200</td>\n",
       "      <td>4.010311</td>\n",
       "      <td>3.997325</td>\n",
       "      <td>4.028644</td>\n",
       "    </tr>\n",
       "  </tbody>\n",
       "</table>\n",
       "</div>"
      ],
      "text/plain": [
       "          0         1         2         3\n",
       "0  4.641105  4.128317  3.980341  3.974795\n",
       "1  3.649658  4.162336  3.877818  4.032121\n",
       "2  4.247970  4.006190  3.891662  3.988262\n",
       "3  3.537809  4.008940  3.992148  4.023179\n",
       "4  2.763200  4.010311  3.997325  4.028644"
      ]
     },
     "execution_count": 9,
     "metadata": {},
     "output_type": "execute_result"
    }
   ],
   "source": [
    "df.head()"
   ]
  },
  {
   "cell_type": "code",
   "execution_count": 10,
   "id": "e40e6f12-63b6-439a-9ddd-554ca88ba249",
   "metadata": {},
   "outputs": [
    {
     "data": {
      "text/plain": [
       "<AxesSubplot:ylabel='Density'>"
      ]
     },
     "execution_count": 10,
     "metadata": {},
     "output_type": "execute_result"
    },
    {
     "data": {
      "image/png": "[encoded data removed]",
      "text/plain": [
       "<Figure size 432x288 with 1 Axes>"
      ]
     },
     "metadata": {
      "needs_background": "light"
     },
     "output_type": "display_data"
    }
   ],
   "source": [
    "df.plot.kde()"
   ]
  },
  {
   "cell_type": "code",
   "execution_count": null,
   "id": "2efce909-374c-4f39-99ea-dcb0d686795d",
   "metadata": {},
   "outputs": [],
   "source": []
  }
 ],
 "metadata": {
  "kernelspec": {
   "display_name": "Python 3",
   "language": "python",
   "name": "python3"
  },
  "language_info": {
   "codemirror_mode": {
    "name": "ipython",
    "version": 3
   },
   "file_extension": ".py",
   "mimetype": "text/x-python",
   "name": "python",
   "nbconvert_exporter": "python",
   "pygments_lexer": "ipython3",
   "version": "3.8.5"
  }
 },
 "nbformat": 4,
 "nbformat_minor": 5
}
