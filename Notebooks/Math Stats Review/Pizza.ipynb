{
 "cells": [
  {
   "cell_type": "code",
   "execution_count": 1,
   "id": "e7b4430f-baa0-4b98-8f9e-b936dc5c852c",
   "metadata": {},
   "outputs": [],
   "source": [
    "import numpy as np\n",
    "import pandas as pd\n",
    "import scipy.stats as stats\n",
    "import matplotlib.pyplot as plt"
   ]
  },
  {
   "cell_type": "code",
   "execution_count": 2,
   "id": "3a0fcacb-843d-4489-8d11-19060cae0122",
   "metadata": {},
   "outputs": [],
   "source": [
    "%matplotlib inline"
   ]
  },
  {
   "cell_type": "code",
   "execution_count": 3,
   "id": "6bd6a36d-cd90-48e9-986a-a0fbd76c1a27",
   "metadata": {},
   "outputs": [
    {
     "data": {
      "text/plain": [
       "\u001b[0;31mDocstring:\u001b[0m\n",
       "exponential(scale=1.0, size=None)\n",
       "\n",
       "Draw samples from an exponential distribution.\n",
       "\n",
       "Its probability density function is\n",
       "\n",
       ".. math:: f(x; \\frac{1}{\\beta}) = \\frac{1}{\\beta} \\exp(-\\frac{x}{\\beta}),\n",
       "\n",
       "for ``x > 0`` and 0 elsewhere. :math:`\\beta` is the scale parameter,\n",
       "which is the inverse of the rate parameter :math:`\\lambda = 1/\\beta`.\n",
       "The rate parameter is an alternative, widely used parameterization\n",
       "of the exponential distribution [3]_.\n",
       "\n",
       "The exponential distribution is a continuous analogue of the\n",
       "geometric distribution.  It describes many common situations, such as\n",
       "the size of raindrops measured over many rainstorms [1]_, or the time\n",
       "between page requests to Wikipedia [2]_.\n",
       "\n",
       ".. note::\n",
       "    New code should use the ``exponential`` method of a ``default_rng()``\n",
       "    instance instead; please see the :ref:`random-quick-start`.\n",
       "\n",
       "Parameters\n",
       "----------\n",
       "scale : float or array_like of floats\n",
       "    The scale parameter, :math:`\\beta = 1/\\lambda`. Must be\n",
       "    non-negative.\n",
       "size : int or tuple of ints, optional\n",
       "    Output shape.  If the given shape is, e.g., ``(m, n, k)``, then\n",
       "    ``m * n * k`` samples are drawn.  If size is ``None`` (default),\n",
       "    a single value is returned if ``scale`` is a scalar.  Otherwise,\n",
       "    ``np.array(scale).size`` samples are drawn.\n",
       "\n",
       "Returns\n",
       "-------\n",
       "out : ndarray or scalar\n",
       "    Drawn samples from the parameterized exponential distribution.\n",
       "\n",
       "See Also\n",
       "--------\n",
       "Generator.exponential: which should be used for new code.\n",
       "\n",
       "References\n",
       "----------\n",
       ".. [1] Peyton Z. Peebles Jr., \"Probability, Random Variables and\n",
       "       Random Signal Principles\", 4th ed, 2001, p. 57.\n",
       ".. [2] Wikipedia, \"Poisson process\",\n",
       "       https://en.wikipedia.org/wiki/Poisson_process\n",
       ".. [3] Wikipedia, \"Exponential distribution\",\n",
       "       https://en.wikipedia.org/wiki/Exponential_distribution\n",
       "\u001b[0;31mType:\u001b[0m      builtin_function_or_method\n"
      ]
     },
     "metadata": {},
     "output_type": "display_data"
    }
   ],
   "source": [
    "np.random.exponential?"
   ]
  },
  {
   "cell_type": "markdown",
   "id": "888ea444-848c-4898-a05c-ffb4e24bba83",
   "metadata": {},
   "source": [
    "$$\n",
    "f(x; \\frac{1}{\\beta}) = \\frac{1}{\\beta} \\exp(-\\frac{x}{\\beta})\n",
    "$$"
   ]
  },
  {
   "cell_type": "markdown",
   "id": "8758c332-f28c-47cf-bfb3-7d2915912838",
   "metadata": {},
   "source": [
    "## __Step 0: Initialize the Population Distribution__"
   ]
  },
  {
   "cell_type": "code",
   "execution_count": 4,
   "id": "0c54eb61-c3e6-42ee-868d-45767fcf2596",
   "metadata": {},
   "outputs": [],
   "source": [
    "## The true population distribution is $X \\sim Exp(\\beta)$ \n",
    "\n",
    "β = 5.0"
   ]
  },
  {
   "cell_type": "code",
   "execution_count": 5,
   "id": "29009dae-5859-4797-a4f5-7a854b7c22f3",
   "metadata": {},
   "outputs": [],
   "source": [
    "## Set the sample size\n",
    "\n",
    "n = 50"
   ]
  },
  {
   "cell_type": "code",
   "execution_count": 6,
   "id": "aa725479-201a-49c9-aeac-52265051fdca",
   "metadata": {},
   "outputs": [],
   "source": [
    "## Generate the sample of data\n",
    "\n",
    "x = np.random.exponential(scale = β, size=n)"
   ]
  },
  {
   "cell_type": "code",
   "execution_count": null,
   "id": "11769de3-c960-48ba-9a41-819be2b32ee1",
   "metadata": {},
   "outputs": [],
   "source": []
  },
  {
   "cell_type": "markdown",
   "id": "2115feb7-6836-4138-8637-8533011bf592",
   "metadata": {},
   "source": [
    "## __Step 1: The Statistician Gets Her Data__"
   ]
  },
  {
   "cell_type": "code",
   "execution_count": 7,
   "id": "2eadc7aa-4537-4d1c-8759-61130f43574d",
   "metadata": {},
   "outputs": [],
   "source": [
    "x̄ = np.mean(x)"
   ]
  },
  {
   "cell_type": "code",
   "execution_count": 8,
   "id": "650f77ca-7f84-4e28-a3ea-6f2e1ecb2c14",
   "metadata": {},
   "outputs": [
    {
     "data": {
      "text/plain": [
       "4.991676711680743"
      ]
     },
     "execution_count": 8,
     "metadata": {},
     "output_type": "execute_result"
    }
   ],
   "source": [
    "x̄"
   ]
  },
  {
   "cell_type": "code",
   "execution_count": 9,
   "id": "88b3df6a-cbe7-4c3c-b579-158528b458a1",
   "metadata": {},
   "outputs": [],
   "source": [
    "## Set her confidence coefficient\n",
    "\n",
    "α = 0.05"
   ]
  },
  {
   "cell_type": "code",
   "execution_count": 10,
   "id": "4b2a1a38-2204-4a90-8389-b64c61a387c5",
   "metadata": {},
   "outputs": [],
   "source": [
    "t_crit = stats.t(n-1).ppf(1.0 - α / 2.)"
   ]
  },
  {
   "cell_type": "code",
   "execution_count": 11,
   "id": "8299a9bf-57f6-42e2-94a6-bb456d0ee40e",
   "metadata": {},
   "outputs": [
    {
     "data": {
      "text/plain": [
       "2.009575234489209"
      ]
     },
     "execution_count": 11,
     "metadata": {},
     "output_type": "execute_result"
    }
   ],
   "source": [
    "t_crit"
   ]
  },
  {
   "cell_type": "code",
   "execution_count": 12,
   "id": "4f566707-c733-403e-9f6f-9d67469844b6",
   "metadata": {},
   "outputs": [],
   "source": [
    "s = np.std(x, ddof=1)"
   ]
  },
  {
   "cell_type": "code",
   "execution_count": 13,
   "id": "3d167a40-64f2-48bd-8b72-216533cec02d",
   "metadata": {},
   "outputs": [],
   "source": [
    "lb = x̄ - t_crit * s / np.sqrt(n)\n",
    "ub = x̄ + t_crit * s / np.sqrt(n)"
   ]
  },
  {
   "cell_type": "code",
   "execution_count": 14,
   "id": "d9b70606-ae50-4177-834c-8b75a3f066cf",
   "metadata": {},
   "outputs": [
    {
     "data": {
      "text/plain": [
       "(3.72279900787506, 6.260554415486426)"
      ]
     },
     "execution_count": 14,
     "metadata": {},
     "output_type": "execute_result"
    }
   ],
   "source": [
    "lb, ub"
   ]
  },
  {
   "cell_type": "markdown",
   "id": "737142ee-041a-4a5e-ac5b-ea9b01dfa1f6",
   "metadata": {},
   "source": [
    "## __Monte Carlo Simulation__"
   ]
  },
  {
   "cell_type": "code",
   "execution_count": 15,
   "id": "18290f0b-e31a-4f27-ac03-be570a19ec7c",
   "metadata": {},
   "outputs": [],
   "source": [
    "np.random.seed(12345)"
   ]
  },
  {
   "cell_type": "code",
   "execution_count": 16,
   "id": "941d257f-953e-46d4-a342-15542b4e96c7",
   "metadata": {},
   "outputs": [],
   "source": [
    "## Monte Carlo repititions\n",
    "\n",
    "M = 5_000_000\n",
    "\n",
    "## Set the sample size\n",
    "\n",
    "n = 5000"
   ]
  },
  {
   "cell_type": "code",
   "execution_count": 17,
   "id": "23f0861b-46ae-4309-b60d-f56245ed5794",
   "metadata": {},
   "outputs": [],
   "source": [
    "## Set up containers\n",
    "\n",
    "xbars = np.zeros(M)\n",
    "#s = np.zeros(M)\n",
    "\n",
    "## The main simulation loop\n",
    "\n",
    "for m in range(M):\n",
    "    x = np.random.exponential(scale=β, size=n)\n",
    "    xbars[m] = np.mean(x)\n",
    "    #s[m] = np.std(x, ddof=1)"
   ]
  },
  {
   "cell_type": "code",
   "execution_count": 18,
   "id": "65182aff-9c82-4c26-8ee1-ba3b0f59b01f",
   "metadata": {},
   "outputs": [
    {
     "data": {
      "text/plain": [
       "array([4.94251951, 5.14770624, 5.00745038, ..., 5.11872048, 5.0107114 ,\n",
       "       5.07922384])"
      ]
     },
     "execution_count": 18,
     "metadata": {},
     "output_type": "execute_result"
    }
   ],
   "source": [
    "xbars"
   ]
  },
  {
   "cell_type": "code",
   "execution_count": 19,
   "id": "e8dcfe6c-4282-4c56-a4dd-7d4863de23b2",
   "metadata": {},
   "outputs": [
    {
     "data": {
      "text/plain": [
       "(5.000012199762452, 0.07072246880560419)"
      ]
     },
     "execution_count": 19,
     "metadata": {},
     "output_type": "execute_result"
    }
   ],
   "source": [
    "(xbars.mean(), xbars.std(ddof=1))"
   ]
  },
  {
   "cell_type": "code",
   "execution_count": 20,
   "id": "81335e38-d585-4a63-85af-ed21f9b42e9f",
   "metadata": {},
   "outputs": [],
   "source": [
    "xbars.sort()"
   ]
  },
  {
   "cell_type": "code",
   "execution_count": 21,
   "id": "d8b3dfc6-8310-4f70-8902-b1dc116f1e49",
   "metadata": {},
   "outputs": [
    {
     "data": {
      "text/plain": [
       "array([4.64772677, 4.6632009 , 4.66872533, 4.67059234, 4.6718699 ,\n",
       "       4.67960442, 4.68027503, 4.68116556, 4.68304328, 4.68483002])"
      ]
     },
     "execution_count": 21,
     "metadata": {},
     "output_type": "execute_result"
    }
   ],
   "source": [
    "xbars[:10]"
   ]
  },
  {
   "cell_type": "code",
   "execution_count": 22,
   "id": "071621ed-168d-4992-826f-fde5eae32ede",
   "metadata": {},
   "outputs": [
    {
     "data": {
      "text/plain": [
       "array([5.340674  , 5.34101284, 5.3415053 , 5.34181147, 5.34316618,\n",
       "       5.34501877, 5.35653671, 5.36148024, 5.36180713, 5.40256336])"
      ]
     },
     "execution_count": 22,
     "metadata": {},
     "output_type": "execute_result"
    }
   ],
   "source": [
    "xbars[-10:]"
   ]
  },
  {
   "cell_type": "code",
   "execution_count": 23,
   "id": "ee34cc25-39b2-4bd1-9255-ffb0f1a31c3d",
   "metadata": {},
   "outputs": [],
   "source": [
    "xbars_s = pd.Series(xbars)"
   ]
  },
  {
   "cell_type": "code",
   "execution_count": 24,
   "id": "0432289e-d78f-4144-b9d3-82a56820c6cd",
   "metadata": {},
   "outputs": [
    {
     "data": {
      "text/plain": [
       "<AxesSubplot:ylabel='Density'>"
      ]
     },
     "execution_count": 24,
     "metadata": {},
     "output_type": "execute_result"
    },
    {
     "data": {
      "image/png": "[encoded data removed]",
      "text/plain": [
       "<Figure size 432x288 with 1 Axes>"
      ]
     },
     "metadata": {
      "needs_background": "light"
     },
     "output_type": "display_data"
    }
   ],
   "source": [
    "xbars_s.plot.kde()"
   ]
  },
  {
   "cell_type": "code",
   "execution_count": 25,
   "id": "4443b75c-86ba-4bdb-b79d-fe559ae5dd30",
   "metadata": {},
   "outputs": [],
   "source": [
    "z = (xbars - β) / np.std(xbars, ddof=1)"
   ]
  },
  {
   "cell_type": "code",
   "execution_count": 26,
   "id": "d386a1ca-4b18-45ad-9dd5-768827c83466",
   "metadata": {},
   "outputs": [
    {
     "data": {
      "text/plain": [
       "(0.00017250193112618216, 1.0000000000000002)"
      ]
     },
     "execution_count": 26,
     "metadata": {},
     "output_type": "execute_result"
    }
   ],
   "source": [
    "(z.mean(), z.std(ddof=1))"
   ]
  },
  {
   "cell_type": "code",
   "execution_count": 27,
   "id": "dfa89c68-8501-4d17-b48d-e0556d358b70",
   "metadata": {},
   "outputs": [
    {
     "data": {
      "text/plain": [
       "125000"
      ]
     },
     "execution_count": 27,
     "metadata": {},
     "output_type": "execute_result"
    }
   ],
   "source": [
    "int(α / 2.0 * M)"
   ]
  },
  {
   "cell_type": "code",
   "execution_count": 28,
   "id": "f0eeb9a4-2bb1-4f2b-b002-4bfa0546ea35",
   "metadata": {},
   "outputs": [],
   "source": [
    "lo = int((α / 2.0) * M) \n",
    "hi = int((1 - α/2) * M) "
   ]
  },
  {
   "cell_type": "code",
   "execution_count": 29,
   "id": "dfb3e48c-2358-4c93-854a-b309325b3eb5",
   "metadata": {},
   "outputs": [
    {
     "data": {
      "text/plain": [
       "-1.946162773761331"
      ]
     },
     "execution_count": 29,
     "metadata": {},
     "output_type": "execute_result"
    }
   ],
   "source": [
    "z[lo]"
   ]
  },
  {
   "cell_type": "code",
   "execution_count": 30,
   "id": "e632bd02-f3c0-42ed-b675-dd4890370ce0",
   "metadata": {},
   "outputs": [
    {
     "data": {
      "text/plain": [
       "(-1.946162773761331, 1.9737380543311869)"
      ]
     },
     "execution_count": 30,
     "metadata": {},
     "output_type": "execute_result"
    }
   ],
   "source": [
    "z[lo], z[hi]"
   ]
  },
  {
   "cell_type": "code",
   "execution_count": 31,
   "id": "59f117be-e5e4-422b-a230-1595ad99eb59",
   "metadata": {},
   "outputs": [],
   "source": [
    "ci_l = x̄ - z[lo] * s / np.sqrt(n)\n",
    "ci_u = x̄ + z[hi] * s / np.sqrt(n)"
   ]
  },
  {
   "cell_type": "code",
   "execution_count": null,
   "id": "7bb7911b-5712-4db4-8f7c-27d8268c5d3d",
   "metadata": {},
   "outputs": [],
   "source": []
  }
 ],
 "metadata": {
  "kernelspec": {
   "display_name": "Python 3",
   "language": "python",
   "name": "python3"
  },
  "language_info": {
   "codemirror_mode": {
    "name": "ipython",
    "version": 3
   },
   "file_extension": ".py",
   "mimetype": "text/x-python",
   "name": "python",
   "nbconvert_exporter": "python",
   "pygments_lexer": "ipython3",
   "version": "3.8.5"
  }
 },
 "nbformat": 4,
 "nbformat_minor": 5
}
