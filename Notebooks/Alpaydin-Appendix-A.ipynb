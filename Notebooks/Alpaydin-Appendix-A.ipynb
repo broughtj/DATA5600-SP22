{
 "cells": [
  {
   "cell_type": "markdown",
   "id": "c4992ec0-f46a-4957-9bdc-766dab2ab0e6",
   "metadata": {},
   "source": [
    "## __Alpaydin: Appendix A on Probability__\n",
    "\n",
    "---\n",
    "\n",
    "<br>\n",
    "\n",
    "Author:      Tyler J. Brough <br>\n",
    "Last Update: March 2, 2022 <br>\n",
    "\n",
    "---\n",
    "\n",
    "<br>"
   ]
  },
  {
   "cell_type": "code",
   "execution_count": 4,
   "id": "e7619669-e5b2-4cf4-b195-322d1df613f2",
   "metadata": {},
   "outputs": [],
   "source": [
    "import numpy as np\n",
    "from scipy import stats\n",
    "import matplotlib.pyplot as plt\n",
    "\n",
    "plt.rcParams['figure.figsize'] = [20, 20]"
   ]
  },
  {
   "cell_type": "code",
   "execution_count": 5,
   "id": "2b0851b6-5c58-47ee-b50d-9d2535272ecc",
   "metadata": {},
   "outputs": [],
   "source": [
    "%matplotlib inline"
   ]
  },
  {
   "cell_type": "markdown",
   "id": "c47caad3-e5d4-4c4a-b233-8ce6cc9500f5",
   "metadata": {},
   "source": [
    "### Weak Law of Large Numbers"
   ]
  },
  {
   "cell_type": "markdown",
   "id": "7668cdb4-0a6b-47f8-bcf7-c1998287a771",
   "metadata": {},
   "source": [
    "Let $\\mathcal{X} = \\{X^{t}\\}_{t=1}^{N}$ be a set of independent and identically distributed (iid) random variables each having mean $\\mu$ and a finite variance $\\sigma^{2}$. Then for any $\\epsilon > 0$,\n",
    "\n",
    "<br>\n",
    "\n",
    "$$\n",
    "P\\left\\{\\middle|\\frac{\\sum_{t} X^{t}}{N} - \\mu \\middle| > \\epsilon \\right\\} \\rightarrow 0 \\mbox{ as } N \\rightarrow \\infty\n",
    "$$\n",
    "\n",
    "<br>\n",
    "\n",
    "That is, the average of $N$ trials converges to the mean as $N$ increases.\n",
    "\n",
    "<br>"
   ]
  },
  {
   "cell_type": "markdown",
   "id": "bf6d3b1b-391e-409b-8cbb-d28becf0555b",
   "metadata": {},
   "source": [
    "<br>\n",
    "\n",
    "### A.3.2 __Binomial Distribution__\n",
    "\n",
    "If $N$ identical independent Bernoulli trials are made, the random variable $X$ that represents the number of successes that occurs in $N$ trials is binomial distributed. The probability that there are $i$ successes is \n",
    "\n",
    "<br>\n",
    "\n",
    "$$\n",
    "P\\{X = i\\} = {N \\choose i} p^{i}(1 - p)^{N-i}, \\quad i = 0 \\ldots N\n",
    "$$\n",
    "\n",
    "<br>\n",
    "\n",
    "If $X$ is binomial, its expected value and variance are \n",
    "\n",
    "<br>\n",
    "\n",
    "$$\n",
    "E[X] = Np, \\quad Var(X) = Np(1-p)\n",
    "$$\n",
    "\n",
    "<br>"
   ]
  },
  {
   "cell_type": "code",
   "execution_count": null,
   "id": "7e6d963b-eaf2-41f2-a531-af8bd9c933f9",
   "metadata": {},
   "outputs": [],
   "source": []
  },
  {
   "cell_type": "code",
   "execution_count": null,
   "id": "3bbbedb9-a5db-43a5-96d7-56d598779436",
   "metadata": {},
   "outputs": [],
   "source": []
  },
  {
   "cell_type": "markdown",
   "id": "e9999979-29c0-49aa-b1d4-8326fb1e547c",
   "metadata": {},
   "source": [
    "$$\n",
    "P(N_{1}, N_{2}, \\ldots, N_{K}) = \\prod_{i=1}^{N} p_{i}^{N_{i}}\n",
    "$$"
   ]
  },
  {
   "cell_type": "markdown",
   "id": "0a067145-8ce8-45fe-921d-f3dd4ae207f7",
   "metadata": {},
   "source": [
    "### __A.3.4 Uniform Distribution__\n",
    "\n",
    "$X$ is uniformly distributed over the interval $[a, b]$ if its density function is given by\n",
    "\n",
    "<br>\n",
    "\n",
    "$$\n",
    "p(\\mathcal{x}) = \n",
    "  \\begin{cases}\n",
    "   \\frac{1}{a - b} \\quad \\mbox{if } a \\lt \\mathcal{x} \\lt b \\\\\n",
    "   0 \\quad \\mbox{otherwise}\n",
    "  \\end{cases}\n",
    "$$\n",
    "\n",
    "<br>\n",
    "\n",
    "If $X$ is uniform, its expected value and variance are \n",
    "\n",
    "<br>\n",
    "\n",
    "$$\n",
    "E[X] = \\frac{a + b}{2}, \\quad Var(X) = \\frac{(b - a)^{2}}{12}\n",
    "$$"
   ]
  },
  {
   "cell_type": "markdown",
   "id": "2d82f93a-235c-49d1-af12-5bd3c8b8c5cc",
   "metadata": {},
   "source": [
    "<br>\n",
    "\n",
    "![Watts](images/Pfunder-Watts.jpeg)\n",
    "\n",
    "<br>"
   ]
  },
  {
   "cell_type": "code",
   "execution_count": null,
   "id": "e6dee2de-b19d-47c6-b5a3-bfd45aebb859",
   "metadata": {},
   "outputs": [],
   "source": []
  },
  {
   "cell_type": "markdown",
   "id": "c080ead8-85c4-4800-a284-0f8329e789d3",
   "metadata": {},
   "source": [
    "### Standard Normal PDF Graph"
   ]
  },
  {
   "cell_type": "code",
   "execution_count": 6,
   "id": "8a07b42a-bb30-4c86-8a21-82ab0c5fa96e",
   "metadata": {},
   "outputs": [
    {
     "data": {
      "image/png": "[encoded data removed]",
      "text/plain": [
       "<Figure size 432x288 with 1 Axes>"
      ]
     },
     "metadata": {
      "needs_background": "light"
     },
     "output_type": "display_data"
    }
   ],
   "source": [
    "x = np.linspace(-5, 5, 1000)\n",
    "y = stats.norm.pdf(x)\n",
    "plt.plot(x, y, lw = 2.0)\n",
    "#plt.fill_between(x, y, facecolor='orange', alpha=0.5)\n",
    "plt.title(\"Unit Normal Z = N(0,1)\")\n",
    "plt.xlabel(\"x\")\n",
    "plt.ylabel(\"p(x)\")\n",
    "plt.grid()\n",
    "plt.show()"
   ]
  },
  {
   "cell_type": "code",
   "execution_count": 7,
   "id": "1f904859-8af8-4082-bb96-1feb28b2c834",
   "metadata": {},
   "outputs": [
    {
     "data": {
      "text/plain": [
       "'__main__'"
      ]
     },
     "execution_count": 7,
     "metadata": {},
     "output_type": "execute_result"
    }
   ],
   "source": [
    "__name__"
   ]
  },
  {
   "cell_type": "code",
   "execution_count": null,
   "id": "6626a644-5a52-42d1-9163-4f50d56887c8",
   "metadata": {},
   "outputs": [],
   "source": []
  }
 ],
 "metadata": {
  "kernelspec": {
   "display_name": "Python 3",
   "language": "python",
   "name": "python3"
  },
  "language_info": {
   "codemirror_mode": {
    "name": "ipython",
    "version": 3
   },
   "file_extension": ".py",
   "mimetype": "text/x-python",
   "name": "python",
   "nbconvert_exporter": "python",
   "pygments_lexer": "ipython3",
   "version": "3.8.5"
  }
 },
 "nbformat": 4,
 "nbformat_minor": 5
}
