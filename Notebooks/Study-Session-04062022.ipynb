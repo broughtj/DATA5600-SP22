{
 "cells": [
  {
   "cell_type": "code",
   "execution_count": 1,
   "id": "d982702d-f556-4e93-82cd-ddf2376cdb63",
   "metadata": {},
   "outputs": [],
   "source": [
    "import numpy as np\n",
    "import scipy.stats as stats\n",
    "import pandas as pd\n",
    "import matplotlib.pyplot as plt"
   ]
  },
  {
   "cell_type": "markdown",
   "id": "050301dc-631e-4313-90a7-24de0f813698",
   "metadata": {},
   "source": [
    "## Problem 16"
   ]
  },
  {
   "cell_type": "markdown",
   "id": "6b4e0e27-e35c-4faa-ba43-7018a85b2c4e",
   "metadata": {},
   "source": [
    "__The Monte Carlo Simulation__\n",
    "\n",
    "\n",
    "1. Design the data generating process\n",
    "    - An example might be: $X \\sim Exp(\\theta)$\n",
    "    - $\\theta = 5.0$\n",
    "\n",
    "2. Decide upon a number of repititions (something biggish, like $M = 10,000$)\n",
    "\n",
    "3. For each iteration of the Monte Carlo loop, draw a sample from the population model\n",
    "\n",
    "4. Repeat the estimators for each sample, store the results\n",
    "\n",
    "5. Plot histograms/kernel density plots of the Monte Carlo sampling distributions\n",
    "\n",
    "6. Make comparisons"
   ]
  },
  {
   "cell_type": "code",
   "execution_count": 2,
   "id": "91f34926-5e1c-4e80-aedc-e267c2a8b32f",
   "metadata": {},
   "outputs": [],
   "source": [
    "## This defines the population \"true\" parameter\n",
    "θ = 5.0"
   ]
  },
  {
   "cell_type": "code",
   "execution_count": 3,
   "id": "6cf0aeac-0afb-4d68-95ec-c23ce50e8401",
   "metadata": {},
   "outputs": [],
   "source": [
    "## The number of Monte Carlo iterations\n",
    "M = 10\n",
    "\n",
    "## The number of observations in each sample\n",
    "N = 500"
   ]
  },
  {
   "cell_type": "code",
   "execution_count": 5,
   "id": "f54b7fff-6fcf-4d50-b08d-2cf1638dbc23",
   "metadata": {},
   "outputs": [],
   "source": [
    "## Let's first look at a single simulation and compare\n",
    "\n",
    "x = np.random.exponential(scale=θ, size=N)"
   ]
  },
  {
   "cell_type": "code",
   "execution_count": 6,
   "id": "d87abb7a-4afc-4e53-9f9b-b423ff92a743",
   "metadata": {},
   "outputs": [
    {
     "data": {
      "text/plain": [
       "array([10.58696136, 12.94468729,  9.1527747 ,  6.26653164,  0.4289939 ,\n",
       "        2.2858466 ,  6.24715854,  2.75129295,  3.02315202,  9.36717531])"
      ]
     },
     "execution_count": 6,
     "metadata": {},
     "output_type": "execute_result"
    }
   ],
   "source": [
    "x[:10]"
   ]
  },
  {
   "cell_type": "code",
   "execution_count": 8,
   "id": "3ae24941-8b2e-413e-8a6e-ced507cacafb",
   "metadata": {},
   "outputs": [
    {
     "data": {
      "text/plain": [
       "5.064611785758021"
      ]
     },
     "execution_count": 8,
     "metadata": {},
     "output_type": "execute_result"
    }
   ],
   "source": [
    "## W_1 is just the arithmetic average\n",
    "w1 = np.mean(x)\n",
    "w1"
   ]
  },
  {
   "cell_type": "code",
   "execution_count": 9,
   "id": "03716560-daa2-45c8-8e86-86eabbcbc10c",
   "metadata": {},
   "outputs": [
    {
     "data": {
      "text/plain": [
       "7.344178280015924"
      ]
     },
     "execution_count": 9,
     "metadata": {},
     "output_type": "execute_result"
    }
   ],
   "source": [
    "## W_2 is the nth order statistic\n",
    "w2 = x[-1]\n",
    "w2"
   ]
  },
  {
   "cell_type": "code",
   "execution_count": 13,
   "id": "1def8a6e-4eb7-4f82-a75d-ea6ff3687c7c",
   "metadata": {},
   "outputs": [],
   "source": [
    "## Let's now write the main Monte Carlo loop\n",
    "\n",
    "w1 = np.zeros(M)\n",
    "w2 = np.zeros(M)\n",
    "\n",
    "for m in range(M):\n",
    "    ## Draw the mth sample from the population model\n",
    "    x = np.random.exponential(scale=θ, size=N)\n",
    "    \n",
    "    ## Apply W1\n",
    "    w1[m] = np.mean(x)\n",
    "    \n",
    "    ## Apply W2\n",
    "    w2[m] = x[-1]"
   ]
  },
  {
   "cell_type": "code",
   "execution_count": 15,
   "id": "63356678-258a-4a1a-a0af-7a663c399c59",
   "metadata": {},
   "outputs": [
    {
     "data": {
      "text/plain": [
       "(5.046584203565038, 5.159252316005853)"
      ]
     },
     "execution_count": 15,
     "metadata": {},
     "output_type": "execute_result"
    }
   ],
   "source": [
    "## Let's compare the means of the two sampling distributions\n",
    "\n",
    "## The both appear to be unbiased estimators\n",
    "np.mean(w1), np.mean(w2)"
   ]
  },
  {
   "cell_type": "code",
   "execution_count": 16,
   "id": "151051b0-161b-49e2-bd22-8d27af9fb95e",
   "metadata": {},
   "outputs": [
    {
     "data": {
      "text/plain": [
       "(0.00618010452586605, 13.73133431430313)"
      ]
     },
     "execution_count": 16,
     "metadata": {},
     "output_type": "execute_result"
    }
   ],
   "source": [
    "## What other measures should we compare?\n",
    "\n",
    "## Well, we care about relative efficiency, \n",
    "## so let's compare std errors (i.e. the std dev of the sampling distributions)\n",
    "np.var(w1), np.var(w2)"
   ]
  },
  {
   "cell_type": "code",
   "execution_count": 17,
   "id": "341eea4c-1d44-4305-944f-54f582e4d965",
   "metadata": {},
   "outputs": [
    {
     "data": {
      "text/plain": [
       "<AxesSubplot:ylabel='Density'>"
      ]
     },
     "execution_count": 17,
     "metadata": {},
     "output_type": "execute_result"
    },
    {
     "data": {
      "image/png": "[encoded data removed]",
      "text/plain": [
       "<Figure size 432x288 with 1 Axes>"
      ]
     },
     "metadata": {
      "needs_background": "light"
     },
     "output_type": "display_data"
    }
   ],
   "source": [
    "## Let's look at this visually with the kde plots/histograms\n",
    "\n",
    "## Pandas Series are prolly the easiest way to simply get kde plots\n",
    "w1_s = pd.Series(w1)\n",
    "w1_s.plot.kde()"
   ]
  },
  {
   "cell_type": "code",
   "execution_count": 18,
   "id": "5931b113-071e-4484-9fd3-82d664e4e43c",
   "metadata": {},
   "outputs": [
    {
     "data": {
      "text/plain": [
       "<AxesSubplot:ylabel='Density'>"
      ]
     },
     "execution_count": 18,
     "metadata": {},
     "output_type": "execute_result"
    },
    {
     "data": {
      "image/png": "[encoded data removed]",
      "text/plain": [
       "<Figure size 432x288 with 1 Axes>"
      ]
     },
     "metadata": {
      "needs_background": "light"
     },
     "output_type": "display_data"
    }
   ],
   "source": [
    "w2_s = pd.Series(w2)\n",
    "w2_s.plot.kde()"
   ]
  },
  {
   "cell_type": "code",
   "execution_count": 19,
   "id": "28fd3dca-6104-47d2-8cb7-abd57f0f75ef",
   "metadata": {},
   "outputs": [],
   "source": [
    "## Lets see them together\n",
    "w_df = pd.DataFrame({'w1': w1, 'w2': w2})"
   ]
  },
  {
   "cell_type": "code",
   "execution_count": 20,
   "id": "732187ee-1b58-44b2-a506-8bebf3a31848",
   "metadata": {},
   "outputs": [
    {
     "data": {
      "text/html": [
       "<div>\n",
       "<style scoped>\n",
       "    .dataframe tbody tr th:only-of-type {\n",
       "        vertical-align: middle;\n",
       "    }\n",
       "\n",
       "    .dataframe tbody tr th {\n",
       "        vertical-align: top;\n",
       "    }\n",
       "\n",
       "    .dataframe thead th {\n",
       "        text-align: right;\n",
       "    }\n",
       "</style>\n",
       "<table border=\"1\" class=\"dataframe\">\n",
       "  <thead>\n",
       "    <tr style=\"text-align: right;\">\n",
       "      <th></th>\n",
       "      <th>w1</th>\n",
       "      <th>w2</th>\n",
       "    </tr>\n",
       "  </thead>\n",
       "  <tbody>\n",
       "    <tr>\n",
       "      <th>0</th>\n",
       "      <td>4.851912</td>\n",
       "      <td>7.316570</td>\n",
       "    </tr>\n",
       "    <tr>\n",
       "      <th>1</th>\n",
       "      <td>5.086983</td>\n",
       "      <td>1.613998</td>\n",
       "    </tr>\n",
       "    <tr>\n",
       "      <th>2</th>\n",
       "      <td>5.071021</td>\n",
       "      <td>5.880068</td>\n",
       "    </tr>\n",
       "    <tr>\n",
       "      <th>3</th>\n",
       "      <td>5.132268</td>\n",
       "      <td>2.130862</td>\n",
       "    </tr>\n",
       "    <tr>\n",
       "      <th>4</th>\n",
       "      <td>5.092818</td>\n",
       "      <td>0.964313</td>\n",
       "    </tr>\n",
       "  </tbody>\n",
       "</table>\n",
       "</div>"
      ],
      "text/plain": [
       "         w1        w2\n",
       "0  4.851912  7.316570\n",
       "1  5.086983  1.613998\n",
       "2  5.071021  5.880068\n",
       "3  5.132268  2.130862\n",
       "4  5.092818  0.964313"
      ]
     },
     "execution_count": 20,
     "metadata": {},
     "output_type": "execute_result"
    }
   ],
   "source": [
    "w_df.head()"
   ]
  },
  {
   "cell_type": "code",
   "execution_count": 22,
   "id": "51d74621-7724-436c-9f95-b31a250ae1e2",
   "metadata": {},
   "outputs": [
    {
     "data": {
      "text/plain": [
       "<AxesSubplot:ylabel='Density'>"
      ]
     },
     "execution_count": 22,
     "metadata": {},
     "output_type": "execute_result"
    },
    {
     "data": {
      "image/png": "[encoded data removed]",
      "text/plain": [
       "<Figure size 432x288 with 1 Axes>"
      ]
     },
     "metadata": {
      "needs_background": "light"
     },
     "output_type": "display_data"
    }
   ],
   "source": [
    "## We can immediately see their relative efficiency\n",
    "w_df.plot.kde()"
   ]
  },
  {
   "cell_type": "markdown",
   "id": "2bfe47d0-dca7-4524-88e0-8135f07a0c46",
   "metadata": {},
   "source": [
    "## Problem 19"
   ]
  },
  {
   "cell_type": "markdown",
   "id": "76f4b94f-1a2d-4e85-a5a5-e15030fda78e",
   "metadata": {},
   "source": [
    "__Beta-Binomial HDI__"
   ]
  },
  {
   "cell_type": "code",
   "execution_count": 30,
   "id": "c9f5c8ad-eba4-49fd-88f8-43b1fc707b71",
   "metadata": {},
   "outputs": [],
   "source": [
    "## Helper function to plot Beta priors\n",
    "def plot_beta_prior(a=1, b=1):\n",
    "    x = np.linspace(0, 1, 1000)\n",
    "    y = stats.beta.pdf(x, a, b)\n",
    "    plt.plot(x, y, lw = 2.0, color='darkblue', alpha=0.8)\n",
    "    plt.fill_between(x, y, facecolor='orange', alpha=0.5)\n",
    "    plt.title(f\"Beta({a},{b}) Prior Distribution\")\n",
    "    plt.show()"
   ]
  },
  {
   "cell_type": "code",
   "execution_count": 47,
   "id": "1835c14a-8671-4813-9dee-a77066b5d88b",
   "metadata": {},
   "outputs": [],
   "source": [
    "## Design the universe\n",
    "θ = 0.75"
   ]
  },
  {
   "cell_type": "code",
   "execution_count": 130,
   "id": "f3f16d9e-77fc-4261-9c8c-f39176fe0884",
   "metadata": {},
   "outputs": [],
   "source": [
    "## Observe a number of data points\n",
    "N = 20"
   ]
  },
  {
   "cell_type": "code",
   "execution_count": 131,
   "id": "4da85594-d9a9-47ef-a803-2b2d60174858",
   "metadata": {},
   "outputs": [],
   "source": [
    "x = np.random.binomial(n=1, p=θ, size=N)"
   ]
  },
  {
   "cell_type": "code",
   "execution_count": 132,
   "id": "0c717108-b14f-42d3-8130-97651fbfb9c9",
   "metadata": {},
   "outputs": [
    {
     "data": {
      "text/plain": [
       "array([1, 1, 0, 1, 1, 1, 1, 1, 1, 0])"
      ]
     },
     "execution_count": 132,
     "metadata": {},
     "output_type": "execute_result"
    }
   ],
   "source": [
    "x[:10]"
   ]
  },
  {
   "cell_type": "code",
   "execution_count": 133,
   "id": "bf8be22b-4bb2-4987-b7e9-416e54777401",
   "metadata": {},
   "outputs": [],
   "source": [
    "## Let's form the Bayesian prior (i.e. state the prior hyperparameters)\n",
    "α = 4.0\n",
    "β = 2.0"
   ]
  },
  {
   "cell_type": "code",
   "execution_count": 134,
   "id": "7ed67cba-5746-4309-9843-90a9b5fe193b",
   "metadata": {},
   "outputs": [
    {
     "data": {
      "image/png": "[encoded data removed]",
      "text/plain": [
       "<Figure size 432x288 with 1 Axes>"
      ]
     },
     "metadata": {
      "needs_background": "light"
     },
     "output_type": "display_data"
    }
   ],
   "source": [
    "## Let's peak at her prior\n",
    "plot_beta_prior(a=α, b=β)"
   ]
  },
  {
   "cell_type": "code",
   "execution_count": 135,
   "id": "ee5f0cfe-96bc-40b2-9159-f6792021d6db",
   "metadata": {},
   "outputs": [],
   "source": [
    "## Let's use Bayes' Rule to update her beliefs after seeing the data\n",
    "\n",
    "## NB: this is implicit in the beta-binom conjugate model\n",
    "N1 = np.sum(x)\n",
    "N0 = N - np.sum(x)"
   ]
  },
  {
   "cell_type": "code",
   "execution_count": 136,
   "id": "d7023c5c-d27d-4fde-964f-ea2ac25319a9",
   "metadata": {},
   "outputs": [],
   "source": [
    "## Calculate the posterior hyperparameters\n",
    "a_post = α + N1\n",
    "b_post = β + N0"
   ]
  },
  {
   "cell_type": "code",
   "execution_count": 137,
   "id": "ce7afa18-f246-4fed-9419-f16e8d126732",
   "metadata": {},
   "outputs": [
    {
     "data": {
      "image/png": "[encoded data removed]",
      "text/plain": [
       "<Figure size 432x288 with 1 Axes>"
      ]
     },
     "metadata": {
      "needs_background": "light"
     },
     "output_type": "display_data"
    }
   ],
   "source": [
    "## Let's see the posterior\n",
    "plot_beta_prior(a=a_post, b=b_post)"
   ]
  },
  {
   "cell_type": "code",
   "execution_count": 138,
   "id": "da7d10ec-c1ca-4fb8-ae01-c7636599c1d9",
   "metadata": {},
   "outputs": [],
   "source": [
    "## The frequentist confidence coefficient\n",
    "a = 0.10"
   ]
  },
  {
   "cell_type": "code",
   "execution_count": 139,
   "id": "d46d238d-0b7d-4acd-b612-ffdc51ddccff",
   "metadata": {},
   "outputs": [],
   "source": [
    "## Calculate a Bayesian 90% Credibility Interval\n",
    "lb = stats.beta(a_post, b_post).ppf(a/2.0)\n",
    "ub = stats.beta(a_post, b_post).ppf(1.0 - a/2.0)"
   ]
  },
  {
   "cell_type": "code",
   "execution_count": 140,
   "id": "96f092cc-65b2-4fcf-aaf0-fcae52c34467",
   "metadata": {},
   "outputs": [
    {
     "data": {
      "text/plain": [
       "(0.580479992789974, 0.86052469342107)"
      ]
     },
     "execution_count": 140,
     "metadata": {},
     "output_type": "execute_result"
    }
   ],
   "source": [
    "(lb, ub)"
   ]
  },
  {
   "cell_type": "markdown",
   "id": "64c16221-4cd3-4541-9889-af3bbfd10b2d",
   "metadata": {},
   "source": [
    "Our probability statement: \"Having seen the data, we believe there is a 90% probabiliy that the true theta\n",
    "is between 0.6182 and 0.8167\""
   ]
  },
  {
   "cell_type": "code",
   "execution_count": 141,
   "id": "a5ec3c76-5db2-469c-95ae-350dafc53629",
   "metadata": {},
   "outputs": [],
   "source": [
    "## Now let's act like Freq's and compare out 90% Confidence Interval"
   ]
  },
  {
   "cell_type": "code",
   "execution_count": 142,
   "id": "d81318f3-00b2-4c87-940e-38707dd46373",
   "metadata": {},
   "outputs": [
    {
     "data": {
      "text/plain": [
       "0.75"
      ]
     },
     "execution_count": 142,
     "metadata": {},
     "output_type": "execute_result"
    }
   ],
   "source": [
    "x̄ = np.mean(x)\n",
    "x̄"
   ]
  },
  {
   "cell_type": "code",
   "execution_count": 143,
   "id": "e4508429-526d-4c02-8bd0-5b5d5ad45d45",
   "metadata": {},
   "outputs": [
    {
     "data": {
      "text/plain": [
       "0.4442616583193193"
      ]
     },
     "execution_count": 143,
     "metadata": {},
     "output_type": "execute_result"
    }
   ],
   "source": [
    "## First, also estimate the std deviation\n",
    "s = np.std(x, ddof=1)\n",
    "s"
   ]
  },
  {
   "cell_type": "code",
   "execution_count": 144,
   "id": "deb46885-cafc-4270-a6be-035a39b5e40c",
   "metadata": {},
   "outputs": [],
   "source": [
    "## Then form the std err\n",
    "se = s / np.sqrt(N)"
   ]
  },
  {
   "cell_type": "code",
   "execution_count": 145,
   "id": "aa47a865-0677-44dc-8f9e-4ebf859318eb",
   "metadata": {},
   "outputs": [
    {
     "data": {
      "text/plain": [
       "1.729132811521367"
      ]
     },
     "execution_count": 145,
     "metadata": {},
     "output_type": "execute_result"
    }
   ],
   "source": [
    "tc = stats.t(N-1).ppf(1.0 - a/2.0)\n",
    "tc"
   ]
  },
  {
   "cell_type": "code",
   "execution_count": 146,
   "id": "8663caa6-6210-49cc-8468-58481d3306ce",
   "metadata": {},
   "outputs": [
    {
     "data": {
      "text/plain": [
       "(0.5782280731107823, 0.9217719268892177)"
      ]
     },
     "execution_count": 146,
     "metadata": {},
     "output_type": "execute_result"
    }
   ],
   "source": [
    "ci_lb = x̄ - tc * se\n",
    "ci_ub = x̄ + tc * se\n",
    "\n",
    "# Get a tuple that represents the CI\n",
    "(ci_lb, ci_ub)"
   ]
  },
  {
   "cell_type": "code",
   "execution_count": null,
   "id": "319ee934-173c-4713-b3e5-bac3c6c8386d",
   "metadata": {},
   "outputs": [],
   "source": []
  },
  {
   "cell_type": "markdown",
   "id": "b7d5e01c-75d1-482a-917c-1bd23d5c8c6d",
   "metadata": {},
   "source": [
    "## A Bootstrap Confidence Interval"
   ]
  },
  {
   "cell_type": "code",
   "execution_count": 147,
   "id": "d4d18649-0473-4af1-aea0-8a5dd9c6aa3f",
   "metadata": {},
   "outputs": [],
   "source": [
    "## 1. Let's reuse the $X \\sim Exp(θ)$ problem from above"
   ]
  },
  {
   "cell_type": "code",
   "execution_count": 148,
   "id": "1855dd10-6afb-4fbd-b0f7-6627c748d1cf",
   "metadata": {},
   "outputs": [],
   "source": [
    "## This defines the population \"true\" parameter\n",
    "θ = 5.0"
   ]
  },
  {
   "cell_type": "code",
   "execution_count": 158,
   "id": "26cbb5af-6008-4218-abff-e3166ee2afff",
   "metadata": {},
   "outputs": [],
   "source": [
    "## The number of Bootstrap iterations\n",
    "B = 10_000\n",
    "\n",
    "## The number of observations in each sample\n",
    "N = 500"
   ]
  },
  {
   "cell_type": "code",
   "execution_count": 159,
   "id": "53a5953e-883d-4fda-8ba1-08aaebe597ee",
   "metadata": {},
   "outputs": [],
   "source": [
    "## Let's get our sample of data\n",
    "\n",
    "x = np.random.exponential(scale=θ, size=N)"
   ]
  },
  {
   "cell_type": "code",
   "execution_count": 160,
   "id": "7fcd2572-9147-4b4c-8c18-9576bb299613",
   "metadata": {},
   "outputs": [
    {
     "data": {
      "text/plain": [
       "array([ 4.18891493, 10.91328472,  0.30898868, 14.67398149,  0.03925981,\n",
       "        1.08256491,  1.85706123,  0.40713164, 13.4586179 ,  0.34650953])"
      ]
     },
     "execution_count": 160,
     "metadata": {},
     "output_type": "execute_result"
    }
   ],
   "source": [
    "x[:10]"
   ]
  },
  {
   "cell_type": "code",
   "execution_count": 161,
   "id": "5f7a9a17-ac70-4e44-8737-f6af2d65416e",
   "metadata": {},
   "outputs": [
    {
     "data": {
      "text/plain": [
       "5.174451357607285"
      ]
     },
     "execution_count": 161,
     "metadata": {},
     "output_type": "execute_result"
    }
   ],
   "source": [
    "## Let's use the mean to get an MLE \n",
    "x̄ = np.mean(x)\n",
    "x̄"
   ]
  },
  {
   "cell_type": "code",
   "execution_count": 162,
   "id": "f64b8a74-4a43-48d9-93bb-48777bb0b936",
   "metadata": {},
   "outputs": [],
   "source": [
    "xbar_star = np.zeros(B)\n",
    "\n",
    "for b in range(B):\n",
    "    ## Instead of drawing from the true/unknown population model\n",
    "    ## We will \"bootstrap\" by sampling with replacement from our sample\n",
    "    x_star = np.random.choice(x, size=N, replace=True)\n",
    "    \n",
    "    ## Get the bootstrap mean\n",
    "    xbar_star[b] = np.mean(x_star)"
   ]
  },
  {
   "cell_type": "code",
   "execution_count": 164,
   "id": "222382a3-ccec-4693-b6ef-4ca51e9f030d",
   "metadata": {},
   "outputs": [
    {
     "data": {
      "text/plain": [
       "5.177786565527942"
      ]
     },
     "execution_count": 164,
     "metadata": {},
     "output_type": "execute_result"
    }
   ],
   "source": [
    "xbar_star.mean()"
   ]
  },
  {
   "cell_type": "code",
   "execution_count": 171,
   "id": "82225753-37cd-4dd7-bfda-a0a8156e80fb",
   "metadata": {},
   "outputs": [],
   "source": [
    "## Use the empirical CDF to get the quantiles\n",
    "\n",
    "## Let's first starndardize the results\n",
    "z_star = (xbar_star - xbar_star_bar) / xbar_star_se\n",
    "\n",
    "## First make sure the data are sorted\n",
    "z_star.sort()"
   ]
  },
  {
   "cell_type": "code",
   "execution_count": 172,
   "id": "62088d5b-9f01-45a9-a531-bc5f13cde36f",
   "metadata": {},
   "outputs": [
    {
     "data": {
      "text/plain": [
       "array([-3.59679118, -3.51693825, -3.2864006 , -3.08815318, -3.01634424,\n",
       "       -2.97930157, -2.97847169, -2.96354307, -2.93874013, -2.92917348,\n",
       "       -2.90727961, -2.90299087, -2.86638502, -2.84716572, -2.81881222,\n",
       "       -2.76333889, -2.75154466, -2.75047991, -2.74290234, -2.74053215,\n",
       "       -2.73680477, -2.72926498, -2.71548574, -2.71423405, -2.70413848])"
      ]
     },
     "execution_count": 172,
     "metadata": {},
     "output_type": "execute_result"
    }
   ],
   "source": [
    "z_star[:25]"
   ]
  },
  {
   "cell_type": "code",
   "execution_count": 173,
   "id": "21073013-cbbd-45c7-a892-d14564226db9",
   "metadata": {},
   "outputs": [
    {
     "data": {
      "text/plain": [
       "(1.4551915228366853e-15, 1.0)"
      ]
     },
     "execution_count": 173,
     "metadata": {},
     "output_type": "execute_result"
    }
   ],
   "source": [
    "z_star.mean(), z_star.std(ddof=1)"
   ]
  },
  {
   "cell_type": "code",
   "execution_count": 174,
   "id": "6940f30a-3f02-4b32-8f13-41278f09c4d8",
   "metadata": {},
   "outputs": [
    {
     "data": {
      "text/plain": [
       "<AxesSubplot:ylabel='Density'>"
      ]
     },
     "execution_count": 174,
     "metadata": {},
     "output_type": "execute_result"
    },
    {
     "data": {
      "image/png": "[encoded data removed]",
      "text/plain": [
       "<Figure size 432x288 with 1 Axes>"
      ]
     },
     "metadata": {
      "needs_background": "light"
     },
     "output_type": "display_data"
    }
   ],
   "source": [
    "## The KDE plot should look like a std normal\n",
    "z_star_s = pd.Series(z_star)\n",
    "z_star_s.plot.kde()"
   ]
  },
  {
   "cell_type": "code",
   "execution_count": 177,
   "id": "9d32ad0a-f502-4985-92d1-4a13aed7d991",
   "metadata": {},
   "outputs": [
    {
     "data": {
      "text/plain": [
       "(-1.634381024737294, 1.6573084770354678)"
      ]
     },
     "execution_count": 177,
     "metadata": {},
     "output_type": "execute_result"
    }
   ],
   "source": [
    "a = .10\n",
    "lb_c = z_star[int(a/2.0 * B)]\n",
    "ub_c = z_star[int((1.0 - a/2.0) * B)]\n",
    "lb_c, ub_c"
   ]
  },
  {
   "cell_type": "code",
   "execution_count": 168,
   "id": "a0877d74-b2df-4373-bada-b3171fe7901f",
   "metadata": {},
   "outputs": [],
   "source": [
    "xbar_star_bar = xbar_star.mean()\n",
    "xbar_star_se = xbar_star.std(ddof=1)"
   ]
  },
  {
   "cell_type": "code",
   "execution_count": 178,
   "id": "6aa851bc-d70a-4544-8db0-dc1685974908",
   "metadata": {},
   "outputs": [
    {
     "data": {
      "text/plain": [
       "(4.804937374050863, 5.555866166513339)"
      ]
     },
     "execution_count": 178,
     "metadata": {},
     "output_type": "execute_result"
    }
   ],
   "source": [
    "## Now we can state our bootstrap CI\n",
    "(xbar_star_bar + lb_c * xbar_star_se, xbar_star_bar + ub_c * xbar_star_se)"
   ]
  },
  {
   "cell_type": "code",
   "execution_count": 179,
   "id": "b59dc52f-c84a-4ab5-b7a0-1ca8ce2ffc7b",
   "metadata": {},
   "outputs": [],
   "source": [
    "## Next step: compare this to a CLT CI and compare"
   ]
  },
  {
   "cell_type": "code",
   "execution_count": null,
   "id": "351d1de9-1ad6-4453-9abc-738d7b7574cc",
   "metadata": {},
   "outputs": [],
   "source": []
  }
 ],
 "metadata": {
  "kernelspec": {
   "display_name": "Python 3 (ipykernel)",
   "language": "python",
   "name": "python3"
  },
  "language_info": {
   "codemirror_mode": {
    "name": "ipython",
    "version": 3
   },
   "file_extension": ".py",
   "mimetype": "text/x-python",
   "name": "python",
   "nbconvert_exporter": "python",
   "pygments_lexer": "ipython3",
   "version": "3.8.5"
  }
 },
 "nbformat": 4,
 "nbformat_minor": 5
}
