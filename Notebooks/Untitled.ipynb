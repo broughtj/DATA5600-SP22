{
 "cells": [
  {
   "cell_type": "code",
   "execution_count": 1,
   "metadata": {},
   "outputs": [],
   "source": [
    "import numpy as np"
   ]
  },
  {
   "cell_type": "code",
   "execution_count": 3,
   "metadata": {},
   "outputs": [
    {
     "data": {
      "text/plain": [
       "array([4, 2, 5, 6, 4, 5, 7, 6, 7, 4, 3, 6, 6, 4, 4, 3, 2, 5, 8, 4, 2, 5,\n",
       "       3, 6, 9, 7, 7, 5, 4, 5, 6, 6, 5, 5, 3, 4, 2, 6, 5, 6, 3, 3, 5, 3,\n",
       "       7, 5, 4, 4, 4, 5, 1, 5, 8, 5, 8, 5, 5, 3, 5, 3, 7, 4, 7, 5, 4, 3,\n",
       "       7, 7, 3, 5, 5, 7, 4, 5, 4, 9, 4, 4, 3, 3, 6, 7, 5, 4, 4, 4, 6, 4,\n",
       "       5, 2, 6, 7, 5, 3, 6, 3, 3, 3, 3, 7])"
      ]
     },
     "execution_count": 3,
     "metadata": {},
     "output_type": "execute_result"
    }
   ],
   "source": [
    "np.random.binomial(10, 0.5, 100)"
   ]
  },
  {
   "cell_type": "code",
   "execution_count": null,
   "metadata": {},
   "outputs": [],
   "source": []
  }
 ],
 "metadata": {
  "kernelspec": {
   "display_name": "Python 3",
   "language": "python",
   "name": "python3"
  },
  "language_info": {
   "codemirror_mode": {
    "name": "ipython",
    "version": 3
   },
   "file_extension": ".py",
   "mimetype": "text/x-python",
   "name": "python",
   "nbconvert_exporter": "python",
   "pygments_lexer": "ipython3",
   "version": "3.8.5"
  }
 },
 "nbformat": 4,
 "nbformat_minor": 4
}
