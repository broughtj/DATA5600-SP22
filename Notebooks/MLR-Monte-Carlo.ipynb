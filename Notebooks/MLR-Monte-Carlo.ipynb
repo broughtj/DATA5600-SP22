{
 "cells": [
  {
   "cell_type": "code",
   "execution_count": 1,
   "id": "0a99e07b-e44d-4dbb-8323-6a2ba57885e2",
   "metadata": {},
   "outputs": [],
   "source": [
    "import numpy as np\n",
    "import pandas as pd\n",
    "import scipy.stats as stats\n",
    "import matplotlib.pyplot as plt"
   ]
  },
  {
   "cell_type": "code",
   "execution_count": 2,
   "id": "68c1d2cd-8070-41fb-8f59-bf39752ab3b7",
   "metadata": {},
   "outputs": [],
   "source": [
    "%matplotlib inline"
   ]
  },
  {
   "cell_type": "code",
   "execution_count": 3,
   "id": "fff8d114-4a40-4098-bb92-4527ee190a63",
   "metadata": {},
   "outputs": [],
   "source": [
    "import statsmodels.api as sm"
   ]
  },
  {
   "cell_type": "code",
   "execution_count": 6,
   "id": "cbd4cc2c-fb21-44ac-b436-07b6175ed4fe",
   "metadata": {},
   "outputs": [],
   "source": [
    "## Setup the population model and simulate a sample\n",
    "a = 1.25\n",
    "b = 2.45\n",
    "d = 3.55\n",
    "\n",
    "n = 100\n",
    "\n",
    "k = 2\n",
    "x1 = np.random.uniform(size=n)\n",
    "x2 = np.random.uniform(size=n)\n",
    "u = np.random.normal(size=n)"
   ]
  },
  {
   "cell_type": "code",
   "execution_count": 7,
   "id": "fd522ae0-7be2-4201-b793-8e190266c821",
   "metadata": {},
   "outputs": [],
   "source": [
    "y = a + b*x1 + d*x2 + u"
   ]
  },
  {
   "cell_type": "code",
   "execution_count": 8,
   "id": "d9f71f0f-a8ca-464e-a699-79e37e75489d",
   "metadata": {},
   "outputs": [],
   "source": [
    "X = np.ones((n, k+1))\n",
    "X[:, 1] = x1\n",
    "X[:, 2] = x2"
   ]
  },
  {
   "cell_type": "code",
   "execution_count": 9,
   "id": "e5bd2f84-5f3b-4e05-8324-e145a4d3e844",
   "metadata": {},
   "outputs": [],
   "source": [
    "reg = sm.OLS(y, X)"
   ]
  },
  {
   "cell_type": "code",
   "execution_count": 10,
   "id": "3653d019-59b1-4e21-a814-7e18aee9d9bd",
   "metadata": {},
   "outputs": [
    {
     "name": "stdout",
     "output_type": "stream",
     "text": [
      "                            OLS Regression Results                            \n",
      "==============================================================================\n",
      "Dep. Variable:                      y   R-squared:                       0.674\n",
      "Model:                            OLS   Adj. R-squared:                  0.668\n",
      "Method:                 Least Squares   F-statistic:                     100.5\n",
      "Date:                Mon, 18 Apr 2022   Prob (F-statistic):           2.30e-24\n",
      "Time:                        15:57:24   Log-Likelihood:                -142.33\n",
      "No. Observations:                 100   AIC:                             290.7\n",
      "Df Residuals:                      97   BIC:                             298.5\n",
      "Df Model:                           2                                         \n",
      "Covariance Type:            nonrobust                                         \n",
      "==============================================================================\n",
      "                 coef    std err          t      P>|t|      [0.025      0.975]\n",
      "------------------------------------------------------------------------------\n",
      "const          0.9878      0.257      3.845      0.000       0.478       1.498\n",
      "x1             2.4152      0.363      6.645      0.000       1.694       3.137\n",
      "x2             4.0058      0.364     11.011      0.000       3.284       4.728\n",
      "==============================================================================\n",
      "Omnibus:                        1.857   Durbin-Watson:                   1.987\n",
      "Prob(Omnibus):                  0.395   Jarque-Bera (JB):                1.405\n",
      "Skew:                          -0.064   Prob(JB):                        0.495\n",
      "Kurtosis:                       2.434   Cond. No.                         4.98\n",
      "==============================================================================\n",
      "\n",
      "Notes:\n",
      "[1] Standard Errors assume that the covariance matrix of the errors is correctly specified.\n"
     ]
    }
   ],
   "source": [
    "results = reg.fit()\n",
    "print(results.summary())"
   ]
  },
  {
   "cell_type": "code",
   "execution_count": 12,
   "id": "2346dfdb-4221-4820-b605-98c3fd9290cd",
   "metadata": {},
   "outputs": [
    {
     "data": {
      "text/plain": [
       "2.415213099821235"
      ]
     },
     "execution_count": 12,
     "metadata": {},
     "output_type": "execute_result"
    }
   ],
   "source": [
    "results.params[1]"
   ]
  },
  {
   "cell_type": "code",
   "execution_count": 17,
   "id": "0f01a378-b446-4c54-9a08-269496035e75",
   "metadata": {},
   "outputs": [],
   "source": [
    "M = 10_000\n",
    "\n",
    "b1 = np.empty(M)\n",
    "b2 = np.empty(M)\n",
    "\n",
    "for i in range(M):\n",
    "    u = np.random.normal(size=n)\n",
    "    y = a + b*x1 + d*x2 + u\n",
    "    reg = sm.OLS(y, X)\n",
    "    results = reg.fit()\n",
    "    b1[i] = results.params[1]\n",
    "    b2[i] = results.params[2]"
   ]
  },
  {
   "cell_type": "code",
   "execution_count": 20,
   "id": "4a37b726-d417-4e8e-b637-8d0b232469a6",
   "metadata": {},
   "outputs": [
    {
     "data": {
      "text/plain": [
       "array([2.37704229, 2.40714551, 2.56193383, 2.01542903, 2.94829355,\n",
       "       2.07141202, 2.64310995, 3.0942482 , 2.0753627 , 2.54040925])"
      ]
     },
     "execution_count": 20,
     "metadata": {},
     "output_type": "execute_result"
    }
   ],
   "source": [
    "b1[:10]"
   ]
  },
  {
   "cell_type": "code",
   "execution_count": 21,
   "id": "70dea915-ece1-409d-b78f-14cedcf04eaf",
   "metadata": {},
   "outputs": [
    {
     "data": {
      "text/plain": [
       "array([3.40258647, 3.81006227, 3.77550871, 4.37640375, 3.57498534,\n",
       "       3.26114485, 3.33456235, 3.9595578 , 3.31889103, 3.34429535])"
      ]
     },
     "execution_count": 21,
     "metadata": {},
     "output_type": "execute_result"
    }
   ],
   "source": [
    "b2[:10]"
   ]
  },
  {
   "cell_type": "code",
   "execution_count": 22,
   "id": "1f36e25e-7392-4f0a-b81c-25b2652d182f",
   "metadata": {},
   "outputs": [
    {
     "data": {
      "text/plain": [
       "(2.4495590682795925, 0.3599014664092335)"
      ]
     },
     "execution_count": 22,
     "metadata": {},
     "output_type": "execute_result"
    }
   ],
   "source": [
    "## Sample average, std err of b1\n",
    "b1.mean(), b1.std(ddof=1)"
   ]
  },
  {
   "cell_type": "code",
   "execution_count": 24,
   "id": "47e37080-04df-4dab-91db-e5a0e09eed29",
   "metadata": {},
   "outputs": [
    {
     "data": {
      "image/png": "[encoded data removed]",
      "text/plain": [
       "<Figure size 432x288 with 1 Axes>"
      ]
     },
     "metadata": {
      "needs_background": "light"
     },
     "output_type": "display_data"
    }
   ],
   "source": [
    "plt.hist(b1, bins=50);"
   ]
  },
  {
   "cell_type": "code",
   "execution_count": 25,
   "id": "4b978796-4b88-444f-8ad3-5053e35dc48f",
   "metadata": {},
   "outputs": [
    {
     "data": {
      "text/plain": [
       "<AxesSubplot:ylabel='Density'>"
      ]
     },
     "execution_count": 25,
     "metadata": {},
     "output_type": "execute_result"
    },
    {
     "data": {
      "image/png": "[encoded data removed]",
      "text/plain": [
       "<Figure size 432x288 with 1 Axes>"
      ]
     },
     "metadata": {
      "needs_background": "light"
     },
     "output_type": "display_data"
    }
   ],
   "source": [
    "pd.Series(b1).plot.kde()"
   ]
  },
  {
   "cell_type": "code",
   "execution_count": 26,
   "id": "31533def-2dae-4de7-8531-6c21cb848f0d",
   "metadata": {},
   "outputs": [
    {
     "data": {
      "text/plain": [
       "(3.5493453880380375, 0.3560250366037466)"
      ]
     },
     "execution_count": 26,
     "metadata": {},
     "output_type": "execute_result"
    }
   ],
   "source": [
    "b2.mean(), b2.std(ddof=1)"
   ]
  },
  {
   "cell_type": "code",
   "execution_count": 31,
   "id": "3cd038c9-d0de-4386-8cf8-015c29b47464",
   "metadata": {},
   "outputs": [
    {
     "data": {
      "image/png": "[encoded data removed]",
      "text/plain": [
       "<Figure size 432x288 with 1 Axes>"
      ]
     },
     "metadata": {
      "needs_background": "light"
     },
     "output_type": "display_data"
    }
   ],
   "source": [
    "plt.hist(b2, bins=50);"
   ]
  },
  {
   "cell_type": "code",
   "execution_count": 32,
   "id": "867316bf-4b05-48f2-b837-27937cce3082",
   "metadata": {},
   "outputs": [
    {
     "data": {
      "text/plain": [
       "<AxesSubplot:ylabel='Density'>"
      ]
     },
     "execution_count": 32,
     "metadata": {},
     "output_type": "execute_result"
    },
    {
     "data": {
      "image/png": "[encoded data removed]",
      "text/plain": [
       "<Figure size 432x288 with 1 Axes>"
      ]
     },
     "metadata": {
      "needs_background": "light"
     },
     "output_type": "display_data"
    }
   ],
   "source": [
    "pd.Series(b2).plot.kde()"
   ]
  },
  {
   "cell_type": "code",
   "execution_count": 33,
   "id": "6903572b-ff61-48c7-8525-5753c0f5715e",
   "metadata": {},
   "outputs": [],
   "source": [
    "## Simulate omitted variable bias\n",
    "b_ov = np.empty(M)\n",
    "\n",
    "for i in range(M):\n",
    "    u = np.random.normal(size=n)\n",
    "    y = a + b*x1 + d*x2 + u\n",
    "    X = np.ones((n,2))\n",
    "    X[:,1] = x1\n",
    "    reg = sm.OLS(y, X)\n",
    "    results = reg.fit()\n",
    "    b_ov[i] = results.params[1]"
   ]
  },
  {
   "cell_type": "code",
   "execution_count": 34,
   "id": "4b64128e-d7f1-4407-add2-2212b46f6d79",
   "metadata": {},
   "outputs": [
    {
     "data": {
      "text/plain": [
       "(3.1281968670591604, 0.34767194309778876)"
      ]
     },
     "execution_count": 34,
     "metadata": {},
     "output_type": "execute_result"
    }
   ],
   "source": [
    "b_ov.mean(), b_ov.std(ddof=1)"
   ]
  },
  {
   "cell_type": "code",
   "execution_count": 35,
   "id": "8229beda-0cfb-4b03-81f8-33d5460f1cea",
   "metadata": {},
   "outputs": [
    {
     "data": {
      "image/png": "[encoded data removed]",
      "text/plain": [
       "<Figure size 432x288 with 1 Axes>"
      ]
     },
     "metadata": {
      "needs_background": "light"
     },
     "output_type": "display_data"
    }
   ],
   "source": [
    "plt.hist(b_ov, bins=50);"
   ]
  },
  {
   "cell_type": "code",
   "execution_count": null,
   "id": "c28cd9f2-08bd-47fa-9770-62268ac20f7d",
   "metadata": {},
   "outputs": [],
   "source": []
  }
 ],
 "metadata": {
  "kernelspec": {
   "display_name": "Python 3 (ipykernel)",
   "language": "python",
   "name": "python3"
  },
  "language_info": {
   "codemirror_mode": {
    "name": "ipython",
    "version": 3
   },
   "file_extension": ".py",
   "mimetype": "text/x-python",
   "name": "python",
   "nbconvert_exporter": "python",
   "pygments_lexer": "ipython3",
   "version": "3.8.5"
  }
 },
 "nbformat": 4,
 "nbformat_minor": 5
}
