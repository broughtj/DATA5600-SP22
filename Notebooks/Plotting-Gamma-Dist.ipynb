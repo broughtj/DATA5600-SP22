{
 "cells": [
  {
   "cell_type": "code",
   "execution_count": 1,
   "id": "b5f31b24-2f4b-481b-b25f-bac36dcfcaf0",
   "metadata": {},
   "outputs": [],
   "source": [
    "import numpy as np\n",
    "import scipy.stats as stats\n",
    "import matplotlib.pyplot as plt"
   ]
  },
  {
   "cell_type": "code",
   "execution_count": 2,
   "id": "a1cb98a8-7ee8-4c91-9286-d0b69a88c3e4",
   "metadata": {},
   "outputs": [],
   "source": [
    "%matplotlib inline"
   ]
  },
  {
   "cell_type": "code",
   "execution_count": 3,
   "id": "b85df37f-fc77-423a-a99d-8668146f523b",
   "metadata": {},
   "outputs": [
    {
     "data": {
      "image/png": "[encoded data removed]",
      "text/plain": [
       "<Figure size 432x288 with 1 Axes>"
      ]
     },
     "metadata": {
      "needs_background": "light"
     },
     "output_type": "display_data"
    }
   ],
   "source": [
    "#define x-axis values\n",
    "x = np.linspace (0, 40, 100) \n",
    "\n",
    "#calculate pdf of Gamma distribution for each x-value\n",
    "y = stats.gamma.pdf(x, a=0.5, scale=1.0)\n",
    "\n",
    "#create plot of Gamma distribution\n",
    "plt.plot(x, y)\n",
    "\n",
    "#display plot\n",
    "plt.show()"
   ]
  },
  {
   "cell_type": "code",
   "execution_count": null,
   "id": "f9cf5ad9-4a42-4883-bd52-45bbdd5577cb",
   "metadata": {},
   "outputs": [],
   "source": []
  },
  {
   "cell_type": "code",
   "execution_count": null,
   "id": "7717e969-ad8b-4da2-902d-f64944e8fad6",
   "metadata": {},
   "outputs": [],
   "source": []
  }
 ],
 "metadata": {
  "kernelspec": {
   "display_name": "Python 3 (ipykernel)",
   "language": "python",
   "name": "python3"
  },
  "language_info": {
   "codemirror_mode": {
    "name": "ipython",
    "version": 3
   },
   "file_extension": ".py",
   "mimetype": "text/x-python",
   "name": "python",
   "nbconvert_exporter": "python",
   "pygments_lexer": "ipython3",
   "version": "3.8.5"
  }
 },
 "nbformat": 4,
 "nbformat_minor": 5
}
