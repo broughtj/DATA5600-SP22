{
 "cells": [
  {
   "cell_type": "markdown",
   "metadata": {},
   "source": [
    "## __Discrete Probability Distributions__\n",
    "\n",
    "---\n",
    "\n",
    "<br>\n",
    "\n",
    "Author:      Tyler J. Brough <br>\n",
    "Last Update: February 16, 2022 <br>\n",
    "\n",
    "<br>\n",
    "\n",
    "This notebook is based in part on the following source:\n",
    "\n",
    "* _Chapter 3: Special Discrete Distributions_ of _Introduction to Probability and Mathematical Statistics_\n",
    "\n",
    "---\n",
    "\n",
    "<br>"
   ]
  },
  {
   "cell_type": "code",
   "execution_count": 1,
   "metadata": {},
   "outputs": [],
   "source": [
    "import numpy as np\n",
    "from scipy import stats\n",
    "import matplotlib.pyplot as plt"
   ]
  },
  {
   "cell_type": "code",
   "execution_count": 2,
   "metadata": {},
   "outputs": [],
   "source": [
    "plt.rcParams['figure.figsize'] = [10, 8]"
   ]
  },
  {
   "cell_type": "markdown",
   "metadata": {},
   "source": [
    "<br>\n",
    "\n",
    "### __Bernoulli Distribution__\n",
    "\n",
    "<hr style=\"border:2px solid black\"> </hr>\n",
    "\n",
    "A random variable that takes only the values $0$ or $1$ is known as a __Bernoulli variable__, and an experiment with only two types of outcomes is called a __Bernoulli trial__. In particular, if an experiment can result only in \"success\" ($E$) or \"failure\" ($E^{\\prime}$), then the corresponding Bernoulli variable is\n",
    "\n",
    "<br>\n",
    "\n",
    "$$\n",
    "X(e) = \\begin{cases} \n",
    "        1 & \\text{  if } e \\in E \\\\\n",
    "        0 & \\text{  if } e \\in E^{\\prime}\n",
    "       \\end{cases} \n",
    "$$\n",
    "\n",
    "<br>\n",
    "\n",
    "The probability function of the random variable $X$ is given by $f(0) = 1 - \\theta$ and $f(1) = \\theta$. The corresponding distribution is known as a __Bernoulli distribution__, and its pmf can be expressed as \n",
    "\n",
    "<br>\n",
    "\n",
    "$$\n",
    "f(x) = \\theta^{x} (1 - \\theta)^{1-x} \\quad x = 0, 1\n",
    "$$\n",
    "\n",
    "<br>\n",
    "\n",
    "We will use the notation $X \\sim BIN(1, \\theta)$ to denote a Bernoulli random variable.\n",
    "\n",
    "<br>\n",
    "\n",
    "<hr style=\"border:2px solid black\"> </hr>\n",
    "\n",
    "<br>"
   ]
  },
  {
   "cell_type": "markdown",
   "metadata": {},
   "source": [
    "#### __Example: Bernoulli__ \n",
    "\n",
    "<br>\n",
    "<br>\n",
    "\n",
    "Consider rolls of a four-sided die. A bet is placed that a 1 will occur on a single roll of the die.\n",
    "Thus, $E = \\{1\\}$, $E^{\\prime} = \\{2, 3, 4\\}$. \n",
    "\n",
    "<br>\n",
    "\n",
    "It is a simple matter of counting to deduce that $\\theta = \\frac{1}{4}$. \n",
    "\n",
    "\n",
    "<br>\n",
    "<br>\n",
    "<br>"
   ]
  },
  {
   "cell_type": "markdown",
   "metadata": {},
   "source": [
    "<br>\n",
    "\n",
    "### __Binomial Distribution__\n",
    "\n",
    "<hr style=\"border:2px solid black\"> </hr>\n",
    "\n",
    "We may work with a more generalized experiment as a sequence of __independent Bernoulli trials__, where the quantity of \n",
    "interest is the number of successes on a certain number of trials. \n",
    "\n",
    "<br>\n",
    "\n",
    "This leads to a more general __binomial distribution__. In a sequence of $n$ independent Bernoulli trials with probability\n",
    "of success $\\theta$ on each trial, let $X$ represent the number of successes. The discrete pmf of $X$ is given by\n",
    "\n",
    "<br>\n",
    "\n",
    "$$\n",
    "b(x; n, \\theta) = {n \\choose x} \\theta^{x} (1 - \\theta)^{n-x} \\quad x = 0, 1, \\ldots, n\n",
    "$$\n",
    "\n",
    "<br>\n",
    "\n",
    "For the event $[X = x]$ to occur, it is necessary to have some permutation of $x$ successes ($E$) and $n - x$ failures ($E^{\\prime}$). This count is given by the so-called __binomial coefficient__ ${n \\choose x}$ each one occurring with probability $\\theta^{x} (1 - \\theta)^{n - x}$, which is the product of $x$ values of $\\theta = P(E)$ and $n - x$ values of $1 - \\theta = P(E^{\\prime})$.\n",
    "\n",
    "<br>\n",
    "\n",
    "We use the notation $X \\sim BIN(n, \\theta)$ to denote a binomial random variable.\n",
    "\n",
    "<br>\n",
    "\n",
    "<hr style=\"border:2px solid black\"> </hr>\n",
    "\n",
    "<br>"
   ]
  },
  {
   "cell_type": "markdown",
   "metadata": {},
   "source": [
    "#### __Example: Binomial__ \n",
    "\n",
    "<br>\n",
    "<br>\n",
    "\n",
    "A student answers 20 true-false questions at random. What is the probability of getting $100\\%$ on the test? What is the probability of getting $80\\%$ on the test? \n",
    "\n"
   ]
  },
  {
   "cell_type": "code",
   "execution_count": 3,
   "metadata": {},
   "outputs": [
    {
     "data": {
      "text/plain": [
       "9.5367431640625e-07"
      ]
     },
     "execution_count": 3,
     "metadata": {},
     "output_type": "execute_result"
    }
   ],
   "source": [
    "stats.binom(20, 0.5).pmf(20)"
   ]
  },
  {
   "cell_type": "code",
   "execution_count": 4,
   "metadata": {},
   "outputs": [
    {
     "data": {
      "text/plain": [
       "0.004620552062988271"
      ]
     },
     "execution_count": 4,
     "metadata": {},
     "output_type": "execute_result"
    }
   ],
   "source": [
    "stats.binom(20, 0.5).pmf(16)"
   ]
  },
  {
   "cell_type": "markdown",
   "metadata": {},
   "source": [
    "<br>\n",
    "\n",
    "What is the probability of getting 5 or fewer correct?\n",
    "\n",
    "<br>"
   ]
  },
  {
   "cell_type": "code",
   "execution_count": 5,
   "metadata": {},
   "outputs": [
    {
     "data": {
      "text/plain": [
       "0.02069473266601554"
      ]
     },
     "execution_count": 5,
     "metadata": {},
     "output_type": "execute_result"
    }
   ],
   "source": [
    "stats.binom(20, 0.5).pmf(0) + stats.binom(20, 0.5).pmf(1) + stats.binom(20, 0.5).pmf(2)  \\\n",
    "    + stats.binom(20, 0.5).pmf(3) + stats.binom(20, 0.5).pmf(4) + stats.binom(20, 0.5).pmf(5)"
   ]
  },
  {
   "cell_type": "code",
   "execution_count": 6,
   "metadata": {},
   "outputs": [
    {
     "data": {
      "text/plain": [
       "0.02069473266601554"
      ]
     },
     "execution_count": 6,
     "metadata": {},
     "output_type": "execute_result"
    }
   ],
   "source": [
    "result = 0.0\n",
    "\n",
    "for x in range(0, 6):\n",
    "    result += stats.binom(20, 0.5).pmf(x)\n",
    "        \n",
    "result"
   ]
  },
  {
   "cell_type": "code",
   "execution_count": 7,
   "metadata": {},
   "outputs": [
    {
     "data": {
      "text/plain": [
       "0.020694732666015625"
      ]
     },
     "execution_count": 7,
     "metadata": {},
     "output_type": "execute_result"
    }
   ],
   "source": [
    "stats.binom(20, 0.5).cdf(5)"
   ]
  },
  {
   "cell_type": "code",
   "execution_count": 9,
   "metadata": {},
   "outputs": [
    {
     "data": {
      "text/plain": [
       "0.4119014739990232"
      ]
     },
     "execution_count": 9,
     "metadata": {},
     "output_type": "execute_result"
    }
   ],
   "source": [
    "# 11 or greater\n",
    "1.0 - stats.binom(20, 0.5).cdf(10)"
   ]
  },
  {
   "cell_type": "markdown",
   "metadata": {},
   "source": [
    "<br>\n",
    "<br>\n",
    "<br>"
   ]
  },
  {
   "cell_type": "markdown",
   "metadata": {},
   "source": [
    "<br>\n",
    "\n",
    "### __Geometric Distribution__\n",
    "\n",
    "<hr style=\"border:2px solid black\"> </hr>\n",
    "\n",
    "Consider again a sequence of independent Bernoulli trials with probability of success $\\theta = P(E)$. In the case of the binomial distribution, the number of \n",
    "trials was a fixed number $n$, and the variable of interest was the number of successes. Now we consider the number of trials required to achieve a specified \n",
    "number of successes. \n",
    "\n",
    "<br>\n",
    "\n",
    "If we denote the number of trials required to obtain the _first_ success by the random variable $X$, then the discrete pmf of $X$ is given by\n",
    "\n",
    "<br>\n",
    "\n",
    "$$\n",
    "g(x; \\theta) = \\theta (1 - \\theta)^{x-1} \\quad x = 1, 2, 3, \\ldots\n",
    "$$\n",
    "\n",
    "<br>\n",
    "\n",
    "The distribution of $X$ is known as the __geometric distribution__. We will use the notation $X \\sim GEO(\\theta)$ to denote a geometric random variable.\n",
    "\n",
    "<br>\n",
    "\n",
    "<hr style=\"border:2px solid black\"> </hr>\n",
    "\n",
    "<br>"
   ]
  },
  {
   "cell_type": "markdown",
   "metadata": {},
   "source": [
    "#### __Example: Geomtric__\n",
    "\n",
    "<br>\n",
    "<br>\n",
    "\n",
    "Research has shown that 4 out of 10 5th graders in Utah can locate the state of Colorado on a map. What is the probability that you will have to sample 5 students before one can locate Colorado on the map? \n",
    "\n",
    "<br>"
   ]
  },
  {
   "cell_type": "code",
   "execution_count": 10,
   "metadata": {},
   "outputs": [
    {
     "data": {
      "text/plain": [
       "\u001b[0;31mSignature:\u001b[0m       \u001b[0mstats\u001b[0m\u001b[0;34m.\u001b[0m\u001b[0mgeom\u001b[0m\u001b[0;34m(\u001b[0m\u001b[0;34m*\u001b[0m\u001b[0margs\u001b[0m\u001b[0;34m,\u001b[0m \u001b[0;34m**\u001b[0m\u001b[0mkwds\u001b[0m\u001b[0;34m)\u001b[0m\u001b[0;34m\u001b[0m\u001b[0;34m\u001b[0m\u001b[0m\n",
       "\u001b[0;31mType:\u001b[0m            geom_gen\n",
       "\u001b[0;31mString form:\u001b[0m     <scipy.stats._discrete_distns.geom_gen object at 0x7fc69089f5e0>\n",
       "\u001b[0;31mFile:\u001b[0m            /opt/anaconda3/lib/python3.8/site-packages/scipy/stats/_discrete_distns.py\n",
       "\u001b[0;31mDocstring:\u001b[0m      \n",
       "A geometric discrete random variable.\n",
       "\n",
       "As an instance of the `rv_discrete` class, `geom` object inherits from it\n",
       "a collection of generic methods (see below for the full list),\n",
       "and completes them with details specific for this particular distribution.\n",
       "\n",
       "Methods\n",
       "-------\n",
       "rvs(p, loc=0, size=1, random_state=None)\n",
       "    Random variates.\n",
       "pmf(k, p, loc=0)\n",
       "    Probability mass function.\n",
       "logpmf(k, p, loc=0)\n",
       "    Log of the probability mass function.\n",
       "cdf(k, p, loc=0)\n",
       "    Cumulative distribution function.\n",
       "logcdf(k, p, loc=0)\n",
       "    Log of the cumulative distribution function.\n",
       "sf(k, p, loc=0)\n",
       "    Survival function  (also defined as ``1 - cdf``, but `sf` is sometimes more accurate).\n",
       "logsf(k, p, loc=0)\n",
       "    Log of the survival function.\n",
       "ppf(q, p, loc=0)\n",
       "    Percent point function (inverse of ``cdf`` --- percentiles).\n",
       "isf(q, p, loc=0)\n",
       "    Inverse survival function (inverse of ``sf``).\n",
       "stats(p, loc=0, moments='mv')\n",
       "    Mean('m'), variance('v'), skew('s'), and/or kurtosis('k').\n",
       "entropy(p, loc=0)\n",
       "    (Differential) entropy of the RV.\n",
       "expect(func, args=(p,), loc=0, lb=None, ub=None, conditional=False)\n",
       "    Expected value of a function (of one argument) with respect to the distribution.\n",
       "median(p, loc=0)\n",
       "    Median of the distribution.\n",
       "mean(p, loc=0)\n",
       "    Mean of the distribution.\n",
       "var(p, loc=0)\n",
       "    Variance of the distribution.\n",
       "std(p, loc=0)\n",
       "    Standard deviation of the distribution.\n",
       "interval(alpha, p, loc=0)\n",
       "    Endpoints of the range that contains alpha percent of the distribution\n",
       "\n",
       "Notes\n",
       "-----\n",
       "The probability mass function for `geom` is:\n",
       "\n",
       ".. math::\n",
       "\n",
       "    f(k) = (1-p)^{k-1} p\n",
       "\n",
       "for :math:`k \\ge 1`.\n",
       "\n",
       "`geom` takes :math:`p` as shape parameter.\n",
       "\n",
       "The probability mass function above is defined in the \"standardized\" form.\n",
       "To shift distribution use the ``loc`` parameter.\n",
       "Specifically, ``geom.pmf(k, p, loc)`` is identically\n",
       "equivalent to ``geom.pmf(k - loc, p)``.\n",
       "\n",
       "See Also\n",
       "--------\n",
       "planck\n",
       "\n",
       "Examples\n",
       "--------\n",
       ">>> from scipy.stats import geom\n",
       ">>> import matplotlib.pyplot as plt\n",
       ">>> fig, ax = plt.subplots(1, 1)\n",
       "\n",
       "Calculate a few first moments:\n",
       "\n",
       ">>> p = 0.5\n",
       ">>> mean, var, skew, kurt = geom.stats(p, moments='mvsk')\n",
       "\n",
       "Display the probability mass function (``pmf``):\n",
       "\n",
       ">>> x = np.arange(geom.ppf(0.01, p),\n",
       "...               geom.ppf(0.99, p))\n",
       ">>> ax.plot(x, geom.pmf(x, p), 'bo', ms=8, label='geom pmf')\n",
       ">>> ax.vlines(x, 0, geom.pmf(x, p), colors='b', lw=5, alpha=0.5)\n",
       "\n",
       "Alternatively, the distribution object can be called (as a function)\n",
       "to fix the shape and location. This returns a \"frozen\" RV object holding\n",
       "the given parameters fixed.\n",
       "\n",
       "Freeze the distribution and display the frozen ``pmf``:\n",
       "\n",
       ">>> rv = geom(p)\n",
       ">>> ax.vlines(x, 0, rv.pmf(x), colors='k', linestyles='-', lw=1,\n",
       "...         label='frozen pmf')\n",
       ">>> ax.legend(loc='best', frameon=False)\n",
       ">>> plt.show()\n",
       "\n",
       "Check accuracy of ``cdf`` and ``ppf``:\n",
       "\n",
       ">>> prob = geom.cdf(x, p)\n",
       ">>> np.allclose(x, geom.ppf(prob, p))\n",
       "True\n",
       "\n",
       "Generate random numbers:\n",
       "\n",
       ">>> r = geom.rvs(p, size=1000)\n",
       "\u001b[0;31mClass docstring:\u001b[0m\n",
       "A geometric discrete random variable.\n",
       "\n",
       "%(before_notes)s\n",
       "\n",
       "Notes\n",
       "-----\n",
       "The probability mass function for `geom` is:\n",
       "\n",
       ".. math::\n",
       "\n",
       "    f(k) = (1-p)^{k-1} p\n",
       "\n",
       "for :math:`k \\ge 1`.\n",
       "\n",
       "`geom` takes :math:`p` as shape parameter.\n",
       "\n",
       "%(after_notes)s\n",
       "\n",
       "See Also\n",
       "--------\n",
       "planck\n",
       "\n",
       "%(example)s\n",
       "\u001b[0;31mCall docstring:\u001b[0m \n",
       "Freeze the distribution for the given arguments.\n",
       "\n",
       "Parameters\n",
       "----------\n",
       "arg1, arg2, arg3,... : array_like\n",
       "    The shape parameter(s) for the distribution.  Should include all\n",
       "    the non-optional arguments, may include ``loc`` and ``scale``.\n",
       "\n",
       "Returns\n",
       "-------\n",
       "rv_frozen : rv_frozen instance\n",
       "    The frozen distribution.\n"
      ]
     },
     "metadata": {},
     "output_type": "display_data"
    }
   ],
   "source": [
    "stats.geom"
   ]
  },
  {
   "cell_type": "markdown",
   "metadata": {},
   "source": [
    "<br>\n",
    "\n",
    "### __Negative Binomial Distribution__\n",
    "\n",
    "<hr style=\"border:2px solid black\"> </hr>\n",
    "\n",
    "In repeated independent Bernoulli trials, let $X$ denote the number of trials required to obtain $r$ successes. Then the probability distribution of $X$\n",
    "is the __negative binomial distribution__ with discrete pmf given by\n",
    "\n",
    "<br>\n",
    "\n",
    "$$\n",
    "f(x; r, \\theta) = {x-1 \\choose r-1} \\theta^{r} (1 - \\theta)^{x-r} \\quad x = r, r + 1, \\ldots\n",
    "$$\n",
    "\n",
    "<br>\n",
    "\n",
    "We will use the notation $X \\sim NB(r, p)$ to denote a negative binomial random variable.\n",
    "\n",
    "<br>\n",
    "\n",
    "<hr style=\"border:2px solid black\"> </hr>\n",
    "\n",
    "<br>"
   ]
  },
  {
   "cell_type": "markdown",
   "metadata": {},
   "source": [
    "#### __Example: Negative Binomial__\n",
    "\n",
    "<br>\n",
    "<br>\n",
    "\n",
    "Do da do do do, do do do da da do\n",
    "\n",
    "<br>\n",
    "<br>\n",
    "<br>"
   ]
  },
  {
   "cell_type": "markdown",
   "metadata": {},
   "source": [
    "<br>\n",
    "\n",
    "### __Poisson Distribution__\n",
    "\n",
    "<hr style=\"border:2px solid black\"> </hr>\n",
    "\n",
    "A discrete random variable $X$ is said to have a __Poisson distribution__ with parameter $\\lambda > 0$ if it has the discrete pmf of the form\n",
    "\n",
    "<br>\n",
    "\n",
    "$$\n",
    "f(x; \\lambda) = \\frac{e^{-\\lambda} \\lambda^{x}}{x!} \\quad x = 0, 1, 2, \\ldots\n",
    "$$\n",
    "\n",
    "<br>\n",
    "\n",
    "We will use the notation $X \\sim POI(\\lambda)$ to denote a Poisson random variable. \n",
    "\n",
    "<br>\n",
    "\n",
    "<hr style=\"border:2px solid black\"> </hr>\n",
    "\n",
    "<br>"
   ]
  },
  {
   "cell_type": "markdown",
   "metadata": {},
   "source": [
    "#### __Example: Geomtric__\n",
    "\n",
    "<br>\n",
    "<br>\n",
    "\n",
    "Do da do do do, do do do da da do\n",
    "\n",
    "<br>\n",
    "<br>\n",
    "<br>"
   ]
  },
  {
   "cell_type": "code",
   "execution_count": null,
   "metadata": {},
   "outputs": [],
   "source": []
  }
 ],
 "metadata": {
  "kernelspec": {
   "display_name": "Python 3",
   "language": "python",
   "name": "python3"
  },
  "language_info": {
   "codemirror_mode": {
    "name": "ipython",
    "version": 3
   },
   "file_extension": ".py",
   "mimetype": "text/x-python",
   "name": "python",
   "nbconvert_exporter": "python",
   "pygments_lexer": "ipython3",
   "version": "3.8.5"
  }
 },
 "nbformat": 4,
 "nbformat_minor": 5
}
