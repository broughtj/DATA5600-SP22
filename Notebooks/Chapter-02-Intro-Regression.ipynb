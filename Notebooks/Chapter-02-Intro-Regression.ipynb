{
 "cells": [
  {
   "cell_type": "code",
   "execution_count": 2,
   "id": "de7f8418-64ed-47d9-827f-814926aae00b",
   "metadata": {},
   "outputs": [],
   "source": [
    "import numpy as np\n",
    "import pandas as pd\n",
    "import scipy.stats as stats\n",
    "import matplotlib.pyplot as plt\n",
    "import statsmodels.api as sm"
   ]
  },
  {
   "cell_type": "code",
   "execution_count": 4,
   "id": "b22787a1-2bdf-4c55-a1f2-2ca82d59247f",
   "metadata": {},
   "outputs": [],
   "source": [
    "## Simualte the population\n",
    "\n",
    "## Define the \"true\" population parameters\n",
    "β0 = 5.0\n",
    "β1 = 7.0 \n",
    "\n",
    "## Define the sample size\n",
    "N = 100\n",
    "\n",
    "## Assume a distribution for x\n",
    "x = np.random.uniform(size=N)\n",
    "\n",
    "## Assume a std normal for u\n",
    "u = np.random.normal(size=N)"
   ]
  },
  {
   "cell_type": "code",
   "execution_count": 5,
   "id": "36c29113-bc90-4507-811c-ce7569d2d2ae",
   "metadata": {},
   "outputs": [],
   "source": [
    "## Generate the lhs data\n",
    "y = β0 + β1 * x + u"
   ]
  },
  {
   "cell_type": "code",
   "execution_count": 6,
   "id": "a26b0cc4-f68f-4113-b14f-b39d2bc9031d",
   "metadata": {},
   "outputs": [
    {
     "data": {
      "text/plain": [
       "array([11.203971  ,  5.32050725, 11.26606665, 10.78976093,  5.95306498,\n",
       "        7.37590465,  9.19604867,  8.37921541,  8.00596433,  7.25902764])"
      ]
     },
     "execution_count": 6,
     "metadata": {},
     "output_type": "execute_result"
    }
   ],
   "source": [
    "y[:10]"
   ]
  },
  {
   "cell_type": "code",
   "execution_count": 7,
   "id": "978d85f6-aa5e-46be-8268-1f3a004a995b",
   "metadata": {},
   "outputs": [],
   "source": [
    "X = sm.add_constant(x)\n",
    "reg = sm.OLS(y, X)"
   ]
  },
  {
   "cell_type": "code",
   "execution_count": 8,
   "id": "8ba3a48a-4abf-4785-bdea-082ec3c84d87",
   "metadata": {},
   "outputs": [
    {
     "data": {
      "text/plain": [
       "<statsmodels.regression.linear_model.OLS at 0x7fb7e8417fa0>"
      ]
     },
     "execution_count": 8,
     "metadata": {},
     "output_type": "execute_result"
    }
   ],
   "source": [
    "reg"
   ]
  },
  {
   "cell_type": "code",
   "execution_count": 9,
   "id": "b70e423b-72c3-4ae3-8e3b-4ada1fe4b228",
   "metadata": {},
   "outputs": [
    {
     "data": {
      "text/plain": [
       "\u001b[0;31mType:\u001b[0m        OLS\n",
       "\u001b[0;31mString form:\u001b[0m <statsmodels.regression.linear_model.OLS object at 0x7fb7e8417fa0>\n",
       "\u001b[0;31mFile:\u001b[0m        ~/anaconda3/lib/python3.8/site-packages/statsmodels/regression/linear_model.py\n",
       "\u001b[0;31mDocstring:\u001b[0m  \n",
       "Ordinary Least Squares\n",
       "\n",
       "Parameters\n",
       "----------\n",
       "endog : array_like\n",
       "    A 1-d endogenous response variable. The dependent variable.\n",
       "exog : array_like\n",
       "    A nobs x k array where `nobs` is the number of observations and `k`\n",
       "    is the number of regressors. An intercept is not included by default\n",
       "    and should be added by the user. See\n",
       "    :func:`statsmodels.tools.add_constant`.\n",
       "missing : str\n",
       "    Available options are 'none', 'drop', and 'raise'. If 'none', no nan\n",
       "    checking is done. If 'drop', any observations with nans are dropped.\n",
       "    If 'raise', an error is raised. Default is 'none'.\n",
       "hasconst : None or bool\n",
       "    Indicates whether the RHS includes a user-supplied constant. If True,\n",
       "    a constant is not checked for and k_constant is set to 1 and all\n",
       "    result statistics are calculated as if a constant is present. If\n",
       "    False, a constant is not checked for and k_constant is set to 0.\n",
       "**kwargs\n",
       "    Extra arguments that are used to set model properties when using the\n",
       "    formula interface.\n",
       "\n",
       "Attributes\n",
       "----------\n",
       "weights : scalar\n",
       "    Has an attribute weights = array(1.0) due to inheritance from WLS.\n",
       "\n",
       "See Also\n",
       "--------\n",
       "WLS : Fit a linear model using Weighted Least Squares.\n",
       "GLS : Fit a linear model using Generalized Least Squares.\n",
       "\n",
       "Notes\n",
       "-----\n",
       "No constant is added by the model unless you are using formulas.\n",
       "\n",
       "Examples\n",
       "--------\n",
       ">>> import statsmodels.api as sm\n",
       ">>> import numpy as np\n",
       ">>> duncan_prestige = sm.datasets.get_rdataset(\"Duncan\", \"carData\")\n",
       ">>> Y = duncan_prestige.data['income']\n",
       ">>> X = duncan_prestige.data['education']\n",
       ">>> X = sm.add_constant(X)\n",
       ">>> model = sm.OLS(Y,X)\n",
       ">>> results = model.fit()\n",
       ">>> results.params\n",
       "const        10.603498\n",
       "education     0.594859\n",
       "dtype: float64\n",
       "\n",
       ">>> results.tvalues\n",
       "const        2.039813\n",
       "education    6.892802\n",
       "dtype: float64\n",
       "\n",
       ">>> print(results.t_test([1, 0]))\n",
       "                             Test for Constraints\n",
       "==============================================================================\n",
       "                 coef    std err          t      P>|t|      [0.025      0.975]\n",
       "------------------------------------------------------------------------------\n",
       "c0            10.6035      5.198      2.040      0.048       0.120      21.087\n",
       "==============================================================================\n",
       "\n",
       ">>> print(results.f_test(np.identity(2)))\n",
       "<F test: F=array([[159.63031026]]), p=1.2607168903696672e-20, df_denom=43, df_num=2>\n"
      ]
     },
     "metadata": {},
     "output_type": "display_data"
    }
   ],
   "source": [
    "reg?"
   ]
  },
  {
   "cell_type": "code",
   "execution_count": 10,
   "id": "f5a7385e-3ffa-4349-a500-ff242297eee3",
   "metadata": {},
   "outputs": [],
   "source": [
    "results  = reg.fit()"
   ]
  },
  {
   "cell_type": "code",
   "execution_count": 12,
   "id": "1e59cc14-8995-498a-9eed-c70cadbde07b",
   "metadata": {},
   "outputs": [
    {
     "name": "stdout",
     "output_type": "stream",
     "text": [
      "                            OLS Regression Results                            \n",
      "==============================================================================\n",
      "Dep. Variable:                      y   R-squared:                       0.812\n",
      "Model:                            OLS   Adj. R-squared:                  0.810\n",
      "Method:                 Least Squares   F-statistic:                     424.2\n",
      "Date:                Mon, 11 Apr 2022   Prob (F-statistic):           2.22e-37\n",
      "Time:                        15:53:05   Log-Likelihood:                -134.64\n",
      "No. Observations:                 100   AIC:                             273.3\n",
      "Df Residuals:                      98   BIC:                             278.5\n",
      "Df Model:                           1                                         \n",
      "Covariance Type:            nonrobust                                         \n",
      "==============================================================================\n",
      "                 coef    std err          t      P>|t|      [0.025      0.975]\n",
      "------------------------------------------------------------------------------\n",
      "const          5.2607      0.184     28.601      0.000       4.896       5.626\n",
      "x1             6.4255      0.312     20.596      0.000       5.806       7.045\n",
      "==============================================================================\n",
      "Omnibus:                        0.039   Durbin-Watson:                   2.069\n",
      "Prob(Omnibus):                  0.981   Jarque-Bera (JB):                0.019\n",
      "Skew:                           0.015   Prob(JB):                        0.991\n",
      "Kurtosis:                       2.940   Cond. No.                         4.24\n",
      "==============================================================================\n",
      "\n",
      "Notes:\n",
      "[1] Standard Errors assume that the covariance matrix of the errors is correctly specified.\n"
     ]
    }
   ],
   "source": [
    "print(results.summary())"
   ]
  },
  {
   "cell_type": "code",
   "execution_count": null,
   "id": "18503f3c-6d57-4eea-933f-3698562ba230",
   "metadata": {},
   "outputs": [],
   "source": []
  }
 ],
 "metadata": {
  "kernelspec": {
   "display_name": "Python 3 (ipykernel)",
   "language": "python",
   "name": "python3"
  },
  "language_info": {
   "codemirror_mode": {
    "name": "ipython",
    "version": 3
   },
   "file_extension": ".py",
   "mimetype": "text/x-python",
   "name": "python",
   "nbconvert_exporter": "python",
   "pygments_lexer": "ipython3",
   "version": "3.8.5"
  }
 },
 "nbformat": 4,
 "nbformat_minor": 5
}
