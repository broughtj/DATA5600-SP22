{
 "cells": [
  {
   "cell_type": "code",
   "execution_count": 1,
   "id": "de7f8418-64ed-47d9-827f-814926aae00b",
   "metadata": {},
   "outputs": [],
   "source": [
    "import numpy as np\n",
    "import pandas as pd\n",
    "import scipy.stats as stats\n",
    "import matplotlib.pyplot as plt\n",
    "import statsmodels.api as sm"
   ]
  },
  {
   "cell_type": "code",
   "execution_count": 2,
   "id": "b22787a1-2bdf-4c55-a1f2-2ca82d59247f",
   "metadata": {},
   "outputs": [],
   "source": [
    "## Simualte the population\n",
    "\n",
    "## Define the \"true\" population parameters\n",
    "β0 = 5.0\n",
    "β1 = 7.0 \n",
    "\n",
    "## Define the sample size\n",
    "N = 100\n",
    "\n",
    "## Assume a distribution for x\n",
    "x = np.random.uniform(size=N)\n",
    "\n",
    "## Assume a std normal for u\n",
    "u = np.random.normal(size=N)"
   ]
  },
  {
   "cell_type": "code",
   "execution_count": 3,
   "id": "36c29113-bc90-4507-811c-ce7569d2d2ae",
   "metadata": {},
   "outputs": [],
   "source": [
    "## Generate the lhs data\n",
    "y = β0 + β1 * x + u"
   ]
  },
  {
   "cell_type": "code",
   "execution_count": 4,
   "id": "a26b0cc4-f68f-4113-b14f-b39d2bc9031d",
   "metadata": {},
   "outputs": [
    {
     "data": {
      "text/plain": [
       "array([ 3.09012624,  5.39445564, 11.58531117,  6.32058036,  9.1074197 ,\n",
       "       10.30797518, 10.38487664, 12.03813324, 12.43677792,  6.52601751])"
      ]
     },
     "execution_count": 4,
     "metadata": {},
     "output_type": "execute_result"
    }
   ],
   "source": [
    "y[:10]"
   ]
  },
  {
   "cell_type": "code",
   "execution_count": 5,
   "id": "978d85f6-aa5e-46be-8268-1f3a004a995b",
   "metadata": {},
   "outputs": [],
   "source": [
    "X = sm.add_constant(x)\n",
    "reg = sm.OLS(y, X)"
   ]
  },
  {
   "cell_type": "code",
   "execution_count": 6,
   "id": "8ba3a48a-4abf-4785-bdea-082ec3c84d87",
   "metadata": {},
   "outputs": [
    {
     "data": {
      "text/plain": [
       "<statsmodels.regression.linear_model.OLS at 0x7f8f4b91dd00>"
      ]
     },
     "execution_count": 6,
     "metadata": {},
     "output_type": "execute_result"
    }
   ],
   "source": [
    "reg"
   ]
  },
  {
   "cell_type": "code",
   "execution_count": 7,
   "id": "b70e423b-72c3-4ae3-8e3b-4ada1fe4b228",
   "metadata": {},
   "outputs": [
    {
     "data": {
      "text/plain": [
       "\u001b[0;31mType:\u001b[0m        OLS\n",
       "\u001b[0;31mString form:\u001b[0m <statsmodels.regression.linear_model.OLS object at 0x7f8f4b91dd00>\n",
       "\u001b[0;31mFile:\u001b[0m        ~/anaconda3/lib/python3.8/site-packages/statsmodels/regression/linear_model.py\n",
       "\u001b[0;31mDocstring:\u001b[0m  \n",
       "Ordinary Least Squares\n",
       "\n",
       "Parameters\n",
       "----------\n",
       "endog : array_like\n",
       "    A 1-d endogenous response variable. The dependent variable.\n",
       "exog : array_like\n",
       "    A nobs x k array where `nobs` is the number of observations and `k`\n",
       "    is the number of regressors. An intercept is not included by default\n",
       "    and should be added by the user. See\n",
       "    :func:`statsmodels.tools.add_constant`.\n",
       "missing : str\n",
       "    Available options are 'none', 'drop', and 'raise'. If 'none', no nan\n",
       "    checking is done. If 'drop', any observations with nans are dropped.\n",
       "    If 'raise', an error is raised. Default is 'none'.\n",
       "hasconst : None or bool\n",
       "    Indicates whether the RHS includes a user-supplied constant. If True,\n",
       "    a constant is not checked for and k_constant is set to 1 and all\n",
       "    result statistics are calculated as if a constant is present. If\n",
       "    False, a constant is not checked for and k_constant is set to 0.\n",
       "**kwargs\n",
       "    Extra arguments that are used to set model properties when using the\n",
       "    formula interface.\n",
       "\n",
       "Attributes\n",
       "----------\n",
       "weights : scalar\n",
       "    Has an attribute weights = array(1.0) due to inheritance from WLS.\n",
       "\n",
       "See Also\n",
       "--------\n",
       "WLS : Fit a linear model using Weighted Least Squares.\n",
       "GLS : Fit a linear model using Generalized Least Squares.\n",
       "\n",
       "Notes\n",
       "-----\n",
       "No constant is added by the model unless you are using formulas.\n",
       "\n",
       "Examples\n",
       "--------\n",
       ">>> import statsmodels.api as sm\n",
       ">>> import numpy as np\n",
       ">>> duncan_prestige = sm.datasets.get_rdataset(\"Duncan\", \"carData\")\n",
       ">>> Y = duncan_prestige.data['income']\n",
       ">>> X = duncan_prestige.data['education']\n",
       ">>> X = sm.add_constant(X)\n",
       ">>> model = sm.OLS(Y,X)\n",
       ">>> results = model.fit()\n",
       ">>> results.params\n",
       "const        10.603498\n",
       "education     0.594859\n",
       "dtype: float64\n",
       "\n",
       ">>> results.tvalues\n",
       "const        2.039813\n",
       "education    6.892802\n",
       "dtype: float64\n",
       "\n",
       ">>> print(results.t_test([1, 0]))\n",
       "                             Test for Constraints\n",
       "==============================================================================\n",
       "                 coef    std err          t      P>|t|      [0.025      0.975]\n",
       "------------------------------------------------------------------------------\n",
       "c0            10.6035      5.198      2.040      0.048       0.120      21.087\n",
       "==============================================================================\n",
       "\n",
       ">>> print(results.f_test(np.identity(2)))\n",
       "<F test: F=array([[159.63031026]]), p=1.2607168903696672e-20, df_denom=43, df_num=2>\n"
      ]
     },
     "metadata": {},
     "output_type": "display_data"
    }
   ],
   "source": [
    "reg?"
   ]
  },
  {
   "cell_type": "code",
   "execution_count": 8,
   "id": "f5a7385e-3ffa-4349-a500-ff242297eee3",
   "metadata": {},
   "outputs": [],
   "source": [
    "results  = reg.fit()"
   ]
  },
  {
   "cell_type": "code",
   "execution_count": 12,
   "id": "fbed7695-fd64-4a5c-96ca-94fc449646ae",
   "metadata": {},
   "outputs": [
    {
     "data": {
      "text/plain": [
       "\u001b[0;31mSignature:\u001b[0m\n",
       "\u001b[0mreg\u001b[0m\u001b[0;34m.\u001b[0m\u001b[0mfit\u001b[0m\u001b[0;34m(\u001b[0m\u001b[0;34m\u001b[0m\n",
       "\u001b[0;34m\u001b[0m    \u001b[0mmethod\u001b[0m\u001b[0;34m=\u001b[0m\u001b[0;34m'pinv'\u001b[0m\u001b[0;34m,\u001b[0m\u001b[0;34m\u001b[0m\n",
       "\u001b[0;34m\u001b[0m    \u001b[0mcov_type\u001b[0m\u001b[0;34m=\u001b[0m\u001b[0;34m'nonrobust'\u001b[0m\u001b[0;34m,\u001b[0m\u001b[0;34m\u001b[0m\n",
       "\u001b[0;34m\u001b[0m    \u001b[0mcov_kwds\u001b[0m\u001b[0;34m=\u001b[0m\u001b[0;32mNone\u001b[0m\u001b[0;34m,\u001b[0m\u001b[0;34m\u001b[0m\n",
       "\u001b[0;34m\u001b[0m    \u001b[0muse_t\u001b[0m\u001b[0;34m=\u001b[0m\u001b[0;32mNone\u001b[0m\u001b[0;34m,\u001b[0m\u001b[0;34m\u001b[0m\n",
       "\u001b[0;34m\u001b[0m    \u001b[0;34m**\u001b[0m\u001b[0mkwargs\u001b[0m\u001b[0;34m,\u001b[0m\u001b[0;34m\u001b[0m\n",
       "\u001b[0;34m\u001b[0m\u001b[0;34m)\u001b[0m\u001b[0;34m\u001b[0m\u001b[0;34m\u001b[0m\u001b[0m\n",
       "\u001b[0;31mDocstring:\u001b[0m\n",
       "Full fit of the model.\n",
       "\n",
       "The results include an estimate of covariance matrix, (whitened)\n",
       "residuals and an estimate of scale.\n",
       "\n",
       "Parameters\n",
       "----------\n",
       "method : str, optional\n",
       "    Can be \"pinv\", \"qr\".  \"pinv\" uses the Moore-Penrose pseudoinverse\n",
       "    to solve the least squares problem. \"qr\" uses the QR\n",
       "    factorization.\n",
       "cov_type : str, optional\n",
       "    See `regression.linear_model.RegressionResults` for a description\n",
       "    of the available covariance estimators.\n",
       "cov_kwds : list or None, optional\n",
       "    See `linear_model.RegressionResults.get_robustcov_results` for a\n",
       "    description required keywords for alternative covariance\n",
       "    estimators.\n",
       "use_t : bool, optional\n",
       "    Flag indicating to use the Student's t distribution when computing\n",
       "    p-values.  Default behavior depends on cov_type. See\n",
       "    `linear_model.RegressionResults.get_robustcov_results` for\n",
       "    implementation details.\n",
       "**kwargs\n",
       "    Additional keyword arguments that contain information used when\n",
       "    constructing a model using the formula interface.\n",
       "\n",
       "Returns\n",
       "-------\n",
       "RegressionResults\n",
       "    The model estimation results.\n",
       "\n",
       "See Also\n",
       "--------\n",
       "RegressionResults\n",
       "    The results container.\n",
       "RegressionResults.get_robustcov_results\n",
       "    A method to change the covariance estimator used when fitting the\n",
       "    model.\n",
       "\n",
       "Notes\n",
       "-----\n",
       "The fit method uses the pseudoinverse of the design/exogenous variables\n",
       "to solve the least squares minimization.\n",
       "\u001b[0;31mFile:\u001b[0m      ~/anaconda3/lib/python3.8/site-packages/statsmodels/regression/linear_model.py\n",
       "\u001b[0;31mType:\u001b[0m      method\n"
      ]
     },
     "metadata": {},
     "output_type": "display_data"
    }
   ],
   "source": [
    "reg.fit?"
   ]
  },
  {
   "cell_type": "code",
   "execution_count": 11,
   "id": "1e59cc14-8995-498a-9eed-c70cadbde07b",
   "metadata": {},
   "outputs": [
    {
     "name": "stdout",
     "output_type": "stream",
     "text": [
      "                            OLS Regression Results                            \n",
      "==============================================================================\n",
      "Dep. Variable:                      y   R-squared:                       0.806\n",
      "Model:                            OLS   Adj. R-squared:                  0.804\n",
      "Method:                 Least Squares   F-statistic:                     408.4\n",
      "Date:                Wed, 13 Apr 2022   Prob (F-statistic):           1.00e-36\n",
      "Time:                        15:42:49   Log-Likelihood:                -145.34\n",
      "No. Observations:                 100   AIC:                             294.7\n",
      "Df Residuals:                      98   BIC:                             299.9\n",
      "Df Model:                           1                                         \n",
      "Covariance Type:            nonrobust                                         \n",
      "==============================================================================\n",
      "                 coef    std err          t      P>|t|      [0.025      0.975]\n",
      "------------------------------------------------------------------------------\n",
      "const          4.9842      0.205     24.339      0.000       4.578       5.391\n",
      "x1             7.0085      0.347     20.209      0.000       6.320       7.697\n",
      "==============================================================================\n",
      "Omnibus:                        2.054   Durbin-Watson:                   1.911\n",
      "Prob(Omnibus):                  0.358   Jarque-Bera (JB):                1.476\n",
      "Skew:                           0.191   Prob(JB):                        0.478\n",
      "Kurtosis:                       3.456   Cond. No.                         4.24\n",
      "==============================================================================\n",
      "\n",
      "Notes:\n",
      "[1] Standard Errors assume that the covariance matrix of the errors is correctly specified.\n"
     ]
    }
   ],
   "source": [
    "print(results.summary())\n",
    "##results.summary()"
   ]
  },
  {
   "cell_type": "code",
   "execution_count": null,
   "id": "18503f3c-6d57-4eea-933f-3698562ba230",
   "metadata": {},
   "outputs": [],
   "source": []
  }
 ],
 "metadata": {
  "kernelspec": {
   "display_name": "Python 3 (ipykernel)",
   "language": "python",
   "name": "python3"
  },
  "language_info": {
   "codemirror_mode": {
    "name": "ipython",
    "version": 3
   },
   "file_extension": ".py",
   "mimetype": "text/x-python",
   "name": "python",
   "nbconvert_exporter": "python",
   "pygments_lexer": "ipython3",
   "version": "3.8.5"
  }
 },
 "nbformat": 4,
 "nbformat_minor": 5
}
