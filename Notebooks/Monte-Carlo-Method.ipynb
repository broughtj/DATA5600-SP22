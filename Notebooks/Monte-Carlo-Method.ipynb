{
 "cells": [
  {
   "cell_type": "markdown",
   "metadata": {},
   "source": [
    "# An Introduction to the Monte Carlo Method\n",
    "\n",
    "This set of notes introduces some basic concepts regarding statistical limit theory as well as the Monte Carlo method.\n",
    "\n",
    "## Statistical Limit Theory\n",
    "\n",
    "### Limiting Distribution\n",
    "\n",
    "Consider a sequence of random variables $Y_{1}, Y_{2}, \\ldots$ with a corresponding sequence of CDFs $G_{1}(y), G_{2}(y), \\ldots$ so that for each $n = 1, 2, \\ldots$\n",
    "\n",
    "$$G_{n}(y) = P[Y_{n} \\le y]$$\n",
    "\n",
    "***Definition***\n",
    "\n",
    "If $Y_{n} \\sim G_{n}(y)$ for each $n = 1, 2, \\ldots$, and if for some CDF $G(y)$\n",
    "\n",
    "$$\\lim_{n\\to\\infty} G_{n}(y) = G(y)$$\n",
    "\n",
    "for all values $y$ at which $G(y)$ is continous, then the sequence $Y_{1}, Y_{2}, \\ldots$ is said to **converge in distribution** to $Y \\sim G(y)$, denoted by $Y_{n} \\xrightarrow{d} Y$. The distribution corresponding to the CDF $G(y)$ is called the **limiting distribution** of $Y_{n}$.\n",
    "\n",
    "### Basic Convergence Concepts\n",
    "\n",
    "***Definition***\n",
    "\n",
    "A sequence of random variables, $Y_{1}, Y_{2}, \\ldots$, is said to **converge in probability** to the random variable $Y$ if \n",
    "\n",
    "$$\\lim_{n\\to\\infty} P[|Y_{n} - Y| < \\varepsilon] = 1$$\n",
    "\n",
    "for every $\\varepsilon > 0$.\n",
    "\n",
    "\n",
    "***Definition***\n",
    "\n",
    "The sequence **converges almost surely** to $Y$ if \n",
    "\n",
    "$$P[lim_{n\\to\\infty} |Y_{n} - Y| < \\varepsilon] = 1$$\n",
    "\n",
    "for every $\\varepsilon > 0$. \n",
    "\n",
    "### The Law of Large Numbers\n",
    "\n",
    "***Definition***\n",
    "\n",
    "The law which states that the larger a sample, the nearer its mean is to that of the parent population from which the sample is drawn. More formally: for every $\\varepsilon > 0$, the probability\n",
    "\n",
    "$$\\{|\\bar{Y} - Y| > \\varepsilon \\} \\rightarrow 0 \\quad \\mbox{as} \\quad n \\rightarrow \\infty$$\n",
    "\n",
    "where $n$ is the sample size, $\\bar{Y}$ is the sample mean, and $\\mu$ is the parent mean.\n",
    "\n",
    "More rigorous definitions are the following:\n",
    "\n",
    "For i.i.d sequences of one-dimensional random variables $Y_{1}, Y_{2}, \\ldots$, let $\\bar{Y}_{n} = \\frac{1}{n} \\sum\\limits_{i=1}^{n} Y_{i}$.\n",
    "\n",
    "The *weak law of large numbers* states that $\\bar{Y}_{n}$ converges in probability to $\\mu = E\\{Y_{i}\\}$ if $E\\{|Y_{i}|\\} < \\infty$.\n",
    "\n",
    "The *strong law of large numbers* states that $\\bar{Y}_{n}$ converges almost surely to $\\mu$ if $E\\{|Y_{i}|\\} < \\infty$.\n",
    "\n",
    "Both results hold under the more stringent but easily checked condition that $var\\{Y_{i}\\} = \\sigma^{2} < \\infty$.\n",
    "\n",
    "### Using Simulation to Check the Law of Large Numbers\n",
    "\n",
    "We can use simulation to check the Law of Large Numbers. Consider a fair die with six sides and outcomes $Y = \\{1, 2, 3, 4, 5, 6\\}$, each with $P[Y_{i} = y] = \\frac{1}{6}$. The true mean is \n",
    "\n",
    "$$ \\mu = E\\{Y\\} = \\frac{1}{6}[1 + 2 + 3 + 4 + 5 + 6] = 3.5$$\n",
    "\n",
    "We can verify this in `Python`:"
   ]
  },
  {
   "cell_type": "code",
   "execution_count": 1,
   "metadata": {
    "collapsed": false,
    "jupyter": {
     "outputs_hidden": false
    }
   },
   "outputs": [],
   "source": [
    "%matplotlib inline"
   ]
  },
  {
   "cell_type": "code",
   "execution_count": 2,
   "metadata": {
    "collapsed": false,
    "jupyter": {
     "outputs_hidden": false
    }
   },
   "outputs": [
    {
     "data": {
      "text/plain": [
       "array([1, 2, 3, 4, 5, 6])"
      ]
     },
     "execution_count": 2,
     "metadata": {},
     "output_type": "execute_result"
    }
   ],
   "source": [
    "import numpy as np\n",
    "import matplotlib.pyplot as plt\n",
    "\n",
    "x = np.arange(1,7)\n",
    "mu = (1/6) * x.sum()\n",
    "x"
   ]
  },
  {
   "cell_type": "code",
   "execution_count": null,
   "metadata": {
    "collapsed": false,
    "jupyter": {
     "outputs_hidden": false
    }
   },
   "outputs": [],
   "source": [
    "mu"
   ]
  },
  {
   "cell_type": "markdown",
   "metadata": {},
   "source": [
    "Now let's simulate some rolls of the die and collect some data. We will let our sample size increase and plot the estimated mean.\n",
    "\n",
    "We can simulate a single roll of the die as follows:\n"
   ]
  },
  {
   "cell_type": "code",
   "execution_count": 4,
   "metadata": {
    "collapsed": false,
    "jupyter": {
     "outputs_hidden": false
    }
   },
   "outputs": [
    {
     "data": {
      "text/plain": [
       "4"
      ]
     },
     "execution_count": 4,
     "metadata": {},
     "output_type": "execute_result"
    }
   ],
   "source": [
    "np.random.randint(1,7)"
   ]
  },
  {
   "cell_type": "markdown",
   "metadata": {},
   "source": [
    "We can also simulate many at once as follows:"
   ]
  },
  {
   "cell_type": "code",
   "execution_count": null,
   "metadata": {
    "collapsed": false,
    "jupyter": {
     "outputs_hidden": false
    }
   },
   "outputs": [],
   "source": [
    "np.random.randint(1,7, size=100)\n",
    "    "
   ]
  },
  {
   "cell_type": "code",
   "execution_count": 5,
   "metadata": {
    "collapsed": false,
    "jupyter": {
     "outputs_hidden": false
    }
   },
   "outputs": [
    {
     "data": {
      "text/plain": [
       "Text(0, 0.5, 'Estimated Mean')"
      ]
     },
     "execution_count": 5,
     "metadata": {},
     "output_type": "execute_result"
    },
    {
     "data": {
      "image/png": "[encoded data removed]",
      "text/plain": [
       "<Figure size 432x288 with 1 Axes>"
      ]
     },
     "metadata": {
      "needs_background": "light"
     },
     "output_type": "display_data"
    }
   ],
   "source": [
    "m = 10000\n",
    "sizes = np.arange(1,m + 1)\n",
    "means = np.zeros((m,))\n",
    "\n",
    "for i in range(len(sizes)):\n",
    "    y = np.random.randint(1,7, size=sizes[i])\n",
    "    means[i] = y.mean()\n",
    "    \n",
    "plt.plot(means, 'g', lw = 2.5)\n",
    "plt.grid(True)\n",
    "plt.title(\"Simulating the Toss of a Fair Die to Demonstrate the Law of Large Numbers\")\n",
    "plt.xlabel(\"Sample Size\")\n",
    "plt.ylabel(\"Estimated Mean\")"
   ]
  },
  {
   "cell_type": "code",
   "execution_count": null,
   "metadata": {
    "collapsed": false,
    "jupyter": {
     "outputs_hidden": false
    }
   },
   "outputs": [],
   "source": [
    "means[:10]"
   ]
  },
  {
   "cell_type": "markdown",
   "metadata": {},
   "source": [
    "We can do a similar simulation for the flipping of a fair coin. We can simulate the flip of a coin with the Binomial distribution as follows:"
   ]
  },
  {
   "cell_type": "code",
   "execution_count": null,
   "metadata": {
    "collapsed": false,
    "jupyter": {
     "outputs_hidden": false
    }
   },
   "outputs": [],
   "source": [
    "np.random.binomial(1, 0.5, 100)"
   ]
  },
  {
   "cell_type": "code",
   "execution_count": null,
   "metadata": {
    "collapsed": false,
    "jupyter": {
     "outputs_hidden": false
    }
   },
   "outputs": [],
   "source": [
    "m = 10000\n",
    "sizes = np.arange(1,m + 1)\n",
    "means = np.zeros((m,))\n",
    "\n",
    "for i in range(len(sizes)):\n",
    "    y = np.random.binomial(1, 0.5, sizes[i])\n",
    "    means[i] = y.mean()\n",
    "    \n",
    "plt.plot(means, 'g', lw = 2.5)\n",
    "plt.grid(True)\n",
    "plt.title(\"Simulating Flipping a Fair Coin\")\n",
    "plt.xlabel(\"Sample Size\")\n",
    "plt.ylabel(\"Estimated Mean\")"
   ]
  },
  {
   "cell_type": "markdown",
   "metadata": {},
   "source": [
    "## The Central Limit Theorem\n",
    "\n",
    "\n",
    "The theorem that states that, if samples of size $n$ are taken from a parent population with mean $\\mu$ and standard deviation $\\sigma$, then the distribution of their means will be approximately normal with:\n",
    "\n",
    "$$\\mbox{Mean} = \\mu$$\n",
    "\n",
    "and\n",
    "\n",
    "$$\\mbox{Standard deviation} = \\frac{\\sigma}{\\sqrt{n}}$$\n",
    "\n",
    "As the sample size $n$ increases, this distribution approaches the normal distribution with increasing accuracy. Thus in the limit, as $n \\rightarrow \\infty$, the distribution of the sample means $\\rightarrow$ Normal, mean $\\mu$, standard deviation $\\sigma / \\sqrt{n}$.\n",
    "\n",
    "If the parent population is itself normal, the distribution of the sample means will be normal, whatever the sample size. If the parent population is of finite size $N$, two possibilties arise:\n",
    "\n",
    "1. If the sampling is carried out with replacement, the theorem stands as stated;\n",
    "2. If there is no replacement, the standard deviation of the sample mean is:\n",
    "\n",
    "$$\\frac{\\sigma}{\\sqrt{n}} \\sqrt{\\frac{N - n}{N - 1}}$$\n",
    "\n",
    "The factor $\\sqrt{\\frac{N - n}{N - 1}}$ is called the **finite population correction.**\n",
    "\n",
    "The central limite theorem provides the basis for much of sampling theory; it can be summed up, as follows. If $n$ is not small, the sampling distribution of the means is approximately normal, has $\\mbox{mean} = \\mu$ (the parent mean), and has standard deviation $\\sigma / \\sqrt{n}$ (where $\\sigma$ is the parent standard deviation).\n",
    "\n",
    "We can use simulation to build intuition for the central limit theorem as well. Consider the mean of a sample from an exponential distribution. Recall that the density of the exponential distribution is the following:\n",
    "\n",
    "$$f(x) = \\frac{1}{\\theta}e^{-x/\\theta}$$\n",
    "\n",
    "for $\\theta > 0$ and $x > 0$.\n",
    "\n",
    "In `Python` we can simulate from the exponential distribution as follows:"
   ]
  },
  {
   "cell_type": "code",
   "execution_count": null,
   "metadata": {
    "collapsed": false,
    "jupyter": {
     "outputs_hidden": false
    }
   },
   "outputs": [],
   "source": [
    "np.random.exponential(size=10)"
   ]
  },
  {
   "cell_type": "code",
   "execution_count": null,
   "metadata": {
    "collapsed": false,
    "jupyter": {
     "outputs_hidden": false
    }
   },
   "outputs": [],
   "source": [
    "%matplotlib inline"
   ]
  },
  {
   "cell_type": "code",
   "execution_count": null,
   "metadata": {
    "collapsed": false,
    "jupyter": {
     "outputs_hidden": false
    }
   },
   "outputs": [],
   "source": [
    "import numpy as np\n",
    "import matplotlib.pyplot as plt\n",
    "from scipy.stats import gaussian_kde\n",
    "\n",
    "m = 10000\n",
    "n = 1000 # start at 10 and move up to 10000\n",
    "\n",
    "means = np.zeros((m,))\n",
    "\n",
    "for i in range(m):\n",
    "    x = np.random.exponential(size=n)\n",
    "    means[i] = x.mean()\n",
    "    \n",
    "density = gaussian_kde(means)\n",
    "xs = np.linspace(0.5,1.5,200)\n",
    "density.covariance_factor = lambda : .25\n",
    "density._compute_covariance()\n",
    "plt.plot(xs,density(xs), lw = 2)\n",
    "plt.title(\"Kernel Densit Plot\")\n",
    "plt.grid(True)\n",
    "plt.show()"
   ]
  },
  {
   "cell_type": "markdown",
   "metadata": {},
   "source": [
    "## The Monte Carlo Method\n",
    "\n",
    "Now with that statistical limit theory as a background we can turn our attention to introducting the Monte Carlo Method.\n",
    "\n",
    "Many quantities of interest in inferential statistical analyses can be expressed as the expectation of a function of a random variable, say $E\\{h(Y)\\}$. Let $f$ denote the density of $Y$, and $\\mu$ denote the expectation of $h(Y)$ with respect to $f$. When an i.i.d random sample $Y_{1}, \\ldots, Y_{n}$ is obtained from $f$, we can approximate $\\mu$ by a sample average:\n",
    "\n",
    "$$\\hat{\\mu}_{MC} = \\frac{1}{n} \\sum\\limits_{i=1}^{n} h(Y_{i}) \\rightarrow \\int\\limits h(Y)f(Y)dy = \\mu$$\n",
    "\n",
    "as $n \\rightarrow \\infty$, by the strong law of large numbers. Further, let $v(y) = [h(Y) - \\mu]^{2}$, and assume that $H(Y)^{2}$ has finite expectation under $f$. Then the sampling variance of $\\hat{\\mu}_{MC}$ is $\\sigma^{2}/n = E\\{v(Y)/n\\}$, where the expectation is taken with respect to $f$. A similar Monte Carlo approach can be used to estimate $\\sigma^{2}$ by\n",
    "\n",
    "$$\\hat{var}\\{\\hat{\\mu}_{MC}\\} = \\frac{1}{n - 1} \\sum\\limits_{i=1}^{n} [h(Y_{i}) - \\hat{\\mu}_{MC}]^{2}$$\n",
    "\n",
    "When $\\sigma^{2}$ exists, the central limit theorem implies that $\\hat{\\mu}_{MC}$ has an approximate normal distribution for large $n$, so approximate confidence bounds and statistical inference for $\\mu$ follow.\n",
    "\n",
    "Monte Carlo integration offers slower convergence than other numerical methods for integration, so why should we use it? It turns out that Monte Carlo integration is less subject to the curse of dimensionality as other methods, so the Monte Carlo method is especially helpful for multidimensional problems. Also, some methods like quadrature require smoothness, while Monte Carlo ignores smoothness alrogether. \n",
    "\n",
    "### Approximating a Deterministic Definite Integral with the Monte Carlo Method\n",
    "\n",
    "Let's consider the simple function:\n",
    "\n",
    "$$f(x) = 4 - 4x^{2}$$\n",
    "\n",
    "and the following definite integral:\n",
    "\n",
    "$$\\int\\limits_{0}^{1} (4 - 4x^{2})dx$$\n",
    "\n",
    "This is a simple function to integrate and we can use analytical methods from calculus to solve it as follows:\n",
    "\n",
    "$$\\int\\limits_{0}^{1} (4 - 4x^{2})dx = (4x - \\frac{4}{3}x^{3})\\bigm|_{0}^{1} = (4(1) - \\frac{4}{3}(1)^{3}) - (4(0) - \\frac{4}{3}(0)^{3}) = \\frac{8}{3} \\approx 2.6667$$\n",
    "\n",
    "A useful tool if your calculus skills are rusty is ***[Wolfram Alpha](http://www.wolframalpha.com/input/?i=Integrate+4+-+4x%5E2+from+0+to+1)***.\n",
    "\n",
    "To use the Monte Carlo method to solve this integral numerically, we turn it into an expectation over a random variable:\n",
    "\n",
    "$$\\hat{\\mu}_{MC} = \\frac{1}{n} \\sum\\limits_{i=1}^{n} (4 - 4X_{i}^{2})$$\n",
    "\n",
    "where the $X_{i}$ are random draws from a uniform distribution on the interval $[0,1]$ for $i = 1, \\ldots, n$.\n",
    "\n",
    "Let's see how we can accomplish this in `Python`:"
   ]
  },
  {
   "cell_type": "code",
   "execution_count": null,
   "metadata": {
    "collapsed": false,
    "jupyter": {
     "outputs_hidden": false
    }
   },
   "outputs": [],
   "source": [
    "import numpy as np\n",
    "\n",
    "def f(x):\n",
    "    y = 4 - 4 * x ** 2\n",
    "    return y \n",
    "\n",
    "def main():\n",
    "    # Generate random values between 0 and 1\n",
    "    u = np.random.uniform(0, 1, size = 10**6)\n",
    "\n",
    "    # Evaluate the function for each value u\n",
    "    y = f(u)\n",
    "\n",
    "    # Approximate the integral with the mean\n",
    "    muhat = y.mean()\n",
    "    \n",
    "    # Print the answer\n",
    "    print(\"The Monte Carlo estimate of the integral is: %s\" % round(muhat, 4))\n",
    "    \n",
    "## Main function\n",
    "main()"
   ]
  }
 ],
 "metadata": {
  "anaconda-cloud": {},
  "kernelspec": {
   "display_name": "Python 3",
   "language": "python",
   "name": "python3"
  },
  "language_info": {
   "codemirror_mode": {
    "name": "ipython",
    "version": 3
   },
   "file_extension": ".py",
   "mimetype": "text/x-python",
   "name": "python",
   "nbconvert_exporter": "python",
   "pygments_lexer": "ipython3",
   "version": "3.8.5"
  }
 },
 "nbformat": 4,
 "nbformat_minor": 4
}
