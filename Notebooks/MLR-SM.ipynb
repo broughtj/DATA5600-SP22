{
 "cells": [
  {
   "cell_type": "markdown",
   "id": "a13d699c-3e7a-4b26-b782-71bfc939a827",
   "metadata": {},
   "source": [
    "## __Multiple Linear Regression with `Statsmodels`__"
   ]
  },
  {
   "cell_type": "code",
   "execution_count": 1,
   "id": "702bcf11-5291-42aa-8212-462bb66de8be",
   "metadata": {},
   "outputs": [],
   "source": [
    "import numpy as np\n",
    "import pandas as pd\n",
    "import scipy.stats as stats\n",
    "import matplotlib.pyplot as plt\n",
    "import statsmodels.api as sm"
   ]
  },
  {
   "cell_type": "code",
   "execution_count": 2,
   "id": "75d9e06c-76f8-4883-8f6a-967f8e7ecd3f",
   "metadata": {},
   "outputs": [],
   "source": [
    "df = pd.read_excel(\"data/FOREST.XLS\")"
   ]
  },
  {
   "cell_type": "code",
   "execution_count": 3,
   "id": "5c86bf0c-7c4d-46f8-9972-312dba87499e",
   "metadata": {},
   "outputs": [
    {
     "data": {
      "text/html": [
       "<div>\n",
       "<style scoped>\n",
       "    .dataframe tbody tr th:only-of-type {\n",
       "        vertical-align: middle;\n",
       "    }\n",
       "\n",
       "    .dataframe tbody tr th {\n",
       "        vertical-align: top;\n",
       "    }\n",
       "\n",
       "    .dataframe thead th {\n",
       "        text-align: right;\n",
       "    }\n",
       "</style>\n",
       "<table border=\"1\" class=\"dataframe\">\n",
       "  <thead>\n",
       "    <tr style=\"text-align: right;\">\n",
       "      <th></th>\n",
       "      <th>Forest loss</th>\n",
       "      <th>Pop dens</th>\n",
       "      <th>Crop ch</th>\n",
       "      <th>Pasture ch</th>\n",
       "    </tr>\n",
       "  </thead>\n",
       "  <tbody>\n",
       "    <tr>\n",
       "      <th>0</th>\n",
       "      <td>0.7</td>\n",
       "      <td>357.0</td>\n",
       "      <td>27.9</td>\n",
       "      <td>0.0</td>\n",
       "    </tr>\n",
       "    <tr>\n",
       "      <th>1</th>\n",
       "      <td>0.7</td>\n",
       "      <td>48.0</td>\n",
       "      <td>1.7</td>\n",
       "      <td>0.0</td>\n",
       "    </tr>\n",
       "    <tr>\n",
       "      <th>2</th>\n",
       "      <td>0.8</td>\n",
       "      <td>932.0</td>\n",
       "      <td>14.5</td>\n",
       "      <td>0.0</td>\n",
       "    </tr>\n",
       "    <tr>\n",
       "      <th>3</th>\n",
       "      <td>0.7</td>\n",
       "      <td>366.0</td>\n",
       "      <td>17.9</td>\n",
       "      <td>0.0</td>\n",
       "    </tr>\n",
       "    <tr>\n",
       "      <th>4</th>\n",
       "      <td>0.8</td>\n",
       "      <td>83.0</td>\n",
       "      <td>2.2</td>\n",
       "      <td>0.0</td>\n",
       "    </tr>\n",
       "  </tbody>\n",
       "</table>\n",
       "</div>"
      ],
      "text/plain": [
       "   Forest loss  Pop dens  Crop ch  Pasture ch\n",
       "0          0.7     357.0     27.9         0.0\n",
       "1          0.7      48.0      1.7         0.0\n",
       "2          0.8     932.0     14.5         0.0\n",
       "3          0.7     366.0     17.9         0.0\n",
       "4          0.8      83.0      2.2         0.0"
      ]
     },
     "execution_count": 3,
     "metadata": {},
     "output_type": "execute_result"
    }
   ],
   "source": [
    "df.head()"
   ]
  },
  {
   "cell_type": "code",
   "execution_count": 6,
   "id": "ac1253d4-bec9-4afe-a089-60800cabaf42",
   "metadata": {},
   "outputs": [
    {
     "name": "stdout",
     "output_type": "stream",
     "text": [
      "       Forest loss     Pop dens    Crop ch  Pasture ch\n",
      "count    70.000000    70.000000  70.000000   70.000000\n",
      "mean      1.138571   639.427000   6.937143    3.002857\n",
      "std       0.928189   726.339977   8.305022    8.444808\n",
      "min       0.000000     0.890000  -2.900000  -20.100000\n",
      "25%       0.600000   139.250000   1.550000    0.000000\n",
      "50%       0.900000   354.000000   3.900000    0.000000\n",
      "75%       1.375000   874.500000   8.750000    2.225000\n",
      "max       5.300000  2769.000000  39.700000   33.500000\n"
     ]
    }
   ],
   "source": [
    "print(df.describe())"
   ]
  },
  {
   "cell_type": "code",
   "execution_count": 7,
   "id": "f4942387-e677-4ef2-8878-4c40633b385f",
   "metadata": {},
   "outputs": [],
   "source": [
    "y = df['Forest loss']"
   ]
  },
  {
   "cell_type": "code",
   "execution_count": 9,
   "id": "5b2f72cf-3dac-4040-9260-50594d24142d",
   "metadata": {},
   "outputs": [],
   "source": [
    "X = np.ones((y.shape[0], 3))"
   ]
  },
  {
   "cell_type": "code",
   "execution_count": 10,
   "id": "abb30b2e-bd11-453c-a3ff-2e8d202337d6",
   "metadata": {},
   "outputs": [
    {
     "data": {
      "text/plain": [
       "array([[1., 1., 1.],\n",
       "       [1., 1., 1.],\n",
       "       [1., 1., 1.],\n",
       "       [1., 1., 1.],\n",
       "       [1., 1., 1.],\n",
       "       [1., 1., 1.],\n",
       "       [1., 1., 1.],\n",
       "       [1., 1., 1.],\n",
       "       [1., 1., 1.],\n",
       "       [1., 1., 1.]])"
      ]
     },
     "execution_count": 10,
     "metadata": {},
     "output_type": "execute_result"
    }
   ],
   "source": [
    "X[:10,:]"
   ]
  },
  {
   "cell_type": "code",
   "execution_count": 11,
   "id": "aaa5893c-118e-4d3c-b2e7-7c6fb28e4419",
   "metadata": {},
   "outputs": [],
   "source": [
    "X[:,1] = df['Pop dens']\n",
    "X[:,2] = df['Crop ch']"
   ]
  },
  {
   "cell_type": "code",
   "execution_count": 12,
   "id": "37082b7b-427e-402f-875f-e1e2e7a8a289",
   "metadata": {},
   "outputs": [],
   "source": [
    "reg = sm.OLS(y, X)\n",
    "results = reg.fit()"
   ]
  },
  {
   "cell_type": "code",
   "execution_count": 15,
   "id": "038fd2b2-ff35-4389-9243-d220e3318f79",
   "metadata": {},
   "outputs": [
    {
     "name": "stdout",
     "output_type": "stream",
     "text": [
      "                            OLS Regression Results                            \n",
      "==============================================================================\n",
      "Dep. Variable:            Forest loss   R-squared:                       0.435\n",
      "Model:                            OLS   Adj. R-squared:                  0.419\n",
      "Method:                 Least Squares   F-statistic:                     25.84\n",
      "Date:                Wed, 20 Apr 2022   Prob (F-statistic):           4.80e-09\n",
      "Time:                        15:40:17   Log-Likelihood:                -73.594\n",
      "No. Observations:                  70   AIC:                             153.2\n",
      "Df Residuals:                      67   BIC:                             159.9\n",
      "Df Model:                           2                                         \n",
      "Covariance Type:            nonrobust                                         \n",
      "==============================================================================\n",
      "                 coef    std err          t      P>|t|      [0.025      0.975]\n",
      "------------------------------------------------------------------------------\n",
      "const          0.5721      0.139      4.108      0.000       0.294       0.850\n",
      "x1             0.0008      0.000      7.166      0.000       0.001       0.001\n",
      "x2             0.0035      0.010      0.343      0.733      -0.017       0.024\n",
      "==============================================================================\n",
      "Omnibus:                       21.263   Durbin-Watson:                   2.058\n",
      "Prob(Omnibus):                  0.000   Jarque-Bera (JB):               35.009\n",
      "Skew:                           1.115   Prob(JB):                     2.50e-08\n",
      "Kurtosis:                       5.652   Cond. No.                     1.59e+03\n",
      "==============================================================================\n",
      "\n",
      "Notes:\n",
      "[1] Standard Errors assume that the covariance matrix of the errors is correctly specified.\n",
      "[2] The condition number is large, 1.59e+03. This might indicate that there are\n",
      "strong multicollinearity or other numerical problems.\n"
     ]
    }
   ],
   "source": [
    "print(results.summary())"
   ]
  },
  {
   "cell_type": "code",
   "execution_count": null,
   "id": "b9ca20b9-3f5a-464e-974f-b8d516340d5a",
   "metadata": {},
   "outputs": [],
   "source": []
  },
  {
   "cell_type": "code",
   "execution_count": null,
   "id": "1974ad34-5deb-4904-aa0b-ff34845ac2ed",
   "metadata": {},
   "outputs": [],
   "source": []
  },
  {
   "cell_type": "code",
   "execution_count": null,
   "id": "e72091ee-8ae8-47ff-a5d0-cfd1a2a90602",
   "metadata": {},
   "outputs": [],
   "source": []
  },
  {
   "cell_type": "code",
   "execution_count": null,
   "id": "944105d1-44b1-42b7-a837-afcd034a3224",
   "metadata": {},
   "outputs": [],
   "source": []
  },
  {
   "cell_type": "code",
   "execution_count": 17,
   "id": "58f1aa3d-bc84-48de-8f37-10cd0be026a7",
   "metadata": {},
   "outputs": [
    {
     "data": {
      "text/plain": [
       "0.035855340972829164"
      ]
     },
     "execution_count": 17,
     "metadata": {},
     "output_type": "execute_result"
    }
   ],
   "source": [
    "1.0 - stats.t(40).cdf(1.85)"
   ]
  },
  {
   "cell_type": "code",
   "execution_count": null,
   "id": "95e9bdf6-ab4b-413b-84d1-f0e8dd526c2b",
   "metadata": {},
   "outputs": [],
   "source": []
  }
 ],
 "metadata": {
  "kernelspec": {
   "display_name": "Python 3 (ipykernel)",
   "language": "python",
   "name": "python3"
  },
  "language_info": {
   "codemirror_mode": {
    "name": "ipython",
    "version": 3
   },
   "file_extension": ".py",
   "mimetype": "text/x-python",
   "name": "python",
   "nbconvert_exporter": "python",
   "pygments_lexer": "ipython3",
   "version": "3.8.5"
  }
 },
 "nbformat": 4,
 "nbformat_minor": 5
}
