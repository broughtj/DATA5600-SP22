{
 "cells": [
  {
   "cell_type": "code",
   "execution_count": 1,
   "id": "d6ee341f-c520-4fdb-8386-53554c6c3b64",
   "metadata": {},
   "outputs": [
    {
     "data": {
      "text/plain": [
       "8"
      ]
     },
     "execution_count": 1,
     "metadata": {},
     "output_type": "execute_result"
    }
   ],
   "source": [
    "2 + 6"
   ]
  },
  {
   "cell_type": "code",
   "execution_count": 2,
   "id": "b415132d-f227-4c49-86bf-08e15a49810b",
   "metadata": {},
   "outputs": [],
   "source": [
    "from scipy import stats"
   ]
  },
  {
   "cell_type": "code",
   "execution_count": 3,
   "id": "d02dbd66-82fc-4856-8333-20eb6bdc670e",
   "metadata": {},
   "outputs": [
    {
     "data": {
      "text/plain": [
       "\u001b[0;31mSignature:\u001b[0m       \u001b[0mstats\u001b[0m\u001b[0;34m.\u001b[0m\u001b[0mbinom\u001b[0m\u001b[0;34m(\u001b[0m\u001b[0;34m*\u001b[0m\u001b[0margs\u001b[0m\u001b[0;34m,\u001b[0m \u001b[0;34m**\u001b[0m\u001b[0mkwds\u001b[0m\u001b[0;34m)\u001b[0m\u001b[0;34m\u001b[0m\u001b[0;34m\u001b[0m\u001b[0m\n",
       "\u001b[0;31mType:\u001b[0m            binom_gen\n",
       "\u001b[0;31mString form:\u001b[0m     <scipy.stats._discrete_distns.binom_gen object at 0x7f83291cdac0>\n",
       "\u001b[0;31mFile:\u001b[0m            ~/anaconda3/lib/python3.8/site-packages/scipy/stats/_discrete_distns.py\n",
       "\u001b[0;31mDocstring:\u001b[0m      \n",
       "A binomial discrete random variable.\n",
       "\n",
       "As an instance of the `rv_discrete` class, `binom` object inherits from it\n",
       "a collection of generic methods (see below for the full list),\n",
       "and completes them with details specific for this particular distribution.\n",
       "\n",
       "Methods\n",
       "-------\n",
       "rvs(n, p, loc=0, size=1, random_state=None)\n",
       "    Random variates.\n",
       "pmf(k, n, p, loc=0)\n",
       "    Probability mass function.\n",
       "logpmf(k, n, p, loc=0)\n",
       "    Log of the probability mass function.\n",
       "cdf(k, n, p, loc=0)\n",
       "    Cumulative distribution function.\n",
       "logcdf(k, n, p, loc=0)\n",
       "    Log of the cumulative distribution function.\n",
       "sf(k, n, p, loc=0)\n",
       "    Survival function  (also defined as ``1 - cdf``, but `sf` is sometimes more accurate).\n",
       "logsf(k, n, p, loc=0)\n",
       "    Log of the survival function.\n",
       "ppf(q, n, p, loc=0)\n",
       "    Percent point function (inverse of ``cdf`` --- percentiles).\n",
       "isf(q, n, p, loc=0)\n",
       "    Inverse survival function (inverse of ``sf``).\n",
       "stats(n, p, loc=0, moments='mv')\n",
       "    Mean('m'), variance('v'), skew('s'), and/or kurtosis('k').\n",
       "entropy(n, p, loc=0)\n",
       "    (Differential) entropy of the RV.\n",
       "expect(func, args=(n, p), loc=0, lb=None, ub=None, conditional=False)\n",
       "    Expected value of a function (of one argument) with respect to the distribution.\n",
       "median(n, p, loc=0)\n",
       "    Median of the distribution.\n",
       "mean(n, p, loc=0)\n",
       "    Mean of the distribution.\n",
       "var(n, p, loc=0)\n",
       "    Variance of the distribution.\n",
       "std(n, p, loc=0)\n",
       "    Standard deviation of the distribution.\n",
       "interval(alpha, n, p, loc=0)\n",
       "    Endpoints of the range that contains alpha percent of the distribution\n",
       "\n",
       "Notes\n",
       "-----\n",
       "The probability mass function for `binom` is:\n",
       "\n",
       ".. math::\n",
       "\n",
       "   f(k) = \\binom{n}{k} p^k (1-p)^{n-k}\n",
       "\n",
       "for ``k`` in ``{0, 1,..., n}``, :math:`0 \\leq p \\leq 1`\n",
       "\n",
       "`binom` takes ``n`` and ``p`` as shape parameters,\n",
       "where :math:`p` is the probability of a single success \n",
       "and :math:`1-p` is the probability of a single failure. \n",
       "\n",
       "The probability mass function above is defined in the \"standardized\" form.\n",
       "To shift distribution use the ``loc`` parameter.\n",
       "Specifically, ``binom.pmf(k, n, p, loc)`` is identically\n",
       "equivalent to ``binom.pmf(k - loc, n, p)``.\n",
       "\n",
       "Examples\n",
       "--------\n",
       ">>> from scipy.stats import binom\n",
       ">>> import matplotlib.pyplot as plt\n",
       ">>> fig, ax = plt.subplots(1, 1)\n",
       "\n",
       "Calculate a few first moments:\n",
       "\n",
       ">>> n, p = 5, 0.4\n",
       ">>> mean, var, skew, kurt = binom.stats(n, p, moments='mvsk')\n",
       "\n",
       "Display the probability mass function (``pmf``):\n",
       "\n",
       ">>> x = np.arange(binom.ppf(0.01, n, p),\n",
       "...               binom.ppf(0.99, n, p))\n",
       ">>> ax.plot(x, binom.pmf(x, n, p), 'bo', ms=8, label='binom pmf')\n",
       ">>> ax.vlines(x, 0, binom.pmf(x, n, p), colors='b', lw=5, alpha=0.5)\n",
       "\n",
       "Alternatively, the distribution object can be called (as a function)\n",
       "to fix the shape and location. This returns a \"frozen\" RV object holding\n",
       "the given parameters fixed.\n",
       "\n",
       "Freeze the distribution and display the frozen ``pmf``:\n",
       "\n",
       ">>> rv = binom(n, p)\n",
       ">>> ax.vlines(x, 0, rv.pmf(x), colors='k', linestyles='-', lw=1,\n",
       "...         label='frozen pmf')\n",
       ">>> ax.legend(loc='best', frameon=False)\n",
       ">>> plt.show()\n",
       "\n",
       "Check accuracy of ``cdf`` and ``ppf``:\n",
       "\n",
       ">>> prob = binom.cdf(x, n, p)\n",
       ">>> np.allclose(x, binom.ppf(prob, n, p))\n",
       "True\n",
       "\n",
       "Generate random numbers:\n",
       "\n",
       ">>> r = binom.rvs(n, p, size=1000)\n",
       "\n",
       "See Also\n",
       "--------\n",
       "hypergeom, nbinom, nhypergeom\n",
       "\u001b[0;31mClass docstring:\u001b[0m\n",
       "A binomial discrete random variable.\n",
       "\n",
       "%(before_notes)s\n",
       "\n",
       "Notes\n",
       "-----\n",
       "The probability mass function for `binom` is:\n",
       "\n",
       ".. math::\n",
       "\n",
       "   f(k) = \\binom{n}{k} p^k (1-p)^{n-k}\n",
       "\n",
       "for ``k`` in ``{0, 1,..., n}``, :math:`0 \\leq p \\leq 1`\n",
       "\n",
       "`binom` takes ``n`` and ``p`` as shape parameters,\n",
       "where :math:`p` is the probability of a single success \n",
       "and :math:`1-p` is the probability of a single failure. \n",
       "\n",
       "%(after_notes)s\n",
       "\n",
       "%(example)s\n",
       "\n",
       "See Also\n",
       "--------\n",
       "hypergeom, nbinom, nhypergeom\n",
       "\u001b[0;31mCall docstring:\u001b[0m \n",
       "Freeze the distribution for the given arguments.\n",
       "\n",
       "Parameters\n",
       "----------\n",
       "arg1, arg2, arg3,... : array_like\n",
       "    The shape parameter(s) for the distribution.  Should include all\n",
       "    the non-optional arguments, may include ``loc`` and ``scale``.\n",
       "\n",
       "Returns\n",
       "-------\n",
       "rv_frozen : rv_frozen instance\n",
       "    The frozen distribution.\n"
      ]
     },
     "metadata": {},
     "output_type": "display_data"
    }
   ],
   "source": [
    "stats.binom?"
   ]
  },
  {
   "cell_type": "markdown",
   "id": "81eee139-7d44-480f-8ca5-0852b6f773e5",
   "metadata": {},
   "source": [
    "This is text. \n",
    "\n",
    "\n",
    "This is _italicized text_ and *so is this*\n",
    "\n",
    "This is __bold text__ or **bold text**\n",
    "\n",
    "This is ___both___ \n",
    "\n",
    "This is ~strikethrough~\n",
    "\n",
    "We can itemized lists:\n",
    "\n",
    "* Item 1\n",
    "\n",
    "* Item 2\n",
    "    - subitem a.\n",
    "    - subitem b.\n",
    "    \n",
    "* Item 3\n",
    "\n",
    "\n",
    "We can numbered lists:\n",
    "\n",
    "1. Item 1\n",
    "2. Item 2\n",
    "3. Item 3\n",
    "\n",
    "This is a binomial probabililty mass function\n",
    "\n",
    "<br>\n",
    "<br>\n",
    "\n",
    "$$\n",
    "{\\Large f(x) = {n \\choose x} \\theta^{x} (1 - \\theta)^{n-x}}\n",
    "$$\n",
    "\n",
    "\n",
    "<br>\n",
    "<br>\n",
    "\n",
    "Let's see how to do the sample mean:\n",
    "\n",
    "<br>\n",
    "\n",
    "$$\n",
    "\\bar{x} = \\frac{1}{n}\\sum\\limits_{i=1}^{n} x_{i}\n",
    "$$\n",
    "\n",
    "<br>\n",
    "\n",
    "This in inline math: $\\bar{x}$ is the sample mean."
   ]
  },
  {
   "cell_type": "code",
   "execution_count": 4,
   "id": "b90283f7-e1ba-4185-a439-d5d6ba81944e",
   "metadata": {},
   "outputs": [
    {
     "data": {
      "text/plain": [
       "\u001b[0;31mSignature:\u001b[0m \u001b[0mstats\u001b[0m\u001b[0;34m.\u001b[0m\u001b[0mbinom\u001b[0m\u001b[0;34m.\u001b[0m\u001b[0mpmf\u001b[0m\u001b[0;34m(\u001b[0m\u001b[0mk\u001b[0m\u001b[0;34m,\u001b[0m \u001b[0;34m*\u001b[0m\u001b[0margs\u001b[0m\u001b[0;34m,\u001b[0m \u001b[0;34m**\u001b[0m\u001b[0mkwds\u001b[0m\u001b[0;34m)\u001b[0m\u001b[0;34m\u001b[0m\u001b[0;34m\u001b[0m\u001b[0m\n",
       "\u001b[0;31mDocstring:\u001b[0m\n",
       "Probability mass function at k of the given RV.\n",
       "\n",
       "Parameters\n",
       "----------\n",
       "k : array_like\n",
       "    Quantiles.\n",
       "arg1, arg2, arg3,... : array_like\n",
       "    The shape parameter(s) for the distribution (see docstring of the\n",
       "    instance object for more information)\n",
       "loc : array_like, optional\n",
       "    Location parameter (default=0).\n",
       "\n",
       "Returns\n",
       "-------\n",
       "pmf : array_like\n",
       "    Probability mass function evaluated at k\n",
       "\u001b[0;31mFile:\u001b[0m      ~/anaconda3/lib/python3.8/site-packages/scipy/stats/_distn_infrastructure.py\n",
       "\u001b[0;31mType:\u001b[0m      method\n"
      ]
     },
     "metadata": {},
     "output_type": "display_data"
    }
   ],
   "source": [
    "stats.binom.pmf?"
   ]
  },
  {
   "cell_type": "markdown",
   "id": "0f448a31-08cf-4b78-8afc-4faba76e3ea3",
   "metadata": {},
   "source": [
    "$$f(k) = \\binom{n}{k} p^k (1-p)^{n-k}$$"
   ]
  },
  {
   "cell_type": "code",
   "execution_count": 8,
   "id": "8ea07039-77e2-4c41-9660-6ebd621fe794",
   "metadata": {},
   "outputs": [
    {
     "data": {
      "text/plain": [
       "0.014785766601562429"
      ]
     },
     "execution_count": 8,
     "metadata": {},
     "output_type": "execute_result"
    }
   ],
   "source": [
    "stats.binom(20, 0.5).pmf(5)"
   ]
  },
  {
   "cell_type": "code",
   "execution_count": null,
   "id": "f1f78ce0-4991-4acc-923e-517b4576e8e8",
   "metadata": {},
   "outputs": [],
   "source": []
  }
 ],
 "metadata": {
  "kernelspec": {
   "display_name": "Python 3",
   "language": "python",
   "name": "python3"
  },
  "language_info": {
   "codemirror_mode": {
    "name": "ipython",
    "version": 3
   },
   "file_extension": ".py",
   "mimetype": "text/x-python",
   "name": "python",
   "nbconvert_exporter": "python",
   "pygments_lexer": "ipython3",
   "version": "3.8.5"
  }
 },
 "nbformat": 4,
 "nbformat_minor": 5
}
