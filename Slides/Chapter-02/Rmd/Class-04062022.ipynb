{
 "cells": [
  {
   "cell_type": "code",
   "execution_count": 9,
   "id": "94786218-ef7c-4555-9057-7a3acd83e0c7",
   "metadata": {},
   "outputs": [],
   "source": [
    "import numpy as np\n",
    "import scipy.stats as stats"
   ]
  },
  {
   "cell_type": "code",
   "execution_count": 2,
   "id": "a5c8e41f-cfbf-4b0f-b02c-d3462f8e5ba5",
   "metadata": {},
   "outputs": [],
   "source": [
    "x = np.random.uniform(size=100)"
   ]
  },
  {
   "cell_type": "code",
   "execution_count": 6,
   "id": "b886b70d-44dc-4d58-a732-9329a8520ced",
   "metadata": {},
   "outputs": [
    {
     "data": {
      "text/plain": [
       "array([0.94574717, 0.01374145, 0.17507934, 0.13354437, 0.22466553,\n",
       "       0.11463248, 0.47741061, 0.56471346, 0.34125056, 0.15643875])"
      ]
     },
     "execution_count": 6,
     "metadata": {},
     "output_type": "execute_result"
    }
   ],
   "source": [
    "x[:10]"
   ]
  },
  {
   "cell_type": "code",
   "execution_count": 4,
   "id": "7a8eaad8-224d-42a7-b510-2ec16407b9d7",
   "metadata": {},
   "outputs": [],
   "source": [
    "α = 7.0\n",
    "β = 2.5"
   ]
  },
  {
   "cell_type": "code",
   "execution_count": 5,
   "id": "5daf2a20-4635-4d67-9673-d054eb9006c5",
   "metadata": {},
   "outputs": [],
   "source": [
    "u = np.random.normal(size=100)"
   ]
  },
  {
   "cell_type": "code",
   "execution_count": 7,
   "id": "77b7ef7a-b92a-494e-b789-98eb82fe50e3",
   "metadata": {},
   "outputs": [],
   "source": [
    "y = α + β * x + u"
   ]
  },
  {
   "cell_type": "code",
   "execution_count": 8,
   "id": "beed82c0-9a27-41d9-b20a-4d3715e465aa",
   "metadata": {},
   "outputs": [
    {
     "data": {
      "text/plain": [
       "array([10.02567699,  6.915806  ,  7.49979164,  7.81656327,  7.66013087,\n",
       "        6.86181669,  6.22224139,  8.63083305,  7.80327031,  6.54102659,\n",
       "        7.48160923,  8.47668819,  7.0636814 ,  8.91736065,  8.19728702,\n",
       "       10.37738754, 10.75487955,  4.69266956,  5.45506379,  9.3070064 ,\n",
       "        9.19479646, 10.38199409,  8.92933687,  8.64509308,  8.45550776,\n",
       "        7.75288279,  9.34610203,  7.01145723, 10.59205535,  8.07224371,\n",
       "       10.22925607,  6.62896066,  9.35171916,  7.30184404,  7.46350567,\n",
       "        7.29820972,  6.94034237,  7.90983148,  9.57442942,  9.24713849,\n",
       "        9.09383071,  7.98858637,  9.90295494,  8.66979854,  8.6050858 ,\n",
       "        6.96458217,  8.53757455,  8.00586863,  9.71495169,  8.03618219,\n",
       "        8.33555536,  8.73630422,  6.7226908 ,  7.20228431,  9.25289506,\n",
       "        7.1562954 ,  8.16745967,  9.15488925,  6.60646029,  7.52416531,\n",
       "        6.9396692 ,  8.08093576,  9.55725805,  7.71063897,  7.18884899,\n",
       "        8.37581677,  7.72388983,  9.43326617,  8.3138913 ,  7.49529667,\n",
       "        7.02471324,  9.10744669,  8.67921788,  6.29677853, 10.24067058,\n",
       "        8.73503157,  7.31710263,  7.32937354,  6.56059346,  7.48205333,\n",
       "        9.47591935,  8.62087792,  9.30937831,  6.80764224,  9.04853759,\n",
       "        5.07870327,  7.5401746 ,  8.74452917,  6.81221128,  6.25772244,\n",
       "        9.88695389,  8.56778109,  8.75872829,  8.74902626,  8.74992   ,\n",
       "        6.57857298,  7.86598621,  7.41137672,  9.12841211,  9.72891541])"
      ]
     },
     "execution_count": 8,
     "metadata": {},
     "output_type": "execute_result"
    }
   ],
   "source": [
    "y"
   ]
  },
  {
   "cell_type": "code",
   "execution_count": 10,
   "id": "2a2bd191-0231-4788-86e7-51b2d327c6ec",
   "metadata": {},
   "outputs": [
    {
     "data": {
      "text/plain": [
       "LinregressResult(slope=2.5224965586737884, intercept=6.948918273482351, rvalue=0.5885897808693534, pvalue=1.1929325690935413e-10, stderr=0.3499840453893421, intercept_stderr=0.19353641969238022)"
      ]
     },
     "execution_count": 10,
     "metadata": {},
     "output_type": "execute_result"
    }
   ],
   "source": [
    "stats.linregress(x, y)"
   ]
  },
  {
   "cell_type": "code",
   "execution_count": null,
   "id": "27b9599b-cb1e-4dc5-96f0-d464b293882f",
   "metadata": {},
   "outputs": [],
   "source": []
  }
 ],
 "metadata": {
  "kernelspec": {
   "display_name": "Python 3 (ipykernel)",
   "language": "python",
   "name": "python3"
  },
  "language_info": {
   "codemirror_mode": {
    "name": "ipython",
    "version": 3
   },
   "file_extension": ".py",
   "mimetype": "text/x-python",
   "name": "python",
   "nbconvert_exporter": "python",
   "pygments_lexer": "ipython3",
   "version": "3.8.5"
  }
 },
 "nbformat": 4,
 "nbformat_minor": 5
}
